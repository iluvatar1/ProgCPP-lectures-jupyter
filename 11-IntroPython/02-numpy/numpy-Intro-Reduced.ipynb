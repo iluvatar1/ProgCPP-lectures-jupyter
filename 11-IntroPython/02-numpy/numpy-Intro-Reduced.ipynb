{
 "cells": [
  {
   "cell_type": "markdown",
   "id": "6bdb43a8-bbf2-4f7d-9ad4-c42fdd92de00",
   "metadata": {},
   "source": [
    "Before you turn this problem in, make sure everything runs as expected. First, **restart the kernel** (in the menubar, select Kernel$\\rightarrow$Restart) and then **run all cells** (in the menubar, select Cell$\\rightarrow$Run All).\n",
    "\n",
    "Make sure you fill in any place that says `YOUR CODE HERE` or \"YOUR ANSWER HERE\", as well as your name and collaborators below:"
   ]
  },
  {
   "cell_type": "code",
   "execution_count": null,
   "id": "cba1c46c-bbc6-446d-b610-8095fc85ffb0",
   "metadata": {},
   "outputs": [],
   "source": [
    "NAME = \"\"\n",
    "COLLABORATORS = \"NONE\""
   ]
  },
  {
   "cell_type": "markdown",
   "id": "5c24a8f1",
   "metadata": {},
   "source": [
    "# Python arrays : Numpy\n",
    "\n",
    "**REF:** Scipy tutorial and A primer of Scientific Programming with Python. \n",
    "\n",
    "The numerical python package, `numpy`, allows for easy and efficient manipulation of vectorial data. In this context, it is important to remark some of the so-called `vectorial` computation. Let's give an example. Imagine a two dimensional vector $a$. How would you represent it using python? You coul use either a list, a tuple, etc:\n",
    "\n",
    "    a1 = [x, y]\n",
    "    a2 = (x, y)\n",
    "    \n",
    "Of course, it can be  generalized to more dimensions:\n",
    "\n",
    "    a1 = [x, y, z, w]\n",
    "    a2 = [0.0, -0.9, 1, -3, 9, ... , 90]\n",
    "   \n",
    "Managing vectors by using these typical python constructs is very good from a general programmer point of view, but it has its costs. For example, iterating over a lits by means of a for loop could be very slow. Actually, for typical problemas of computational mathematics and physics, only homogeneous storage structs with fast access are needed, like the arrays of languages like c++, fortran, etc. Arrays might be more limited than general lists, but could vastly outperform lists and tuples for vectorial computations. The `numpy` package provides array like structs to perform fast mathematical operations on numerical data.\n",
    "\n",
    "Furthermore, vectorial operations are natural on numpy arrays. But what is a vectorial operation? Let's assume we have a vector $v$ of $n$-components. What would be the meaning of something like\n",
    "    u = sin(v)\n",
    "? in the context of vectorial computing, it would mean to apply the function `sin` to every component of the vector `v`, therefore $u_i = \\sin(v_i)$. In general, given a function $f$, the expression $u = f(v)$ means $u_i = f(v_i)$. Numpy allows for this kind of computing. What would be the meaning of \n",
    "    u = v^2*cos(v)*e^v + 2\n",
    "?\n",
    "\n",
    "REFS:\n",
    "- https://jalammar.github.io/visual-numpy/\n",
    "- https://betterprogramming.pub/numpy-illustrated-the-visual-guide-to-numpy-3b1d4976de1d\n",
    "\n",
    "## Basic numpy\n",
    "Try the following code snippet:"
   ]
  },
  {
   "cell_type": "code",
   "execution_count": 8,
   "id": "0da32c46-bc02-4ca5-a206-9e424dffdbeb",
   "metadata": {},
   "outputs": [
    {
     "name": "stdout",
     "output_type": "stream",
     "text": [
      "(2, 3)\n",
      "[[1 4]\n",
      " [2 5]\n",
      " [3 6]]\n",
      "(2, 3)\n"
     ]
    }
   ],
   "source": [
    "import numpy as np\n",
    "data = np.array([[1,2,3],[4, 5, 6]])\n",
    "print(data.shape)\n",
    "#data = data.reshape((3, 2))\n",
    "#print(data)\n",
    "#print(data.shape)\n",
    "print(data.transpose())\n",
    "print(data.shape)"
   ]
  },
  {
   "cell_type": "code",
   "execution_count": 13,
   "id": "1d4f27dd-111f-4647-93f1-24a9824e071a",
   "metadata": {},
   "outputs": [
    {
     "name": "stdout",
     "output_type": "stream",
     "text": [
      "[[[5. 5.]\n",
      "  [5. 5.]\n",
      "  [5. 5.]]\n",
      "\n",
      " [[5. 5.]\n",
      "  [5. 5.]\n",
      "  [5. 5.]]]\n",
      "(2, 3, 2)\n"
     ]
    }
   ],
   "source": [
    "data = 5*np.ones([2,3,2])\n",
    "print(data)\n",
    "print(data.shape)"
   ]
  },
  {
   "cell_type": "code",
   "execution_count": 16,
   "id": "383fa74a-7284-4943-a86e-7058815b4eaa",
   "metadata": {},
   "outputs": [
    {
     "name": "stdout",
     "output_type": "stream",
     "text": [
      "[3 4]\n"
     ]
    }
   ],
   "source": [
    "data = np.array([[1,2],[3,4],[5,6]])\n",
    "print(data[1,:])"
   ]
  },
  {
   "cell_type": "code",
   "execution_count": null,
   "id": "d2df9e39",
   "metadata": {},
   "outputs": [],
   "source": [
    "import numpy as np\n",
    "a = np.array([0, 1.0, '3', 5])\n",
    "print (a)\n",
    "a.dtype"
   ]
  },
  {
   "cell_type": "markdown",
   "id": "06efc7dd",
   "metadata": {},
   "source": [
    "This means: we are importing the numpy package with the name np. Then, we create an numpy array by using the `np.array` function from a list of values, and assign the result to the variable `a`. What is `a`? use `a?` . The array `a` has several attributes which you can use later, like the shape and type of the internal data. \n",
    "\n",
    "Let's now compare the efficiency of a list versus a numpy array, by means of the %timeit magic function of ipython:"
   ]
  },
  {
   "cell_type": "code",
   "execution_count": 19,
   "id": "8fcdea75",
   "metadata": {},
   "outputs": [
    {
     "name": "stdout",
     "output_type": "stream",
     "text": [
      "21.6 ms ± 467 µs per loop (mean ± std. dev. of 7 runs, 10 loops each)\n"
     ]
    }
   ],
   "source": [
    "L = range(100000)\n",
    "%timeit [i**2 for i in L]"
   ]
  },
  {
   "cell_type": "code",
   "execution_count": 22,
   "id": "f009392b",
   "metadata": {},
   "outputs": [
    {
     "name": "stdout",
     "output_type": "stream",
     "text": [
      "28.7 µs ± 486 ns per loop (mean ± std. dev. of 7 runs, 10,000 loops each)\n"
     ]
    }
   ],
   "source": [
    "a = np.arange(100000)\n",
    "%timeit np.square(a)"
   ]
  },
  {
   "cell_type": "markdown",
   "id": "00fac31a",
   "metadata": {},
   "source": [
    "You can extract some info like the shape and the dimension as "
   ]
  },
  {
   "cell_type": "code",
   "execution_count": 23,
   "id": "44cc8d01",
   "metadata": {},
   "outputs": [
    {
     "data": {
      "text/plain": [
       "1"
      ]
     },
     "execution_count": 23,
     "metadata": {},
     "output_type": "execute_result"
    }
   ],
   "source": [
    "a.ndim"
   ]
  },
  {
   "cell_type": "code",
   "execution_count": 24,
   "id": "64a32732",
   "metadata": {},
   "outputs": [
    {
     "data": {
      "text/plain": [
       "(100000,)"
      ]
     },
     "execution_count": 24,
     "metadata": {},
     "output_type": "execute_result"
    }
   ],
   "source": [
    "a.shape"
   ]
  },
  {
   "cell_type": "code",
   "execution_count": 25,
   "id": "13d6f532",
   "metadata": {},
   "outputs": [
    {
     "data": {
      "text/plain": [
       "dtype('int64')"
      ]
     },
     "execution_count": 25,
     "metadata": {},
     "output_type": "execute_result"
    }
   ],
   "source": [
    "a.dtype"
   ]
  },
  {
   "cell_type": "markdown",
   "id": "4896257f",
   "metadata": {},
   "source": [
    "### Alternative ways to create arrays\n",
    "\n",
    "    a = np.arange(10)\n",
    "    b = np.arange(1, 9, 2)\n",
    "    \n",
    "The function `linspace` is very useful. It allows to create a uniform partition on a given interval for a given number of points. For example, to create an array of 100 points uniformly on the interval [2, 3], you can use  "
   ]
  },
  {
   "cell_type": "code",
   "execution_count": 30,
   "id": "c428bf49",
   "metadata": {},
   "outputs": [
    {
     "name": "stdout",
     "output_type": "stream",
     "text": [
      "[2.         2.33333333 2.66666667 3.        ]\n",
      "(4,)\n",
      "float64\n"
     ]
    }
   ],
   "source": [
    "a = np.linspace(2, 3, 4)\n",
    "print (a)\n",
    "print(a.shape)\n",
    "print(a.dtype)"
   ]
  },
  {
   "cell_type": "code",
   "execution_count": 32,
   "id": "92b79a8f",
   "metadata": {},
   "outputs": [
    {
     "name": "stdout",
     "output_type": "stream",
     "text": [
      "<memory at 0x127ead620> <memory at 0x127ead6c0> <memory at 0x127ead760>\n"
     ]
    }
   ],
   "source": [
    "# Check the memory address\n",
    "print(a[0].data, a[1].data, a[2].data)"
   ]
  },
  {
   "cell_type": "markdown",
   "id": "c63a3531",
   "metadata": {},
   "source": [
    "Check the documentation.\n",
    "\n",
    "You can also create several other types of useful arrays like"
   ]
  },
  {
   "cell_type": "code",
   "execution_count": 33,
   "id": "1ed6ab82",
   "metadata": {},
   "outputs": [
    {
     "name": "stdout",
     "output_type": "stream",
     "text": [
      "[[1. 1. 1. 1.]\n",
      " [1. 1. 1. 1.]\n",
      " [1. 1. 1. 1.]]\n"
     ]
    }
   ],
   "source": [
    "a = np.ones((3, 4)) # shape is a tuple\n",
    "print (a)"
   ]
  },
  {
   "cell_type": "code",
   "execution_count": 44,
   "id": "640d878c",
   "metadata": {},
   "outputs": [
    {
     "name": "stdout",
     "output_type": "stream",
     "text": [
      "[0.4359949  0.02592623 0.54966248 0.43532239]\n"
     ]
    }
   ],
   "source": [
    "np.random.seed(2)\n",
    "a = np.random.rand(4)\n",
    "print (a)"
   ]
  },
  {
   "cell_type": "markdown",
   "id": "cbc1edb2",
   "metadata": {},
   "source": [
    "## Indexing and slicing\n",
    "\n",
    "Numpy allows for powerfull and efficient access to internal members of arrays"
   ]
  },
  {
   "cell_type": "code",
   "execution_count": 45,
   "id": "4affe525",
   "metadata": {},
   "outputs": [
    {
     "data": {
      "image/png": "[encoded data removed]",
      "text/plain": [
       "<IPython.core.display.Image object>"
      ]
     },
     "execution_count": 45,
     "metadata": {},
     "output_type": "execute_result"
    }
   ],
   "source": [
    "from IPython.core.display import Image \n",
    "Image(filename='slicing.png')"
   ]
  },
  {
   "cell_type": "markdown",
   "id": "632baa5a",
   "metadata": {},
   "source": [
    "## Copies and Views \n",
    "\n",
    "A slicing operation creates a __view__ of the original array, not a copy (in contrast, an slice of a list creates a new list). A modification of a view, modifies the original array:"
   ]
  },
  {
   "cell_type": "code",
   "execution_count": 46,
   "id": "a419f501",
   "metadata": {},
   "outputs": [
    {
     "name": "stdout",
     "output_type": "stream",
     "text": [
      "[0 1 2 3 4 5 6 7 8 9]\n",
      "[0 2 4 6 8]\n",
      "[12  2  4  6  8]\n",
      "[12  1  2  3  4  5  6  7  8  9]\n"
     ]
    }
   ],
   "source": [
    "a = np.arange(10)\n",
    "print (a)\n",
    "b = a[::2]\n",
    "print (b)\n",
    "b[0] = 12\n",
    "print (b)\n",
    "print (a)"
   ]
  },
  {
   "cell_type": "markdown",
   "id": "38f4eb1e",
   "metadata": {},
   "source": [
    "But, if you really need a copy, you can use the `.copy` method:"
   ]
  },
  {
   "cell_type": "code",
   "execution_count": 47,
   "id": "e6061571",
   "metadata": {},
   "outputs": [
    {
     "name": "stdout",
     "output_type": "stream",
     "text": [
      "[0 1 2 3 4 5 6 7 8 9]\n",
      "[0 1 2 3 4 5 6 7 8 9]\n",
      "[12  2  4  6  8]\n"
     ]
    }
   ],
   "source": [
    "a = np.arange(10)\n",
    "print (a)\n",
    "c = a[::2].copy()\n",
    "c[0] = 12\n",
    "print (a)\n",
    "print (c)"
   ]
  },
  {
   "cell_type": "markdown",
   "id": "32572062",
   "metadata": {},
   "source": [
    "### Indexing with integers"
   ]
  },
  {
   "cell_type": "code",
   "execution_count": 49,
   "id": "6c6cb587",
   "metadata": {},
   "outputs": [
    {
     "name": "stdout",
     "output_type": "stream",
     "text": [
      "[ 0 10 20 30 40 50 60 70 80 90]\n"
     ]
    },
    {
     "data": {
      "text/plain": [
       "array([20, 30, 20, 40, 20])"
      ]
     },
     "execution_count": 49,
     "metadata": {},
     "output_type": "execute_result"
    }
   ],
   "source": [
    "a = np.arange(0, 100, 10)\n",
    "print (a)\n",
    "a[[2, 3, 2, 4, 2]]"
   ]
  },
  {
   "cell_type": "code",
   "execution_count": 50,
   "id": "c2d81a37",
   "metadata": {},
   "outputs": [
    {
     "name": "stdout",
     "output_type": "stream",
     "text": [
      "[   0   10   20   30   40   50   60 -100   80 -100]\n"
     ]
    }
   ],
   "source": [
    "a[[9, 7]] = -100\n",
    "print (a)"
   ]
  },
  {
   "cell_type": "code",
   "execution_count": 51,
   "id": "9f17ae59",
   "metadata": {},
   "outputs": [
    {
     "name": "stdout",
     "output_type": "stream",
     "text": [
      "[False False False False False  True  True False  True False]\n"
     ]
    },
    {
     "data": {
      "text/plain": [
       "array([50, 60, 80])"
      ]
     },
     "execution_count": 51,
     "metadata": {},
     "output_type": "execute_result"
    }
   ],
   "source": [
    "mask = a>=50\n",
    "print(mask)\n",
    "a[mask]"
   ]
  },
  {
   "cell_type": "markdown",
   "id": "def62109",
   "metadata": {},
   "source": [
    "## Numerical operations (or vector computing)\n",
    "\n",
    "As stated at the beginning, numpy arrays are well suited for the so called numerical computing. In this section we will see some examples to get familiar with this kind of operations. "
   ]
  },
  {
   "cell_type": "code",
   "execution_count": null,
   "id": "6bf04daa",
   "metadata": {},
   "outputs": [],
   "source": [
    "a = np.array([1, 2, 3, 4])\n",
    "print (a) \n",
    "print (a + 1)\n",
    "print (2*a)"
   ]
  },
  {
   "cell_type": "code",
   "execution_count": null,
   "id": "b65c38c7",
   "metadata": {},
   "outputs": [],
   "source": [
    "b = np.ones(4) + 1\n",
    "print (b)\n",
    "print(b-a)"
   ]
  },
  {
   "cell_type": "markdown",
   "id": "d347e367",
   "metadata": {},
   "source": [
    "Performance comparison:"
   ]
  },
  {
   "cell_type": "code",
   "execution_count": null,
   "id": "728e7d54",
   "metadata": {},
   "outputs": [],
   "source": [
    "a = np.arange(10000)\n",
    "%timeit a + 1"
   ]
  },
  {
   "cell_type": "code",
   "execution_count": null,
   "id": "880b94a2",
   "metadata": {},
   "outputs": [],
   "source": [
    "l = range(10000)\n",
    "%timeit [i+1 for i in l]"
   ]
  },
  {
   "cell_type": "markdown",
   "id": "afbfe082",
   "metadata": {},
   "source": [
    "Take into account that array multiplication should be done through function `np.dot`"
   ]
  },
  {
   "cell_type": "markdown",
   "id": "89f35687",
   "metadata": {},
   "source": [
    "# Exercises"
   ]
  },
  {
   "cell_type": "markdown",
   "id": "23bcb6a9",
   "metadata": {},
   "source": [
    "## Reading a file\n",
    "Create a *Reading a two column file*: Make a program who reads a two column file and stores the first column in a list called `x` and the second one in a list called `y`. Then convert the list to arrays and plot them. Test it with some example file."
   ]
  },
  {
   "cell_type": "code",
   "execution_count": null,
   "id": "5cc381fc",
   "metadata": {
    "deletable": false,
    "nbgrader": {
     "cell_type": "code",
     "checksum": "61b3a73d17ae6cdc3c247b534a286c8d",
     "grade": false,
     "grade_id": "cell-8458014c85f3364c",
     "locked": false,
     "schema_version": 3,
     "solution": true,
     "task": false
    },
    "tags": []
   },
   "outputs": [],
   "source": [
    "# YOUR CODE HERE\n",
    "raise NotImplementedError()"
   ]
  },
  {
   "cell_type": "markdown",
   "id": "91070a1e",
   "metadata": {},
   "source": [
    "## Reading file with comments\n",
    "Extend the previous exercise to be able to read a data file with comments. The comment chracter is supposed to be `#`. Every line starting with `#` should be ignored. Test."
   ]
  },
  {
   "cell_type": "code",
   "execution_count": null,
   "id": "62e174e1",
   "metadata": {
    "deletable": false,
    "nbgrader": {
     "cell_type": "code",
     "checksum": "de9bfc1f8ccda832dc76eaf5f97f65af",
     "grade": false,
     "grade_id": "cell-6fc9fb319a8cdbec",
     "locked": false,
     "schema_version": 3,
     "solution": true,
     "task": false
    },
    "tags": []
   },
   "outputs": [],
   "source": [
    "# YOUR CODE HERE\n",
    "raise NotImplementedError()"
   ]
  },
  {
   "cell_type": "markdown",
   "id": "04294e71",
   "metadata": {},
   "source": [
    "## Using loadtxt\n",
    "Improve exercise 1 and 2 by using the `numpy.loadtxt()` function. You should rerad the documentation. Test and compare."
   ]
  },
  {
   "cell_type": "code",
   "execution_count": null,
   "id": "590e4ffc",
   "metadata": {
    "deletable": false,
    "nbgrader": {
     "cell_type": "code",
     "checksum": "5cf23c70e6bc40f9d692e0461ee480ad",
     "grade": false,
     "grade_id": "cell-43c374a85f561a59",
     "locked": false,
     "schema_version": 3,
     "solution": true,
     "task": false
    },
    "tags": []
   },
   "outputs": [],
   "source": [
    "# YOUR CODE HERE\n",
    "raise NotImplementedError()"
   ]
  },
  {
   "cell_type": "markdown",
   "id": "ecd8ee4c",
   "metadata": {},
   "source": [
    "## Printing with comments\n",
    "Write a program which prints tabulated data for a given function, but also printing some comments on it using the `#` character. Use the previous program to make sure you can read back the data."
   ]
  },
  {
   "cell_type": "code",
   "execution_count": null,
   "id": "cab47a9d",
   "metadata": {
    "deletable": false,
    "nbgrader": {
     "cell_type": "code",
     "checksum": "971724c1ef745cbe7e434242cff005ad",
     "grade": false,
     "grade_id": "cell-d9b2ddd8432efead",
     "locked": false,
     "schema_version": 3,
     "solution": true,
     "task": false
    },
    "tags": []
   },
   "outputs": [],
   "source": [
    "# YOUR CODE HERE\n",
    "raise NotImplementedError()"
   ]
  },
  {
   "cell_type": "markdown",
   "id": "86bf05eb",
   "metadata": {},
   "source": [
    "## Kinematics from file\n",
    "\n",
    "Assume that you are given a file which has printed the values $a_0, a_1, \\ldots, a_k$ for the acceleration of a given system at specified intervals of size $\\Delta t$, that is, $t_k = k\\Delta t$. Your task is to read those values and to compute the velocity of the system at some time $t$. To do that remember that the acceleration can be given as $a(t) = v'(t)$. Therefore, to find $v$, you must integrate the acceleration as\n",
    "\n",
    "$$v(t) = v(0) + \\int\\limits_0^t d\\tau\\ a(\\tau).$$\n",
    "    \n",
    "If $a(t)$ is only known at discrete points, as in this case, you have to approximate the integral. You can use the trapezoidal rule to get\n",
    "   \n",
    "$$v(t_k) \\simeq \\Delta t \\left( \\frac{1}{2}a_0 + \\frac{1}{2}a_k + \\sum\\limits_{i=1}^{k-1}a_i \\right), 1 \\le k \\le n-1 .$$\n",
    "    \n",
    "Assume that $v(0) = 0$. Your program should: Read the values for $a$ from the array. Then, compute the values for velocity and finally plot the acceleration and the velocity as a function of time. Good test cases for this problem are null values for the acceleration, and constant values for the acceleration, whose theoretical solution you already know. The $\\Delta t$ value should be specified at the command line (use the `sys` module to read command line arguments)."
   ]
  },
  {
   "cell_type": "code",
   "execution_count": null,
   "id": "78cc99bc",
   "metadata": {
    "deletable": false,
    "nbgrader": {
     "cell_type": "code",
     "checksum": "c4d6744f56973ab536b27fa3f1839ef4",
     "grade": false,
     "grade_id": "cell-9dfc807f2674041a",
     "locked": false,
     "schema_version": 3,
     "solution": true,
     "task": false
    },
    "tags": []
   },
   "outputs": [],
   "source": [
    "# YOUR CODE HERE\n",
    "raise NotImplementedError()"
   ]
  }
 ],
 "metadata": {
  "kernelspec": {
   "display_name": "Python 3 (ipykernel)",
   "language": "python",
   "name": "python3"
  },
  "language_info": {
   "codemirror_mode": {
    "name": "ipython",
    "version": 3
   },
   "file_extension": ".py",
   "mimetype": "text/x-python",
   "name": "python",
   "nbconvert_exporter": "python",
   "pygments_lexer": "ipython3",
   "version": "3.12.5"
  },
  "toc": {
   "base_numbering": 1,
   "nav_menu": {},
   "number_sections": true,
   "sideBar": true,
   "skip_h1_title": false,
   "title_cell": "Table of Contents",
   "title_sidebar": "Contents",
   "toc_cell": false,
   "toc_position": {},
   "toc_section_display": true,
   "toc_window_display": true
  },
  "varInspector": {
   "cols": {
    "lenName": 16,
    "lenType": 16,
    "lenVar": 40
   },
   "kernels_config": {
    "python": {
     "delete_cmd_postfix": "",
     "delete_cmd_prefix": "del ",
     "library": "var_list.py",
     "varRefreshCmd": "print(var_dic_list())"
    },
    "r": {
     "delete_cmd_postfix": ") ",
     "delete_cmd_prefix": "rm(",
     "library": "var_list.r",
     "varRefreshCmd": "cat(var_dic_list()) "
    }
   },
   "types_to_exclude": [
    "module",
    "function",
    "builtin_function_or_method",
    "instance",
    "_Feature"
   ],
   "window_display": false
  }
 },
 "nbformat": 4,
 "nbformat_minor": 5
}

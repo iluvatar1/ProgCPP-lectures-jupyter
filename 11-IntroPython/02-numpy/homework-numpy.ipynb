{
 "cells": [
  {
   "cell_type": "markdown",
   "id": "9293cda0",
   "metadata": {},
   "source": [
    "# Numpy homework"
   ]
  },
  {
   "cell_type": "code",
   "execution_count": 3,
   "id": "81615588",
   "metadata": {
    "ExecuteTime": {
     "end_time": "2021-08-27T01:48:51.062902Z",
     "start_time": "2021-08-27T01:48:48.938955Z"
    }
   },
   "outputs": [],
   "source": [
    "# data generation\n",
    "import numpy as np\n",
    "np.random.seed(201)\n",
    "data = np.random.uniform(-1.9, 2.5, (1000, 2000))\n",
    "np.savetxt(\"npdata.txt\", data)"
   ]
  },
  {
   "cell_type": "code",
   "execution_count": 26,
   "id": "85c8785a",
   "metadata": {
    "ExecuteTime": {
     "end_time": "2021-08-27T02:00:49.242646Z",
     "start_time": "2021-08-27T02:00:46.889067Z"
    }
   },
   "outputs": [
    {
     "name": "stdout",
     "output_type": "stream",
     "text": [
      "(1000, 2000)\n"
     ]
    }
   ],
   "source": [
    "data = np.loadtxt(\"npdata.txt\")\n",
    "print(data.shape)"
   ]
  },
  {
   "cell_type": "code",
   "execution_count": 5,
   "id": "3899b695",
   "metadata": {
    "ExecuteTime": {
     "end_time": "2021-08-27T01:50:41.578866Z",
     "start_time": "2021-08-27T01:50:41.570451Z"
    }
   },
   "outputs": [
    {
     "name": "stdout",
     "output_type": "stream",
     "text": [
      "305.89188995198646\n"
     ]
    }
   ],
   "source": [
    "# print the sum of the 500th column\n",
    "print(data[:, 499].sum())"
   ]
  },
  {
   "cell_type": "code",
   "execution_count": 6,
   "id": "4b19b281",
   "metadata": {
    "ExecuteTime": {
     "end_time": "2021-08-27T01:51:04.871324Z",
     "start_time": "2021-08-27T01:51:04.861280Z"
    }
   },
   "outputs": [
    {
     "name": "stdout",
     "output_type": "stream",
     "text": [
      "591.2346963135233\n"
     ]
    }
   ],
   "source": [
    "# print the sum of the 500th row\n",
    "print(data[499, :].sum())"
   ]
  },
  {
   "cell_type": "code",
   "execution_count": 7,
   "id": "2422aa5f",
   "metadata": {
    "ExecuteTime": {
     "end_time": "2021-08-27T01:52:19.443591Z",
     "start_time": "2021-08-27T01:52:19.435281Z"
    }
   },
   "outputs": [
    {
     "name": "stdout",
     "output_type": "stream",
     "text": [
      "360.7320183140055\n"
     ]
    }
   ],
   "source": [
    "# print the sum of the 500th row, including only columns with indexes 1, 3, 5, ... and exluding the last one\n",
    "print(data[499, 1:-1:2].sum())"
   ]
  },
  {
   "cell_type": "code",
   "execution_count": 22,
   "id": "67f7ce3c",
   "metadata": {
    "ExecuteTime": {
     "end_time": "2021-08-27T01:57:54.346536Z",
     "start_time": "2021-08-27T01:57:54.302458Z"
    }
   },
   "outputs": [
    {
     "name": "stdout",
     "output_type": "stream",
     "text": [
      "999506\n"
     ]
    }
   ],
   "source": [
    "# count all elements in the range -0.1 <= x <= 2.1\n",
    "mask = (data >= -0.1) & (data <= 2.1)\n",
    "print(np.count_nonzero(data[mask]))"
   ]
  },
  {
   "cell_type": "code",
   "execution_count": 23,
   "id": "75133ffd",
   "metadata": {
    "ExecuteTime": {
     "end_time": "2021-08-27T02:00:15.938440Z",
     "start_time": "2021-08-27T02:00:15.928437Z"
    }
   },
   "outputs": [
    {
     "name": "stdout",
     "output_type": "stream",
     "text": [
      "[[1. 1. 1. 1. 1. 1. 1. 1. 1. 1.]\n",
      " [1. 0. 0. 0. 0. 0. 0. 0. 0. 1.]\n",
      " [1. 0. 0. 0. 0. 0. 0. 0. 0. 1.]\n",
      " [1. 0. 0. 0. 0. 0. 0. 0. 0. 1.]\n",
      " [1. 0. 0. 0. 0. 0. 0. 0. 0. 1.]\n",
      " [1. 0. 0. 0. 0. 0. 0. 0. 0. 1.]\n",
      " [1. 0. 0. 0. 0. 0. 0. 0. 0. 1.]\n",
      " [1. 0. 0. 0. 0. 0. 0. 0. 0. 1.]\n",
      " [1. 0. 0. 0. 0. 0. 0. 0. 0. 1.]\n",
      " [1. 1. 1. 1. 1. 1. 1. 1. 1. 1.]]\n"
     ]
    }
   ],
   "source": [
    "# Crear un arreglo de 10x10 llenos de 1 en el borde y 0 internamente \n",
    "Z = np.ones((10,10))\n",
    "Z[1:-1,1:-1] = 0\n",
    "print(Z)"
   ]
  },
  {
   "cell_type": "code",
   "execution_count": null,
   "id": "256e5cbe",
   "metadata": {},
   "outputs": [],
   "source": []
  }
 ],
 "metadata": {
  "kernelspec": {
   "display_name": "Python 3 (ipykernel)",
   "language": "python",
   "name": "python3"
  },
  "language_info": {
   "codemirror_mode": {
    "name": "ipython",
    "version": 3
   },
   "file_extension": ".py",
   "mimetype": "text/x-python",
   "name": "python",
   "nbconvert_exporter": "python",
   "pygments_lexer": "ipython3",
   "version": "3.12.5"
  },
  "toc": {
   "base_numbering": 1,
   "nav_menu": {},
   "number_sections": true,
   "sideBar": true,
   "skip_h1_title": false,
   "title_cell": "Table of Contents",
   "title_sidebar": "Contents",
   "toc_cell": false,
   "toc_position": {},
   "toc_section_display": true,
   "toc_window_display": false
  },
  "varInspector": {
   "cols": {
    "lenName": 16,
    "lenType": 16,
    "lenVar": 40
   },
   "kernels_config": {
    "python": {
     "delete_cmd_postfix": "",
     "delete_cmd_prefix": "del ",
     "library": "var_list.py",
     "varRefreshCmd": "print(var_dic_list())"
    },
    "r": {
     "delete_cmd_postfix": ") ",
     "delete_cmd_prefix": "rm(",
     "library": "var_list.r",
     "varRefreshCmd": "cat(var_dic_list()) "
    }
   },
   "types_to_exclude": [
    "module",
    "function",
    "builtin_function_or_method",
    "instance",
    "_Feature"
   ],
   "window_display": true
  }
 },
 "nbformat": 4,
 "nbformat_minor": 5
}

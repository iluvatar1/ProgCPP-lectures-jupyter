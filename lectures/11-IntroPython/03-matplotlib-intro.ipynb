{
 "cells": [
  {
   "cell_type": "markdown",
   "id": "392886db",
   "metadata": {},
   "source": [
    "# Matplotlib\n",
    "\n",
    "Matplotlib is a powerful package (and now de standard) for plotting in both 2D and 3D in Python. In this notebook we will learn the basics on how to plot with matplotlib. (This is based on the Scipy tutorial, and the Introduction to Scientific Computing with Python by Johansson)\n",
    "\n",
    "> NOTE : the pylab mode for ipython is designed to expose the numpy and matplotlib namespace, making easier to use the environment. But, it is recommended to keep the modules names isolated, so we will try to use the pyplot submodule as possible. To use pylab, you can start ipython with the `--pylab` flag.\n",
    "\n",
    "> NOTE : We want to produce inline figures inside the notebook. Therefeore, we use the following magic function"
   ]
  },
  {
   "cell_type": "code",
   "execution_count": null,
   "id": "798f3db8",
   "metadata": {
    "jupyter": {
     "outputs_hidden": false
    }
   },
   "outputs": [],
   "source": [
    "%matplotlib inline"
   ]
  },
  {
   "cell_type": "markdown",
   "id": "4c19fe71",
   "metadata": {},
   "source": [
    "## A simple example\n",
    "Let's start plotting by using a simple example with the defaults."
   ]
  },
  {
   "cell_type": "code",
   "execution_count": null,
   "id": "85fb0378",
   "metadata": {
    "jupyter": {
     "outputs_hidden": false
    }
   },
   "outputs": [],
   "source": [
    "import matplotlib.pyplot as plt\n",
    "import numpy as np\n",
    "X = np.linspace(-np.pi, np.pi, 256, endpoint=True)\n",
    "C= np.cos(X)\n",
    "plt.plot(X, C)\n",
    "plt.show() # not necessarily needed"
   ]
  },
  {
   "cell_type": "code",
   "execution_count": null,
   "id": "ca7f1de5",
   "metadata": {
    "jupyter": {
     "outputs_hidden": true
    }
   },
   "outputs": [],
   "source": [
    "help(plt.plot)"
   ]
  },
  {
   "cell_type": "code",
   "execution_count": null,
   "id": "2b425d7b",
   "metadata": {
    "jupyter": {
     "outputs_hidden": false
    }
   },
   "outputs": [],
   "source": [
    "# The object oriented way\n",
    "fig = plt.figure()\n",
    "axes = fig.add_axes([0.1, 0.1, 0.8, 0.8])\n",
    "axes.plot(X, C, 'r')\n",
    "axes.set_xlabel(r'$x$')\n",
    "axes.set_ylabel(r'$\\cos x$')\n",
    "axes.set_title(r\"This is a title which includes LaTeX $\\alpha, \\beta^\\gamma$\")"
   ]
  },
  {
   "cell_type": "code",
   "execution_count": null,
   "id": "bc26db17",
   "metadata": {
    "jupyter": {
     "outputs_hidden": false
    }
   },
   "outputs": [],
   "source": [
    "# The object oriented way\n",
    "fig = plt.figure()\n",
    "axes1 = fig.add_axes([0.1, 0.1, 0.8, 0.8])\n",
    "axes1.plot(X, C, 'r')\n",
    "axes1.set_xlabel(r'$x$')\n",
    "axes1.set_ylabel(r'$\\cos x$', fontsize=35)\n",
    "axes1.set_title(r\"This is a title which includes LaTeX $\\alpha, \\beta^\\gamma$\")\n",
    "axes2 = fig.add_axes([0.42, 0.25, 0.25, 0.2])\n",
    "axes2.plot(X, C*C, 'r')\n",
    "axes2.set_xlabel(r'$x$')\n",
    "axes2.set_ylabel(r'$\\cos^2 x$', fontsize=15)\n",
    "axes2.set_title(r\"This is an inset\")"
   ]
  },
  {
   "cell_type": "code",
   "execution_count": null,
   "id": "661ae00d",
   "metadata": {
    "jupyter": {
     "outputs_hidden": true
    }
   },
   "outputs": [],
   "source": [
    "import matplotlib.pyplot as plt\n",
    "import numpy as np\n",
    "X = np.linspace(-np.pi, np.pi, 256, endpoint=True)\n",
    "C, S = np.cos(X), np.sin(X)\n",
    "plt.plot(X, C)\n",
    "plt.plot(X, S)\n",
    "plt.show() # not necessarily needed"
   ]
  },
  {
   "cell_type": "markdown",
   "id": "5ca79bcf",
   "metadata": {},
   "source": [
    "As you can see, there are several defaults employed: the type of data plotting (lines), the color (blue and then green), the axis sizes, no labels, no legends, etc. Now let's start modifying some settings.\n",
    "\n",
    "### Changing colors, widths, and adding legends"
   ]
  },
  {
   "cell_type": "code",
   "execution_count": null,
   "id": "0eb91a54",
   "metadata": {
    "jupyter": {
     "outputs_hidden": false
    }
   },
   "outputs": [],
   "source": [
    "plt.plot(X, C, color='blue', linewidth=3.0, linestyle='-', label=r\"$\\cos x$\") # linewidth -> lw , linestyle -> ls\n",
    "plt.plot(X, S, color='red',  lw=1.0, ls='-.', label=r\"$\\sin x$\")\n",
    "plt.legend() # there are several codes for different locations. Search on google."
   ]
  },
  {
   "cell_type": "code",
   "execution_count": null,
   "id": "e983de37",
   "metadata": {
    "jupyter": {
     "outputs_hidden": false
    }
   },
   "outputs": [],
   "source": [
    "plt.plot(X, C, color='#eeefff', lw=3.0, ls='-') # html string\n",
    "plt.plot(X, S, color='0.45',  lw=4.0, ls='-.') # gray scale"
   ]
  },
  {
   "cell_type": "markdown",
   "id": "391a69e2",
   "metadata": {},
   "source": [
    "There are more standard color : red, cyan, magenta, yellow, black, white. Actually, matplotlib can use a full range of html colors and even more! Check [Matplotlib colors](http://matplotlib.org/api/colors_api.html#module-matplotlib.colors).\n",
    "\n",
    "> __Exercise__: Re-plot the previous data with several different colors and palettes. Share your plots with your classmates. \n",
    "\n",
    "### Changing the figure size and resolution"
   ]
  },
  {
   "cell_type": "code",
   "execution_count": null,
   "id": "cbb9798a",
   "metadata": {
    "jupyter": {
     "outputs_hidden": false
    }
   },
   "outputs": [],
   "source": [
    "plt.figure(figsize=(10, 6), dpi=60)\n",
    "plt.plot(X, C)\n",
    "plt.plot(X, S)\n",
    "plt.show()"
   ]
  },
  {
   "cell_type": "markdown",
   "id": "c830534b",
   "metadata": {},
   "source": [
    "## Saving the figure to a filename\n",
    "You can save your plots into filename with suitable formats. It is recommended for you to use the vector graphics formats, like svg, pdf, or pdf, and to avoid bitmap formats. If you must have a bitmap, select the png format with a good dpi. "
   ]
  },
  {
   "cell_type": "code",
   "execution_count": null,
   "id": "0abaf442",
   "metadata": {
    "jupyter": {
     "outputs_hidden": false
    }
   },
   "outputs": [],
   "source": [
    "plt.plot(X, C)\n",
    "plt.plot(X, S)\n",
    "plt.savefig(\"filename.pdf\", dpi=200)"
   ]
  },
  {
   "cell_type": "markdown",
   "id": "77c33e09",
   "metadata": {},
   "source": [
    "## Setting limits"
   ]
  },
  {
   "cell_type": "code",
   "execution_count": null,
   "id": "a7d6fd90",
   "metadata": {
    "jupyter": {
     "outputs_hidden": false
    }
   },
   "outputs": [],
   "source": [
    "plt.xlim(X.min()*1.1, X.max()*1.1)\n",
    "plt.ylim(C.min()*1.1, C.max()*1.1)\n",
    "plt.plot(X, C)\n",
    "plt.plot(X, S)"
   ]
  },
  {
   "cell_type": "markdown",
   "id": "8862a1b4",
   "metadata": {},
   "source": [
    "### Setting tics \n",
    "\n",
    "Let's change the xtics to show $\\pi$ related values, which are more intereting."
   ]
  },
  {
   "cell_type": "code",
   "execution_count": null,
   "id": "9d558e6d",
   "metadata": {
    "jupyter": {
     "outputs_hidden": false
    }
   },
   "outputs": [],
   "source": [
    "plt.xticks([-np.pi, -np.pi/2, 0, np.pi/2, np.pi])\n",
    "plt.yticks([-1, 0, 1])\n",
    "plt.plot(X, C)\n",
    "plt.plot(X, S)"
   ]
  },
  {
   "cell_type": "markdown",
   "id": "889acc34",
   "metadata": {},
   "source": [
    "### Setting tics labels\n",
    "Instead of `-3.142`, it woul be better to have the symbol $\\pi$, right?"
   ]
  },
  {
   "cell_type": "code",
   "execution_count": null,
   "id": "1728dd8d",
   "metadata": {
    "jupyter": {
     "outputs_hidden": false
    }
   },
   "outputs": [],
   "source": [
    "plt.xticks([-np.pi, -np.pi/2, 0, np.pi/2, np.pi], ['$-\\pi$', '$-\\pi/2$', 0, '$\\pi/2$', '$\\pi$'])\n",
    "plt.yticks([-1, 0, 1])\n",
    "plt.plot(X, C)\n",
    "plt.plot(X, S)"
   ]
  },
  {
   "cell_type": "markdown",
   "id": "bcb8d42d",
   "metadata": {},
   "source": [
    "## Figures\n",
    "A figure, in matplotlib, means the whole window. Therefire, you can have several plots (subplots) on a single figure (window). For this we will need to explicitly use figures and axes, in constrast with the majority of the examples previosuly shown. Remember that the function `gca()` returns the current axes, while `gcf()` returns the current figure.\n",
    "\n",
    "Figures are numbered starting from __1 !__ . \n",
    "\n",
    "> __Exercise__: Please check the documentation explain the following parameters for a figure: `num, figsize, dpi, facecolor, edgecolor, frameon`.  \n",
    "\n",
    "You can use `plt.close()` to close a figure programatically.\n",
    "\n",
    "## Subplots\n",
    "Subplots are a way to organize several plots on a figure, using a grid. You have to specify the rows and columns. For more complex grids, you can use the gridspec command."
   ]
  },
  {
   "cell_type": "code",
   "execution_count": null,
   "id": "c46720d3",
   "metadata": {
    "jupyter": {
     "outputs_hidden": false
    }
   },
   "outputs": [],
   "source": [
    "from IPython.core.display import Image \n",
    "Image(filename='subplots.png')"
   ]
  },
  {
   "cell_type": "markdown",
   "id": "8abfabd9",
   "metadata": {},
   "source": [
    "## Manipulating several plots "
   ]
  },
  {
   "cell_type": "code",
   "execution_count": null,
   "id": "8cc0a73e",
   "metadata": {
    "jupyter": {
     "outputs_hidden": false
    }
   },
   "outputs": [],
   "source": [
    "x = np.linspace(0, 5)\n",
    "fig, axes = plt.subplots(1, 3, figsize=(12, 4)) \n",
    "axes[0].plot(x, x**2, x, x**3)\n",
    "axes[0].set_title(\"default axes ranges\")\n",
    "axes[1].plot(x, x**2, x, x**3)\n",
    "axes[1].axis(\"tight\")\n",
    "axes[1].set_title(\"tight axes\")\n",
    "axes[2].plot(x, x**2, x, x**3)\n",
    "axes[2].set_ylim([0, 60])\n",
    "axes[2].set_xlim([2, 5])\n",
    "axes[2].set_title(\"custom axes range\");"
   ]
  },
  {
   "cell_type": "markdown",
   "id": "a99985c0",
   "metadata": {},
   "source": [
    "## Logarithmic scale"
   ]
  },
  {
   "cell_type": "code",
   "execution_count": null,
   "id": "530f02de",
   "metadata": {
    "jupyter": {
     "outputs_hidden": false
    }
   },
   "outputs": [],
   "source": [
    "fig, axes = plt.subplots(1, 2, figsize=(10,4)) \n",
    "axes[0].plot(x, x**2, x, np.exp(x))\n",
    "axes[0].set_title(\"Normal scale\")\n",
    "axes[1].plot(x, x**2, x, np.exp(x))\n",
    "axes[1].set_yscale(\"log\")\n",
    "axes[1].set_title(\"Logarithmic scale (y)\");"
   ]
  },
  {
   "cell_type": "markdown",
   "id": "c48f9c84",
   "metadata": {},
   "source": [
    "## Other plotting styles"
   ]
  },
  {
   "cell_type": "code",
   "execution_count": null,
   "id": "64816647",
   "metadata": {
    "jupyter": {
     "outputs_hidden": false
    }
   },
   "outputs": [],
   "source": [
    "n = np.array([0,1,2,3,4,5])"
   ]
  },
  {
   "cell_type": "code",
   "execution_count": null,
   "id": "0a5b64a6",
   "metadata": {
    "jupyter": {
     "outputs_hidden": false
    }
   },
   "outputs": [],
   "source": [
    "xx = np.linspace(-0.75, 1., 100)\n",
    "fig, axes = plt.subplots(1, 4, figsize=(12,3)) \n",
    "axes[0].scatter(xx, xx + 0.25*np.random.randn(len(xx)))\n",
    "axes[0].set_title(\"scatter\")\n",
    "axes[1].step(n, n**2, lw=2)\n",
    "axes[1].set_title(\"step\")\n",
    "axes[2].bar(n, n**2, align=\"center\", width=0.5, alpha=0.5)\n",
    "axes[2].set_title(\"bar\")\n",
    "axes[3].fill_between(x, x**2, x**3, color=\"green\", alpha=0.5);\n",
    "axes[3].set_title(\"fill_between\");"
   ]
  },
  {
   "cell_type": "code",
   "execution_count": null,
   "id": "78971dce",
   "metadata": {
    "jupyter": {
     "outputs_hidden": false
    }
   },
   "outputs": [],
   "source": [
    "# polar plot using add_axes and polar projection \n",
    "fig = plt.figure()\n",
    "ax = fig.add_axes([0.0, 0.0, .6, .6], polar=True)\n",
    "t = np.linspace(0, 2 * np.pi, 100)\n",
    "ax.plot(t, t, color=\"blue\", lw=3);"
   ]
  },
  {
   "cell_type": "markdown",
   "id": "83097995",
   "metadata": {},
   "source": [
    "## 3D figures"
   ]
  },
  {
   "cell_type": "code",
   "execution_count": null,
   "id": "35ead6f7",
   "metadata": {
    "jupyter": {
     "outputs_hidden": false
    }
   },
   "outputs": [],
   "source": [
    "alpha = 0.7\n",
    "phi_ext = 2 * np.pi * 0.5\n",
    "\n",
    "def flux_qubit_potential(phi_m, phi_p):\n",
    "    return 2 + alpha - 2 * np.cos(phi_p)*np.cos(phi_m) - alpha * np.cos(phi_ext - 2*phi_p)\n",
    "\n",
    "phi_m = np.linspace(0, 2*np.pi, 100) \n",
    "phi_p = np.linspace(0, 2*np.pi, 100)\n",
    "X,Y = np.meshgrid(phi_p, phi_m)\n",
    "Z = flux_qubit_potential(X, Y).T"
   ]
  },
  {
   "cell_type": "code",
   "execution_count": null,
   "id": "8e16a6da",
   "metadata": {
    "jupyter": {
     "outputs_hidden": false
    }
   },
   "outputs": [],
   "source": [
    "from mpl_toolkits.mplot3d.axes3d import Axes3D"
   ]
  },
  {
   "cell_type": "code",
   "execution_count": null,
   "id": "5b8e2bf1",
   "metadata": {
    "jupyter": {
     "outputs_hidden": false
    }
   },
   "outputs": [],
   "source": [
    "fig = plt.figure(figsize=(14,6))\n",
    "# ‘ax‘ is a 3D-aware axis instance because of the projection=’3d’ keyword argument to add_subplot\n",
    "ax = fig.add_subplot(1, 2, 1, projection='3d')\n",
    "p = ax.plot_surface(X, Y, Z, rstride=4, cstride=4, linewidth=0)\n",
    "# surface_plot with color grading and color bar\n",
    "ax = fig.add_subplot(1, 2, 2, projection='3d')\n",
    "p = ax.plot_surface(X, Y, Z, rstride=1, cstride=1, cmap=plt.cm.coolwarm, linewidth=0, antialiased=False)\n",
    "cb = fig.colorbar(p, shrink=0.5)"
   ]
  },
  {
   "cell_type": "code",
   "execution_count": null,
   "id": "8dc99986",
   "metadata": {
    "jupyter": {
     "outputs_hidden": false
    }
   },
   "outputs": [],
   "source": [
    "fig = plt.figure(figsize=(8,6))\n",
    "ax = fig.add_subplot(1,1,1, projection='3d')\n",
    "ax.plot_surface(X, Y, Z, rstride=4, cstride=4, alpha=0.25)\n",
    "cset = ax.contour(X, Y, Z, zdir='z', offset=-np.pi, cmap=plt.cm.coolwarm)\n",
    "cset = ax.contour(X, Y, Z, zdir='x', offset=-np.pi, cmap=plt.cm.coolwarm)\n",
    "cset = ax.contour(X, Y, Z, zdir='y', offset=3*np.pi, cmap=plt.cm.coolwarm)\n",
    "ax.set_xlim3d(-np.pi, 2*np.pi);\n",
    "ax.set_ylim3d(0, 3*np.pi);\n",
    "ax.set_zlim3d(-np.pi, 2*np.pi);"
   ]
  },
  {
   "cell_type": "markdown",
   "id": "55b52a93",
   "metadata": {},
   "source": [
    "## Animations\n",
    "To create animations, you can use the ```FuncAnimation``` function which can generate a movie of files from sequences of figures. You have to define an init function, which starts the animation sequence, and an update function, which updates the canvas. The general structure is"
   ]
  },
  {
   "cell_type": "code",
   "execution_count": null,
   "id": "f446eae8",
   "metadata": {
    "jupyter": {
     "outputs_hidden": false
    }
   },
   "outputs": [],
   "source": [
    "def init():\n",
    "    # setup figure\n",
    "    \n",
    "def update(frame_counter):\n",
    "    # update figure for new frame\n",
    "    \n",
    "anim = animation.FuncAnimation(fig, update, init_func=init, frames=200, blit=True)\n",
    "\n",
    "anim.save(\"animation.mp4\", fps=30) # fps = frames per second"
   ]
  },
  {
   "cell_type": "code",
   "execution_count": null,
   "id": "5d4042ac",
   "metadata": {
    "jupyter": {
     "outputs_hidden": false
    }
   },
   "outputs": [],
   "source": [
    "from matplotlib import animation\n",
    "from numpy import pi, sin, cos\n",
    "\n",
    "# double pendulum\n",
    "from scipy.integrate import odeint\n",
    "g = 9.82; L = 0.5; m = 0.1\n",
    "def dx(x, t):\n",
    "    x1, x2, x3, x4 = x[0], x[1], x[2], x[3]\n",
    "    dx1 = 6.0/(m*L**2) * (2 * x3 - 3 * cos(x1-x2) * x4)/(16 - 9 * cos(x1-x2)**2)\n",
    "    dx2 = 6.0/(m*L**2) * (8 * x4 - 3 * cos(x1-x2) * x3)/(16 - 9 * cos(x1-x2)**2)\n",
    "    dx3 = -0.5 * m * L**2 * ( dx1 * dx2 * sin(x1-x2) + 3 * (g/L) * sin(x1))\n",
    "    dx4 = -0.5 * m * L**2 * (-dx1 * dx2 * sin(x1-x2) + (g/L) * sin(x2))\n",
    "    return [dx1, dx2, dx3, dx4]\n",
    "\n",
    "x0 = [np.pi/2, np.pi/2, 0, 0] # initial state\n",
    "t = np.linspace(0, 10, 250) # time coordinates\n",
    "x = odeint(dx, x0, t) # solve the ODE "
   ]
  },
  {
   "cell_type": "code",
   "execution_count": null,
   "id": "bc38790d",
   "metadata": {
    "jupyter": {
     "outputs_hidden": false
    }
   },
   "outputs": [],
   "source": [
    "fig, ax = plt.subplots(figsize=(5,5)) \n",
    "ax.set_ylim([-1.5, 0.5])\n",
    "ax.set_xlim([1, -1])\n",
    "pendulum1, = ax.plot([], [], color=\"red\", lw=2)\n",
    "pendulum2, = ax.plot([], [], color=\"blue\", lw=2)\n",
    "\n",
    "def init():\n",
    "    pendulum1.set_data([], [])\n",
    "    pendulum2.set_data([], [])\n",
    "\n",
    "def update(n):\n",
    "    # n = frame counter\n",
    "    # calculate the positions of the pendulums \n",
    "    x1 = + L * sin(x[n, 0])\n",
    "    y1 = - L * cos(x[n, 0])\n",
    "    x2 = x1 + L * sin(x[n, 1])\n",
    "    y2 = y1 - L * cos(x[n, 1])\n",
    "    # update the line data\n",
    "    pendulum1.set_data([0 ,x1], [0 ,y1])\n",
    "    pendulum2.set_data([x1,x2], [y1,y2])\n",
    "    \n",
    "anim = animation.FuncAnimation(fig, update, init_func=init, frames=len(t), blit=True)\n",
    "# anim.save can be called in a few different ways, some which might or might not work\n",
    "# on different platforms and with different versions of matplotlib and video encoders #anim.save(’animation.mp4’, fps=20, extra_args=[’-vcodec’, ’libx264’], writer=animation.FFMpegWriter()) #anim.save(’animation.mp4’, fps=20, extra_args=[’-vcodec’, ’libx264’])\n",
    "#anim.save(\"animation.mp4\", fps=20, writer=\"ffmpeg\", codec=\"libx264\")\n",
    "#anim.save(\"animation.mp4\", fps=20, writer=\"avconv\", codec=\"libx264\")\n",
    "anim.save(\"animation.mp4\", fps=20)\n",
    "plt.close(fig)"
   ]
  },
  {
   "cell_type": "markdown",
   "id": "f54db1e4",
   "metadata": {},
   "source": [
    "***\n",
    "## Exercises\n",
    "\n",
    "By using the codes below and by reading the documentation, try to reproduce the associated figure."
   ]
  },
  {
   "cell_type": "markdown",
   "id": "0ce08686",
   "metadata": {},
   "source": [
    "### Regular plot\n",
    "Hint : Check the command `fill_between`"
   ]
  },
  {
   "cell_type": "code",
   "execution_count": null,
   "id": "9c51ca75",
   "metadata": {
    "jupyter": {
     "outputs_hidden": false
    }
   },
   "outputs": [],
   "source": [
    "Image(\"ex-01-regular.png\")"
   ]
  },
  {
   "cell_type": "code",
   "execution_count": null,
   "id": "dc420e6c",
   "metadata": {
    "jupyter": {
     "outputs_hidden": false
    }
   },
   "outputs": [],
   "source": [
    "n = 256\n",
    "X = np.linspace(-np.pi, np.pi, n, endpoint=True)\n",
    "Y = np.sin(2 * X)\n",
    "plt.plot(X, Y + 1, color='blue', alpha=1.00)\n",
    "plt.plot(X, Y - 1, color='blue', alpha=1.00)\n",
    "plt.fill_between(X, 1.0, Y+1, color='blue', alpha=0.45)\n",
    "plt.fill_between(X, -1.0, Y-1, Y-1>-1, color='blue', alpha=0.45)\n",
    "plt.fill_between(X, -1.0, Y-1, Y-1<-1, color='red', alpha=0.45)"
   ]
  },
  {
   "cell_type": "markdown",
   "id": "6c3ae084",
   "metadata": {},
   "source": [
    "### Scatter Plot \n",
    "Hint: Color is given by angle of (X, Y). Take care of marker size, color, and transparency."
   ]
  },
  {
   "cell_type": "code",
   "execution_count": null,
   "id": "72d56bc3",
   "metadata": {
    "jupyter": {
     "outputs_hidden": false
    }
   },
   "outputs": [],
   "source": [
    "Image('ex-02-scatter.png')"
   ]
  },
  {
   "cell_type": "code",
   "execution_count": null,
   "id": "b42e16dd",
   "metadata": {
    "jupyter": {
     "outputs_hidden": false
    }
   },
   "outputs": [],
   "source": [
    "n = 1024\n",
    "X = np.random.normal(0,1,n)\n",
    "Y = np.random.normal(0,1,n)\n",
    "T = np.arctan2(Y, X)\n",
    "plt.scatter(X,Y, c = T, cmap='hot')"
   ]
  },
  {
   "cell_type": "markdown",
   "id": "8c677bf6",
   "metadata": {},
   "source": [
    "### Bar plots\n",
    "Take care of text alingment. Add text for red bars."
   ]
  },
  {
   "cell_type": "code",
   "execution_count": null,
   "id": "02c4dc76",
   "metadata": {
    "jupyter": {
     "outputs_hidden": false
    }
   },
   "outputs": [],
   "source": [
    "Image(\"ex-03-bars.png\")"
   ]
  },
  {
   "cell_type": "code",
   "execution_count": null,
   "id": "8cdcc5e9",
   "metadata": {
    "jupyter": {
     "outputs_hidden": false
    }
   },
   "outputs": [],
   "source": [
    "n = 12\n",
    "X = np.arange(n)\n",
    "Y1 = (1 - X / float(n)) * np.random.uniform(0.5, 1.0, n)\n",
    "Y2 = (1 - X / float(n)) * np.random.uniform(0.5, 1.0, n)\n",
    "plt.bar(X, +Y1, facecolor='#9999ff', edgecolor='white')\n",
    "plt.bar(X, -Y2, facecolor='#ff9999', edgecolor='white')\n",
    "for x, y in zip(X, Y1):\n",
    "    plt.text(x + 0.4, y + 0.05, '%.2f' % y, ha='center', va='bottom')\n",
    "plt.ylim(-1.25, +1.25)"
   ]
  },
  {
   "cell_type": "markdown",
   "id": "9728b7c1",
   "metadata": {},
   "source": [
    "### Contour plots\n",
    "Use the `clabel` command. You need to check the appropiate colormap."
   ]
  },
  {
   "cell_type": "code",
   "execution_count": null,
   "id": "7d4f40db",
   "metadata": {
    "jupyter": {
     "outputs_hidden": false
    }
   },
   "outputs": [],
   "source": [
    "Image(\"ex-04-contour.png\")"
   ]
  },
  {
   "cell_type": "code",
   "execution_count": null,
   "id": "bd19a1e9",
   "metadata": {
    "jupyter": {
     "outputs_hidden": false
    }
   },
   "outputs": [],
   "source": [
    "def f(x, y):\n",
    "    return (1 - x / 2 + x ** 5 + y ** 3) * np.exp(-x ** 2 -y ** 2)\n",
    "n = 256\n",
    "x = np.linspace(-3, 3, n)\n",
    "y = np.linspace(-3, 3, n)\n",
    "X, Y = np.meshgrid(x, y)\n",
    "plt.contourf(X, Y, f(X, Y), 8, alpha=.75, cmap='jet')\n",
    "C = plt.contour(X, Y, f(X, Y), 8, colors='black', linewidth=.5)"
   ]
  },
  {
   "cell_type": "markdown",
   "id": "9d04fd03",
   "metadata": {},
   "source": [
    "### imshow\n",
    "You need to take care of the origin of the image in the imshow command and use te appropriate colorbar"
   ]
  },
  {
   "cell_type": "code",
   "execution_count": null,
   "id": "a7260ea5",
   "metadata": {
    "jupyter": {
     "outputs_hidden": false
    }
   },
   "outputs": [],
   "source": [
    "Image(\"ex-05-imshow.png\")"
   ]
  },
  {
   "cell_type": "code",
   "execution_count": null,
   "id": "eb3d2f9c",
   "metadata": {
    "jupyter": {
     "outputs_hidden": false
    }
   },
   "outputs": [],
   "source": [
    "def f(x, y):\n",
    "    return (1 - x / 2 + x ** 5 + y ** 3) * np.exp(-x ** 2 - y ** 2)\n",
    "n = 10\n",
    "x = np.linspace(-3, 3, 4 * n)\n",
    "y = np.linspace(-3, 3, 3 * n)\n",
    "X, Y = np.meshgrid(x, y)\n",
    "plt.imshow(f(X, Y))"
   ]
  },
  {
   "cell_type": "markdown",
   "id": "5708598c",
   "metadata": {},
   "source": [
    "### Pie chart\n",
    "Hint: Modify Z. \n",
    "\n",
    "Take care of colors and slices."
   ]
  },
  {
   "cell_type": "code",
   "execution_count": null,
   "id": "3f947ac7",
   "metadata": {
    "jupyter": {
     "outputs_hidden": false
    }
   },
   "outputs": [],
   "source": [
    "Image(\"ex-06-pie.png\")"
   ]
  },
  {
   "cell_type": "code",
   "execution_count": null,
   "id": "5e56da77",
   "metadata": {
    "jupyter": {
     "outputs_hidden": false
    }
   },
   "outputs": [],
   "source": [
    "Z = np.random.uniform(0, 1, 20)\n",
    "plt.pie(Z)"
   ]
  },
  {
   "cell_type": "markdown",
   "id": "006c5ed2",
   "metadata": {},
   "source": [
    "### Quiver\n",
    "Hint: You need to draw arrows twice\n",
    "\n",
    "Take care of colors an orientations."
   ]
  },
  {
   "cell_type": "code",
   "execution_count": null,
   "id": "61f27bdb",
   "metadata": {
    "jupyter": {
     "outputs_hidden": false
    }
   },
   "outputs": [],
   "source": [
    "Image(\"ex-07-quiver.png\")"
   ]
  },
  {
   "cell_type": "code",
   "execution_count": null,
   "id": "b9cb95a4",
   "metadata": {
    "jupyter": {
     "outputs_hidden": false
    }
   },
   "outputs": [],
   "source": [
    "n=8\n",
    "X, Y = np.mgrid[0:n, 0:n] \n",
    "plt.quiver(X, Y)"
   ]
  },
  {
   "cell_type": "markdown",
   "id": "0a9be2bf",
   "metadata": {},
   "source": [
    "### Grids\n",
    "Take care of linestyles"
   ]
  },
  {
   "cell_type": "code",
   "execution_count": null,
   "id": "f31c5999",
   "metadata": {
    "jupyter": {
     "outputs_hidden": false
    }
   },
   "outputs": [],
   "source": [
    "Image(\"ex-08-grid.png\")"
   ]
  },
  {
   "cell_type": "code",
   "execution_count": null,
   "id": "b2d513d5",
   "metadata": {
    "jupyter": {
     "outputs_hidden": false
    }
   },
   "outputs": [],
   "source": [
    "axes = plt.gca()\n",
    "axes.set_xlim(0, 4)\n",
    "axes.set_ylim(0, 3)\n",
    "axes.set_xticklabels([])\n",
    "axes.set_yticklabels([])"
   ]
  },
  {
   "cell_type": "markdown",
   "id": "a9fb27dc",
   "metadata": {},
   "source": [
    "### Multiplots\n",
    "Hint: You can use several subplots with different partitions"
   ]
  },
  {
   "cell_type": "code",
   "execution_count": null,
   "id": "f430a31a",
   "metadata": {
    "jupyter": {
     "outputs_hidden": false
    }
   },
   "outputs": [],
   "source": [
    "Image(\"ex-09-multiplots.png\")"
   ]
  },
  {
   "cell_type": "code",
   "execution_count": null,
   "id": "0d59d09d",
   "metadata": {
    "jupyter": {
     "outputs_hidden": false
    }
   },
   "outputs": [],
   "source": [
    "plt.subplot(2, 2, 1)\n",
    "plt.subplot(2, 2, 3)\n",
    "plt.subplot(2, 2, 4)"
   ]
  },
  {
   "cell_type": "markdown",
   "id": "51236302",
   "metadata": {},
   "source": [
    "### Polar plots\n",
    "Hint: You only need to modify the `axes` line."
   ]
  },
  {
   "cell_type": "code",
   "execution_count": null,
   "id": "505c4d07",
   "metadata": {
    "jupyter": {
     "outputs_hidden": false
    }
   },
   "outputs": [],
   "source": [
    "Image(\"ex-10-polar.png\")"
   ]
  },
  {
   "cell_type": "code",
   "execution_count": null,
   "id": "73c3c0d2",
   "metadata": {
    "jupyter": {
     "outputs_hidden": false
    }
   },
   "outputs": [],
   "source": [
    "plt.axes([0, 0, 1, 1])\n",
    "N = 20\n",
    "theta = np.arange(0., 2 * np.pi, 2 * np.pi / N)\n",
    "radii = 10 * np.random.rand(N)\n",
    "width = np.pi / 4 * np.random.rand(N)\n",
    "bars = plt.bar(theta, radii, width=width, bottom=0.0)\n",
    "for r, bar in zip(radii, bars): \n",
    "    bar.set_facecolor(cm.jet(r / 10.)) \n",
    "    bar.set_alpha(0.5)"
   ]
  },
  {
   "cell_type": "markdown",
   "id": "054998a3",
   "metadata": {},
   "source": [
    "### 3D Plots\n",
    "Hint : You need to use `contourf`"
   ]
  },
  {
   "cell_type": "code",
   "execution_count": null,
   "id": "71d2ea47",
   "metadata": {
    "jupyter": {
     "outputs_hidden": false
    }
   },
   "outputs": [],
   "source": [
    "Image(\"ex-11-3d.png\")"
   ]
  },
  {
   "cell_type": "code",
   "execution_count": null,
   "id": "12abd051",
   "metadata": {
    "jupyter": {
     "outputs_hidden": false
    }
   },
   "outputs": [],
   "source": [
    "from mpl_toolkits.mplot3d import Axes3D\n",
    "fig = plt.figure()\n",
    "ax = Axes3D(fig)\n",
    "X = np.arange(-4, 4, 0.25)\n",
    "Y = np.arange(-4, 4, 0.25)\n",
    "X, Y = np.meshgrid(X, Y)\n",
    "R = np.sqrt(X**2 + Y**2)\n",
    "Z = np.sin(R)\n",
    "ax.plot_surface(X, Y, Z, rstride=1, cstride=1, cmap='hot')"
   ]
  },
  {
   "cell_type": "markdown",
   "id": "b92c8770",
   "metadata": {},
   "source": [
    "## Making an animation\n",
    "There are several ways to make an animation. One can, for example, print several copies of the figure at different times and then enconde them in a video. Or make just a live animation in the notebook, without storing it. Let's do the later [REF](http://nbviewer.ipython.org/github/jakevdp/matplotlib_pydata2013/blob/master/notebooks/05_Animations.ipynb):"
   ]
  },
  {
   "cell_type": "code",
   "execution_count": null,
   "id": "520f9777",
   "metadata": {
    "jupyter": {
     "outputs_hidden": false
    }
   },
   "outputs": [],
   "source": [
    "import matplotlib.pyplot as plt\n",
    "import numpy as np\n",
    "%matplotlib inline\n",
    "# First set up the figure, the axis, and the plot element we want to animate\n",
    "fig = plt.figure()\n",
    "ax = plt.axes(xlim=(0, 2), ylim=(-2, 2))\n",
    "line, = ax.plot([], [], lw=2)"
   ]
  },
  {
   "cell_type": "code",
   "execution_count": null,
   "id": "01026e5f",
   "metadata": {
    "jupyter": {
     "outputs_hidden": false
    }
   },
   "outputs": [],
   "source": [
    "# initialization function: plot the background of each frame\n",
    "def init():\n",
    "    line.set_data([], [])\n",
    "    return line,"
   ]
  },
  {
   "cell_type": "code",
   "execution_count": null,
   "id": "11f048e6",
   "metadata": {
    "jupyter": {
     "outputs_hidden": false
    }
   },
   "outputs": [],
   "source": [
    "# animation function.  This is called sequentially\n",
    "x = np.linspace(0, 2, 1000)\n",
    "\n",
    "def animate(i):\n",
    "    y = np.sin(2 * np.pi * (x - 0.01 * i))\n",
    "    line.set_data(x, y)\n",
    "    return line,"
   ]
  },
  {
   "cell_type": "code",
   "execution_count": null,
   "id": "452b88f0",
   "metadata": {
    "jupyter": {
     "outputs_hidden": false
    }
   },
   "outputs": [],
   "source": [
    "from matplotlib import animation\n",
    "\n",
    "# call the animator.  blit=True means only re-draw the parts that have changed.\n",
    "anim = animation.FuncAnimation(fig, animate, init_func=init,\n",
    "                               frames=200, interval=20, blit=True)"
   ]
  },
  {
   "cell_type": "code",
   "execution_count": null,
   "id": "e64dc7b7",
   "metadata": {
    "jupyter": {
     "outputs_hidden": false
    }
   },
   "outputs": [],
   "source": [
    "anim.save('basic_animation.mp4', fps=30)"
   ]
  },
  {
   "cell_type": "code",
   "execution_count": null,
   "id": "691ae0ad",
   "metadata": {
    "jupyter": {
     "outputs_hidden": false
    }
   },
   "outputs": [],
   "source": [
    "import numpy as np\n",
    "import matplotlib.pyplot as plt\n",
    "import matplotlib.animation as animation\n",
    "\n",
    "def data_gen():\n",
    "    t = data_gen.t\n",
    "    cnt = 0\n",
    "    while cnt < 1000:\n",
    "        cnt+=1\n",
    "        t += 0.05\n",
    "        yield t, np.sin(2*np.pi*t) * np.exp(-t/10.)\n",
    "data_gen.t = 0\n",
    "\n",
    "fig, ax = plt.subplots()\n",
    "line, = ax.plot([], [], lw=2)\n",
    "ax.set_ylim(-1.1, 1.1)\n",
    "ax.set_xlim(0, 5)\n",
    "ax.grid()\n",
    "xdata, ydata = [], []\n",
    "def run(data):\n",
    "    # update the data\n",
    "    t,y = data\n",
    "    xdata.append(t)\n",
    "    ydata.append(y)\n",
    "    xmin, xmax = ax.get_xlim()\n",
    "\n",
    "    if t >= xmax:\n",
    "        ax.set_xlim(xmin, 2*xmax)\n",
    "        ax.figure.canvas.draw()\n",
    "    line.set_data(xdata, ydata)\n",
    "\n",
    "    return line,\n",
    "\n",
    "ani = animation.FuncAnimation(fig, run, data_gen, blit=True, interval=10,\n",
    "    repeat=False)\n",
    "plt.show()"
   ]
  },
  {
   "cell_type": "code",
   "execution_count": null,
   "id": "3606a679",
   "metadata": {
    "jupyter": {
     "outputs_hidden": false
    }
   },
   "outputs": [],
   "source": []
  }
 ],
 "metadata": {
  "kernelspec": {
   "display_name": "Python 3 (ipykernel)",
   "language": "python",
   "name": "python3"
  },
  "language_info": {
   "codemirror_mode": {
    "name": "ipython",
    "version": 3
   },
   "file_extension": ".py",
   "mimetype": "text/x-python",
   "name": "python",
   "nbconvert_exporter": "python",
   "pygments_lexer": "ipython3",
   "version": "3.12.6"
  }
 },
 "nbformat": 4,
 "nbformat_minor": 5
}

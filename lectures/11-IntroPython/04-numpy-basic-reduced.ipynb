{
 "cells": [
  {
   "cell_type": "markdown",
   "metadata": {},
   "source": [
    "# Efficient Python arrays : Numpy\n",
    "\n",
    "**REFS:** \n",
    "- [Scipy lecture notes](https://scipy-lectures.org/) \n",
    "- A primer of Scientific Programming with Python\n",
    "- https://betterprogramming.pub/numpy-illustrated-the-visual-guide-to-numpy-3b1d4976de1d\n",
    "- https://jalammar.github.io/visual-numpy/\n",
    "- https://realpython.com/numpy-tutorial/\n",
    "\n",
    "The numerical python package, `numpy`, allows for easy and efficient manipulation of vectorial data. In this context, it is important to remark some of the so-called `vectorial` computation. Let's give an example. Imagine a two dimensional vector $a$. How would you represent it using python? You coul use either a list, a tuple, etc:\n",
    "\n",
    "    a1 = [x, y]\n",
    "    a2 = (x, y)\n",
    "    \n",
    "Of course, it can be  generalized to more dimensions:\n",
    "\n",
    "    a1 = [x, y, z, w]\n",
    "    a2 = [0.0, -0.9, 1, -3, 9, ... , 90]\n",
    "   \n",
    "Managing vectors by using these typical python constructs is very good from a general programmer point of view, but it has its costs. For example, iterating over a lits by means of a for loop could be very slow. Actually, for typical problemas of computational mathematics and physics, only homogeneous storage structs with fast access are needed, like the arrays of languages like c++, fortran, etc. Arrays might be more limited than general lists, but could vastly outperform lists and tuples for vectorial computations. The `numpy` package provides array like structs to perform fast mathematical operations on numerical data.\n",
    "\n",
    "Furthermore, vectorial operations are natural on numpy arrays. But what is a vectorial operation? Let's assume we have a vector $v$ of $n$-components. What would be the meaning of something like\n",
    "    u = sin(v)\n",
    "? in the context of vectorial computing, it would mean to apply the function `sin` to every component of the vector `v`, therefore $u_i = \\sin(v_i)$. In general, given a function $f$, the expression $u = f(v)$ means $u_i = f(v_i)$. Numpy allows for this kind of computing. What would be the meaning of \n",
    "    u = v^2*cos(v)*e^v + 2?\n",
    "    \n",
    "<img src=\"https://miro.medium.com/max/700/1*D-I8hK4WXC8wtpR5tvR0fw.png\" width=85%>\n",
    "\n",
    "See: https://betterprogramming.pub/numpy-illustrated-the-visual-guide-to-numpy-3b1d4976de1d\n",
    "\n",
    "## Basic numpy\n",
    "Try the following code snippet:"
   ]
  },
  {
   "cell_type": "code",
   "execution_count": null,
   "metadata": {
    "ExecuteTime": {
     "end_time": "2021-08-21T20:32:37.287898Z",
     "start_time": "2021-08-21T20:32:37.129546Z"
    }
   },
   "outputs": [],
   "source": [
    "import numpy as np\n",
    "a = np.array([0, 1.0, '3', 5])\n",
    "print (a)\n",
    "a.dtype"
   ]
  },
  {
   "cell_type": "markdown",
   "metadata": {},
   "source": [
    "This means: we are importing the numpy package with the name np. Then, we create an numpy array by using the `np.array` function from a list of values, and assign the result to the variable `a`. What is `a`? use `a?` . The array `a` has several attributes which you can use later, like the shape and type of the internal data. \n",
    "\n",
    "Let's now compare the efficiency of a list versus a numpy array, by means of the %timeit magic function of ipython:"
   ]
  },
  {
   "cell_type": "code",
   "execution_count": null,
   "metadata": {
    "ExecuteTime": {
     "end_time": "2021-08-21T20:33:02.798134Z",
     "start_time": "2021-08-21T20:32:58.374675Z"
    }
   },
   "outputs": [],
   "source": [
    "L = range(10000)\n",
    "%timeit [i**2 for i in L]"
   ]
  },
  {
   "cell_type": "code",
   "execution_count": null,
   "metadata": {
    "ExecuteTime": {
     "end_time": "2021-08-21T20:33:16.820852Z",
     "start_time": "2021-08-21T20:33:04.757621Z"
    }
   },
   "outputs": [],
   "source": [
    "a = np.arange(10000)\n",
    "%timeit a**2"
   ]
  },
  {
   "cell_type": "markdown",
   "metadata": {},
   "source": [
    "You can extract some info like the shape and the dimension as "
   ]
  },
  {
   "cell_type": "code",
   "execution_count": null,
   "metadata": {
    "ExecuteTime": {
     "end_time": "2021-08-21T20:33:29.429247Z",
     "start_time": "2021-08-21T20:33:29.415845Z"
    }
   },
   "outputs": [],
   "source": [
    "a.ndim"
   ]
  },
  {
   "cell_type": "code",
   "execution_count": null,
   "metadata": {
    "ExecuteTime": {
     "end_time": "2021-08-21T20:33:30.269761Z",
     "start_time": "2021-08-21T20:33:30.257663Z"
    }
   },
   "outputs": [],
   "source": [
    "a.shape"
   ]
  },
  {
   "cell_type": "code",
   "execution_count": null,
   "metadata": {
    "ExecuteTime": {
     "end_time": "2021-08-21T20:33:30.949118Z",
     "start_time": "2021-08-21T20:33:30.901621Z"
    }
   },
   "outputs": [],
   "source": [
    "a.dtype"
   ]
  },
  {
   "cell_type": "markdown",
   "metadata": {},
   "source": [
    "### Alternative ways to create arrays\n",
    "\n",
    "    a = np.arange(10)\n",
    "    b = np.arange(1, 9, 2)\n",
    "    \n",
    "The function `linspace` is very useful. It allows to create a uniform partition on a given interval for a given number of points. For example, to create an array of 100 points uniformly on the interval [2, 3], you can use  "
   ]
  },
  {
   "cell_type": "code",
   "execution_count": null,
   "metadata": {},
   "outputs": [],
   "source": [
    "a = np.linspace(2, 3, 100)\n",
    "print (a)"
   ]
  },
  {
   "cell_type": "markdown",
   "metadata": {},
   "source": [
    "Check the documentation.\n",
    "\n",
    "You can also create several other types of useful arrays like"
   ]
  },
  {
   "cell_type": "code",
   "execution_count": null,
   "metadata": {},
   "outputs": [],
   "source": [
    "a = np.ones((3, 4)) # shape is a tuple\n",
    "print (a)"
   ]
  },
  {
   "cell_type": "code",
   "execution_count": null,
   "metadata": {},
   "outputs": [],
   "source": [
    "a = np.random.rand(4)\n",
    "print (a)"
   ]
  },
  {
   "cell_type": "markdown",
   "metadata": {},
   "source": [
    "<img src=\"https://miro.medium.com/max/700/1*cyN_FxUVbkdDyrULhfTIGw.png\" width=80%>\n",
    "\n",
    "Ref: https://betterprogramming.pub/numpy-illustrated-the-visual-guide-to-numpy-3b1d4976de1d"
   ]
  },
  {
   "cell_type": "code",
   "execution_count": null,
   "metadata": {
    "ExecuteTime": {
     "end_time": "2021-08-21T20:51:23.846244Z",
     "start_time": "2021-08-21T20:51:23.836318Z"
    }
   },
   "outputs": [],
   "source": [
    "# Truncation errors\n",
    "data = np.arange(0.5, 0.8, 0.1)\n",
    "print(f\"{data = }\") # should not include 0.8"
   ]
  },
  {
   "cell_type": "code",
   "execution_count": null,
   "metadata": {
    "ExecuteTime": {
     "end_time": "2021-08-21T20:51:50.986407Z",
     "start_time": "2021-08-21T20:51:50.968038Z"
    }
   },
   "outputs": [],
   "source": [
    "# Solution: dont use floats, use integers\n",
    "data = 0.1*np.arange(5, 8)\n",
    "print(f\"{data = }\")\n",
    "data = 0.5 + 0.1*np.arange(0, 3)\n",
    "print(f\"{data = }\")"
   ]
  },
  {
   "cell_type": "markdown",
   "metadata": {},
   "source": [
    "### Indexing and slicing\n",
    "\n",
    "Numpy allows for powerfull and efficient access to internal members of arrays"
   ]
  },
  {
   "cell_type": "code",
   "execution_count": null,
   "metadata": {},
   "outputs": [],
   "source": [
    "from IPython.core.display import Image \n",
    "Image(filename='fig/slicing.png')"
   ]
  },
  {
   "cell_type": "markdown",
   "metadata": {},
   "source": [
    "### Copies and Views \n",
    "\n",
    "A slicing operation creates a __view__ of the original array, not a copy (in contrast, an slice of a list creates a new list). A modification of a view, modifies the original array:"
   ]
  },
  {
   "cell_type": "code",
   "execution_count": null,
   "metadata": {},
   "outputs": [],
   "source": [
    "a = np.arange(10)\n",
    "print (a)\n",
    "b = a[::2]\n",
    "print (b)\n",
    "b[0] = 12\n",
    "print (b)\n",
    "print (a)"
   ]
  },
  {
   "cell_type": "markdown",
   "metadata": {},
   "source": [
    "But, if you really need a copy, you can use the `.copy` method:"
   ]
  },
  {
   "cell_type": "code",
   "execution_count": null,
   "metadata": {},
   "outputs": [],
   "source": [
    "a = np.arange(10)\n",
    "print (a)\n",
    "c = a[::2].copy()\n",
    "c[0] = 12\n",
    "print (a)\n",
    "print (c)"
   ]
  },
  {
   "cell_type": "markdown",
   "metadata": {},
   "source": [
    "### Fancy indexing (masked arrays)\n",
    "\n",
    "Using arrays to mask indexes is an useful way to manipulate arrays. Numpy provides this functionality. __Note:__ Fancy indexing creates copies, not views.\n",
    "\n",
    "#### Boolean masks"
   ]
  },
  {
   "cell_type": "code",
   "execution_count": null,
   "metadata": {},
   "outputs": [],
   "source": [
    "np.random.seed(3)\n",
    "a = np.random.random_integers(0, 20, 15)\n",
    "print (a)\n",
    "print (a % 3 == 0)\n",
    "mask = (a % 3 == 0)\n",
    "print (\"Mask = \", mask)"
   ]
  },
  {
   "cell_type": "code",
   "execution_count": null,
   "metadata": {},
   "outputs": [],
   "source": [
    "extract_from_a = a[mask]\n",
    "print (extract_from_a)"
   ]
  },
  {
   "cell_type": "code",
   "execution_count": null,
   "metadata": {},
   "outputs": [],
   "source": [
    "print (a)\n",
    "a[a%3 == 0] = -1\n",
    "print (a)"
   ]
  },
  {
   "cell_type": "markdown",
   "metadata": {},
   "source": [
    "<img src=\"https://miro.medium.com/max/700/1*nFGcXav_xxD7TXGiRYMpHg.png\" width=85%>\n",
    "\n",
    "Ref: https://betterprogramming.pub/numpy-illustrated-the-visual-guide-to-numpy-3b1d4976de1d"
   ]
  },
  {
   "cell_type": "markdown",
   "metadata": {},
   "source": [
    "#### Indexing with integers"
   ]
  },
  {
   "cell_type": "code",
   "execution_count": null,
   "metadata": {},
   "outputs": [],
   "source": [
    "a = np.arange(0, 100, 10)\n",
    "print (a)\n",
    "a[[2, 3, 2, 4, 2]]"
   ]
  },
  {
   "cell_type": "code",
   "execution_count": null,
   "metadata": {},
   "outputs": [],
   "source": [
    "a[[9, 7]] = -100\n",
    "print (a)"
   ]
  },
  {
   "cell_type": "code",
   "execution_count": null,
   "metadata": {},
   "outputs": [],
   "source": [
    "Image(filename='fig/fancy_indexing.png')"
   ]
  },
  {
   "cell_type": "code",
   "execution_count": null,
   "metadata": {},
   "outputs": [],
   "source": []
  },
  {
   "cell_type": "markdown",
   "metadata": {},
   "source": [
    "## Numerical operations (or vector computing)\n",
    "\n",
    "As stated at the beginning, numpy arrays are well suited for the so called numerical computing. In this section we will see some examples to get familiar with this kind of operations. \n",
    "<img src=\"https://miro.medium.com/max/700/1*XbZqTBXZmnQtVZ_llbGJTw.png\" width=75%>\n",
    "From: https://betterprogramming.pub/numpy-illustrated-the-visual-guide-to-numpy-3b1d4976de1d"
   ]
  },
  {
   "cell_type": "code",
   "execution_count": null,
   "metadata": {},
   "outputs": [],
   "source": [
    "a = np.array([1, 2, 3, 4])\n",
    "print (a) \n",
    "print (a + 1)\n",
    "print (2*a)"
   ]
  },
  {
   "cell_type": "code",
   "execution_count": null,
   "metadata": {},
   "outputs": [],
   "source": [
    "b = np.ones(4) + 1\n",
    "print (b)\n",
    "b-a"
   ]
  },
  {
   "cell_type": "code",
   "execution_count": null,
   "metadata": {},
   "outputs": [],
   "source": [
    "j = np.arange(5)\n",
    "2**(j + 1) - j"
   ]
  },
  {
   "cell_type": "markdown",
   "metadata": {},
   "source": [
    "Performance comparison:"
   ]
  },
  {
   "cell_type": "code",
   "execution_count": null,
   "metadata": {},
   "outputs": [],
   "source": [
    "a = np.arange(1000)\n",
    "%timeit a + 1"
   ]
  },
  {
   "cell_type": "code",
   "execution_count": null,
   "metadata": {},
   "outputs": [],
   "source": [
    "l = range(1000)\n",
    "%timeit [i+1 for i in l]"
   ]
  },
  {
   "cell_type": "markdown",
   "metadata": {},
   "source": [
    "Take into account that array multiplication should be done through function `np.dot`"
   ]
  },
  {
   "cell_type": "markdown",
   "metadata": {},
   "source": [
    "You can use a lot of internal functions (https://numpy.org/doc/stable/reference/routines.math.html) and random generators (https://numpy.org/doc/stable/reference/random/index.html)"
   ]
  },
  {
   "cell_type": "markdown",
   "metadata": {},
   "source": [
    "## 2D Arrays \n",
    "<img src=\"https://miro.medium.com/max/700/1*aLMuXA81pDXaw0J0QdKvRQ.png\" width=80%>\n",
    "\n",
    "REF: https://betterprogramming.pub/numpy-illustrated-the-visual-guide-to-numpy-3b1d4976de1d\n",
    "\n",
    "### Axis\n",
    "<img src=\"https://miro.medium.com/max/700/1*jmXqsVUNaBaUsBAkHgqb3A.png\" width=80%>\n",
    "\n",
    "REF: https://betterprogramming.pub/numpy-illustrated-the-visual-guide-to-numpy-3b1d4976de1d\n",
    "\n",
    "### Matrix aggregation\n",
    "<img src=\"https://jalammar.github.io/images/numpy/numpy-matrix-aggregation-4.png\" width=80%>\n",
    "\n",
    "REF: https://jalammar.github.io/visual-numpy/\n",
    "\n",
    "<img src=\"https://miro.medium.com/max/1400/1*SJbmp5_qJixVztVMJQn9sw.png\" width=80%>\n",
    "<img src=\"https://miro.medium.com/max/1400/1*ZUFxtl3Z2cdDZhcLUNpE0Q.png\" width=80%>\n"
   ]
  },
  {
   "cell_type": "markdown",
   "metadata": {},
   "source": [
    "## Exercises"
   ]
  },
  {
   "cell_type": "markdown",
   "metadata": {},
   "source": [
    "### Reading a file\n",
    "Create a *Reading a two column file*: Make a program who reads a two column file and stores the first column in a list called `x` and the second one in a list called `y`. Then convert the list to arrays and plot them. Test it with some example file."
   ]
  },
  {
   "cell_type": "code",
   "execution_count": null,
   "metadata": {
    "deletable": false,
    "nbgrader": {
     "cell_type": "code",
     "checksum": "61b3a73d17ae6cdc3c247b534a286c8d",
     "grade": false,
     "grade_id": "cell-8458014c85f3364c",
     "locked": false,
     "schema_version": 3,
     "solution": true,
     "task": false
    },
    "tags": []
   },
   "outputs": [],
   "source": [
    "# YOUR CODE HERE\n",
    "raise NotImplementedError()"
   ]
  },
  {
   "cell_type": "markdown",
   "metadata": {},
   "source": [
    "### Reading file with comments\n",
    "Extend the previous exercise to be able to read a data file with comments. The comment chracter is supposed to be `#`. Every line starting with `#` should be ignored. Test."
   ]
  },
  {
   "cell_type": "code",
   "execution_count": null,
   "metadata": {
    "deletable": false,
    "nbgrader": {
     "cell_type": "code",
     "checksum": "de9bfc1f8ccda832dc76eaf5f97f65af",
     "grade": false,
     "grade_id": "cell-6fc9fb319a8cdbec",
     "locked": false,
     "schema_version": 3,
     "solution": true,
     "task": false
    },
    "tags": []
   },
   "outputs": [],
   "source": [
    "# YOUR CODE HERE\n",
    "raise NotImplementedError()"
   ]
  },
  {
   "cell_type": "markdown",
   "metadata": {},
   "source": [
    "### Using loadtxt\n",
    "Improve exercise 1 and 2 by using the `numpy.loadtxt()` function. You should rerad the documentation. Test and compare."
   ]
  },
  {
   "cell_type": "code",
   "execution_count": null,
   "metadata": {
    "deletable": false,
    "nbgrader": {
     "cell_type": "code",
     "checksum": "5cf23c70e6bc40f9d692e0461ee480ad",
     "grade": false,
     "grade_id": "cell-43c374a85f561a59",
     "locked": false,
     "schema_version": 3,
     "solution": true,
     "task": false
    },
    "tags": []
   },
   "outputs": [],
   "source": [
    "# YOUR CODE HERE\n",
    "raise NotImplementedError()"
   ]
  },
  {
   "cell_type": "markdown",
   "metadata": {},
   "source": [
    "### Printing with comments\n",
    "Write a program which prints tabulated data for a given function, but also printing some comments on it using the `#` character. Use the previous program to make sure you can read back the data."
   ]
  },
  {
   "cell_type": "code",
   "execution_count": null,
   "metadata": {
    "deletable": false,
    "nbgrader": {
     "cell_type": "code",
     "checksum": "971724c1ef745cbe7e434242cff005ad",
     "grade": false,
     "grade_id": "cell-d9b2ddd8432efead",
     "locked": false,
     "schema_version": 3,
     "solution": true,
     "task": false
    },
    "tags": []
   },
   "outputs": [],
   "source": [
    "# YOUR CODE HERE\n",
    "raise NotImplementedError()"
   ]
  },
  {
   "cell_type": "markdown",
   "metadata": {},
   "source": [
    "### Kinematics from file\n",
    "\n",
    "Assume that you are given a file which has printed the values $a_0, a_1, \\ldots, a_k$ for the acceleration of a given system at specified intervals of size $\\Delta t$, that is, $t_k = k\\Delta t$. Your task is to read those values and to compute the velocity of the system at some time $t$. To do that remember that the acceleration can be given as $a(t) = v'(t)$. Therefore, to find $v$, you must integrate the acceleration as\n",
    "\n",
    "$$v(t) = v(0) + \\int\\limits_0^t d\\tau\\ a(\\tau).$$\n",
    "    \n",
    "If $a(t)$ is only known at discrete points, as in this case, you have to approximate the integral. You can use the trapezoidal rule to get\n",
    "   \n",
    "$$v(t_k) \\simeq \\Delta t \\left( \\frac{1}{2}a_0 + \\frac{1}{2}a_k + \\sum\\limits_{i=1}^{k-1}a_i \\right), 1 \\le k \\le n-1 .$$\n",
    "    \n",
    "Assume that $v(0) = 0$. Your program should: Read the values for $a$ from the array. Then, compute the values for velocity and finally plot the acceleration and the velocity as a function of time. Good test cases for this problem are null values for the acceleration, and constant values for the acceleration, whose theoretical solution you already know. The $\\Delta t$ value should be specified at the command line (use the `sys` module to read command line arguments)."
   ]
  },
  {
   "cell_type": "code",
   "execution_count": null,
   "metadata": {
    "deletable": false,
    "nbgrader": {
     "cell_type": "code",
     "checksum": "c4d6744f56973ab536b27fa3f1839ef4",
     "grade": false,
     "grade_id": "cell-9dfc807f2674041a",
     "locked": false,
     "schema_version": 3,
     "solution": true,
     "task": false
    },
    "tags": []
   },
   "outputs": [],
   "source": [
    "# YOUR CODE HERE\n",
    "raise NotImplementedError()"
   ]
  },
  {
   "cell_type": "markdown",
   "metadata": {},
   "source": [
    "## 3D matrix example: Image\n",
    "<img src=\"https://jalammar.github.io/images/numpy/numpy-grayscale-image.png\" width=80%>\n",
    "<img src=\"https://jalammar.github.io/images/numpy/numpy-color-image.png\" width=80%>\n",
    "\n",
    "REF: https://jalammar.github.io/visual-numpy/\n",
    "\n",
    "### Image tutorial example\n",
    "We will use the following kitty image: https://files.realpython.com/media/kitty.90952ca484f1.jpg from https://realpython.com/numpy-tutorial/ . The local name will be just kitty.jpg . \n",
    "\n",
    "<img src=\"fig/kitty.jpg\" width=80%>"
   ]
  },
  {
   "cell_type": "code",
   "execution_count": null,
   "metadata": {
    "ExecuteTime": {
     "end_time": "2021-08-21T21:49:38.591157Z",
     "start_time": "2021-08-21T21:49:38.491650Z"
    }
   },
   "outputs": [],
   "source": [
    "import numpy as np\n",
    "import matplotlib.image as mpimg\n",
    "\n",
    "img = mpimg.imread(\"fig/kitty.jpg\")\n",
    "print(type(img))\n",
    "print(img.shape)"
   ]
  },
  {
   "cell_type": "code",
   "execution_count": null,
   "metadata": {
    "ExecuteTime": {
     "end_time": "2021-08-21T21:49:41.455299Z",
     "start_time": "2021-08-21T21:49:40.898384Z"
    }
   },
   "outputs": [],
   "source": [
    "import matplotlib.pyplot as plt\n",
    "imgplot = plt.imshow(img)"
   ]
  },
  {
   "cell_type": "code",
   "execution_count": null,
   "metadata": {
    "ExecuteTime": {
     "end_time": "2021-08-21T21:52:53.379235Z",
     "start_time": "2021-08-21T21:52:52.237116Z"
    }
   },
   "outputs": [],
   "source": [
    "# Now remove the red and green channels\n",
    "output = img.copy()  # The original image is read-only!\n",
    "output[:, :, :2] = 0\n",
    "mpimg.imsave(\"kitty-blue.jpg\", output)\n",
    "img_blue = mpimg.imread(\"kitty-blue.jpg\")\n",
    "imgplot_blue = plt.imshow(img_blue)"
   ]
  },
  {
   "cell_type": "code",
   "execution_count": null,
   "metadata": {
    "ExecuteTime": {
     "end_time": "2021-08-21T21:53:11.395172Z",
     "start_time": "2021-08-21T21:53:11.386989Z"
    }
   },
   "outputs": [],
   "source": [
    "# Now make it only green\n"
   ]
  },
  {
   "cell_type": "code",
   "execution_count": null,
   "metadata": {
    "ExecuteTime": {
     "end_time": "2021-08-21T22:00:27.881852Z",
     "start_time": "2021-08-21T22:00:26.836036Z"
    }
   },
   "outputs": [],
   "source": [
    "# Now let's make it gray-scale\n",
    "# This means averaging all the channels\n",
    "averages = img.mean(axis=2)  # Take the average of each R, G, and B\n",
    "mpimg.imsave(\"kitty-bad-gray.jpg\", averages, cmap=\"gray\")\n",
    "img_gray = mpimg.imread(\"kitty-bad-gray.jpg\")\n",
    "imgplot_gray = plt.imshow(img_gray)"
   ]
  },
  {
   "cell_type": "code",
   "execution_count": null,
   "metadata": {
    "ExecuteTime": {
     "end_time": "2021-08-21T22:09:43.173723Z",
     "start_time": "2021-08-21T22:09:41.831637Z"
    }
   },
   "outputs": [],
   "source": [
    "# Now improve it by using the luminosity method:\n",
    "# Differente weigths for each channel\n",
    "weights = np.array([0.3, 0.59, 0.11])\n",
    "grayscale = img @ weights # dot product\n",
    "mpimg.imsave(\"kitty-good-gray.jpg\", grayscale, cmap=\"gray\")\n",
    "img_gray = mpimg.imread(\"kitty-good-gray.jpg\")\n",
    "imgplot_gray = plt.imshow(img_gray)"
   ]
  },
  {
   "cell_type": "code",
   "execution_count": null,
   "metadata": {
    "ExecuteTime": {
     "end_time": "2021-08-21T22:29:32.864106Z",
     "start_time": "2021-08-21T22:28:46.845189Z"
    }
   },
   "outputs": [],
   "source": [
    "#!pip3 install --user scikit-image\n",
    "!conda install -y scikit-image\n"
   ]
  },
  {
   "cell_type": "code",
   "execution_count": null,
   "metadata": {
    "ExecuteTime": {
     "end_time": "2021-08-21T22:32:17.290768Z",
     "start_time": "2021-08-21T22:32:17.260175Z"
    }
   },
   "outputs": [],
   "source": [
    "from skimage import data\n",
    "cat = data.chelsea()\n",
    "type(cat)\n",
    "cat.shape"
   ]
  },
  {
   "cell_type": "code",
   "execution_count": null,
   "metadata": {
    "ExecuteTime": {
     "end_time": "2021-08-21T22:32:19.959032Z",
     "start_time": "2021-08-21T22:32:19.693330Z"
    }
   },
   "outputs": [],
   "source": [
    "plt.imshow(cat)"
   ]
  },
  {
   "cell_type": "code",
   "execution_count": null,
   "metadata": {
    "ExecuteTime": {
     "end_time": "2021-08-21T22:41:47.350187Z",
     "start_time": "2021-08-21T22:41:46.915459Z"
    }
   },
   "outputs": [],
   "source": []
  },
  {
   "cell_type": "markdown",
   "metadata": {},
   "source": [
    "### Exercise\n",
    "Obtain the following image (zoom on 1/4 to 3/4 on each axis):\n",
    "<img src=\"fig/chelsea-zoom-green.jpg\" width=80%>"
   ]
  },
  {
   "cell_type": "code",
   "execution_count": null,
   "metadata": {},
   "outputs": [],
   "source": []
  }
 ],
 "metadata": {
  "kernelspec": {
   "display_name": "Python 3 (ipykernel)",
   "language": "python",
   "name": "python3"
  },
  "language_info": {
   "codemirror_mode": {
    "name": "ipython",
    "version": 3
   },
   "file_extension": ".py",
   "mimetype": "text/x-python",
   "name": "python",
   "nbconvert_exporter": "python",
   "pygments_lexer": "ipython3",
   "version": "3.12.11"
  },
  "toc": {
   "base_numbering": 1,
   "nav_menu": {},
   "number_sections": true,
   "sideBar": true,
   "skip_h1_title": false,
   "title_cell": "Table of Contents",
   "title_sidebar": "Contents",
   "toc_cell": false,
   "toc_position": {},
   "toc_section_display": true,
   "toc_window_display": true
  },
  "varInspector": {
   "cols": {
    "lenName": 16,
    "lenType": 16,
    "lenVar": 40
   },
   "kernels_config": {
    "python": {
     "delete_cmd_postfix": "",
     "delete_cmd_prefix": "del ",
     "library": "var_list.py",
     "varRefreshCmd": "print(var_dic_list())"
    },
    "r": {
     "delete_cmd_postfix": ") ",
     "delete_cmd_prefix": "rm(",
     "library": "var_list.r",
     "varRefreshCmd": "cat(var_dic_list()) "
    }
   },
   "oldHeight": 384.516334,
   "position": {
    "height": "40px",
    "left": "773.333px",
    "right": "20px",
    "top": "120px",
    "width": "271.667px"
   },
   "types_to_exclude": [
    "module",
    "function",
    "builtin_function_or_method",
    "instance",
    "_Feature"
   ],
   "varInspector_section_display": "none",
   "window_display": true
  }
 },
 "nbformat": 4,
 "nbformat_minor": 4
}

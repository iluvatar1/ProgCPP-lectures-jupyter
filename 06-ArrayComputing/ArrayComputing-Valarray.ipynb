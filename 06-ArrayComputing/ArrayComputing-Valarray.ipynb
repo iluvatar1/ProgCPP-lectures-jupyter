{
 "cells": [
  {
   "cell_type": "markdown",
   "id": "e944b540-bb84-4500-8e27-75d5c49f4d9e",
   "metadata": {},
   "source": [
    "<a id=\"org480d17e\"></a>\n",
    "\n",
    "https://github.com/dpilger26/NumCpp\n",
    "\n",
    "https://xtensor.readthedocs.io/en/latest/index.html \n",
    "\n",
    "# Vector operations: Coefficient-wise\n",
    "\n",
    "Coefficient-wise operations, like the vector sum (which operate component by\n",
    "component), are very common and useful. For instance, the whole `numpy` library\n",
    "is based on that (<https://numpy.org/doc/stable/user/basics.broadcasting.html>).\n",
    "In c++ you can also do it, and it simplifies a lot many operations related to\n",
    "vectors. You have two options: using the standard library valarray, or using\n",
    "`Eigen` array.\n",
    "\n",
    "This is, for instance, what you would like to have when adding two structures representing vectors:\n",
    "<div style=\"text-align: center;\">\n",
    "    <img src=\"http://jalammar.github.io/images/numpy/numpy-arrays-adding-1.png\" alt=\"Image Description\" width=\"900\">\n",
    "    <figcaption>From: \"http://jalammar.github.io/images/numpy/numpy-arrays-adding-1.png\"</figcaption>\n",
    "</div>\n",
    "\n",
    "or with more operations\n",
    "<div style=\"text-align: center;\">\n",
    "    <img src=\"http://jalammar.github.io/images/numpy/numpy-array-subtract-multiply-divide.png\" alt=\"Image Description\" width=\"1100\">\n",
    "    <figcaption>From: \"http://jalammar.github.io/images/numpy/numpy-array-subtract-multiply-divide.png\"</figcaption>\n",
    "</div>\n",
    "\n",
    "or with scalars,\n",
    "<div style=\"text-align: center;\">\n",
    "    <img src=\"https://miro.medium.com/v2/resize:fit:1400/format:webp/1*XbZqTBXZmnQtVZ_llbGJTw.png\" alt=\"Image Description\" width=\"900\">\n",
    "    <figcaption>From: \"https://miro.medium.com/v2/resize:fit:1400/format:webp/1*XbZqTBXZmnQtVZ_llbGJTw.png\"</figcaption>\n",
    "</div>\n",
    "\n",
    "## Function evaluation\n",
    "Furthermore , mathematical function evaluated in this array computing approach means evaluating the function on each component, such as\n",
    "\\begin{equation}\n",
    "\\vec y = \\sin (\\vec x)\n",
    "\\end{equation}\n",
    "means \n",
    "\\begin{equation}\n",
    "y_i = \\sin x_i.\n",
    "\\end{equation}"
   ]
  },
  {
   "cell_type": "markdown",
   "id": "04a81908-15b8-4042-954f-98d480e8f769",
   "metadata": {},
   "source": [
    "<a id=\"org8ea9979\"></a>\n",
    "\n",
    "## C++ `valarray`\n",
    "\n",
    "You can find the reference implementation at\n",
    "<https://en.cppreference.com/w/cpp/numeric/valarray> .\n",
    "\n",
    "```c++\n",
    "#include <iostream>\n",
    "#include <valarray>\n",
    "#include <cmath>\n",
    "\n",
    "int main()\n",
    "{\n",
    "    std::valarray<int> v = {1,2,3,4,5,6,7,8,9,10};\n",
    "\n",
    "    double suma = v.sum();\n",
    "\n",
    "    std::cout << suma << \"\\n\";\n",
    "\n",
    "    return 0;\n",
    "}\n",
    "```"
   ]
  },
  {
   "cell_type": "markdown",
   "id": "4a8d9d78-7fad-45c2-a9bc-1b054a797260",
   "metadata": {},
   "source": [
    "### Example: Using apply\n",
    "Cómo usar la utilidad apply para multiplicar todos los elementos por 2 si el numero es impar y por 3 si el numero es par? Piense en la solución usando for e if y luego puede mirar a https://en.cppreference.com/w/cpp/numeric/valarray/apply"
   ]
  },
  {
   "cell_type": "code",
   "execution_count": null,
   "id": "797d11ec-f173-4923-87e3-4b8f5017bda5",
   "metadata": {},
   "outputs": [],
   "source": []
  },
  {
   "cell_type": "markdown",
   "id": "e4b45e5b-9956-4ddf-92f9-e92c5a51361d",
   "metadata": {},
   "source": [
    "### Indexing\n",
    "A simple example for indexing,\n",
    "is the following (<https://en.cppreference.com/w/cpp/numeric/valarray/operator%3D>)\n",
    "\n",
    "```c++\n",
    "#include <iomanip>\n",
    "#include <iostream>\n",
    "#include <valarray>\n",
    "\n",
    "void print(const char* rem, const std::valarray<int>& v)\n",
    "{\n",
    "    std::cout << std::left << std::setw(36) << rem << std::right;\n",
    "    for (int n: v) std::cout << std::setw(3) << n;\n",
    "    std::cout << '\\n';\n",
    "}\n",
    "\n",
    "int main()\n",
    "{\n",
    "    std::valarray<int> v1(3);\n",
    "    v1 = -1; // (3) from a scalar\n",
    "    print(\"assigned from scalar: \", v1);\n",
    "\n",
    "    v1 = {1, 2, 3, 4, 5, 6}; // (8): from initializer list of different size\n",
    "    print(\"assigned from initializer_list:\", v1);\n",
    "\n",
    "    std::valarray<int> v2(3);\n",
    "    v2 = v1[std::slice(0,3,2)]; // (4): from slice array\n",
    "    print(\"every 2nd element starting at pos 0:\", v2);\n",
    "\n",
    "    v2 = v1[v1 % 2 == 0]; // (6): from mask array\n",
    "    print(\"values that are even:\", v2);\n",
    "\n",
    "    std::valarray<std::size_t> idx = {0,1,2,4}; // index array\n",
    "    v2.resize(4); // sizes must match when assigning from gen subscript\n",
    "    v2 = v1[idx]; // (7): from indirect array\n",
    "    print(\"values at positions 0, 1, 2, 4:\", v2);\n",
    "\n",
    "    return 0;\n",
    "}\n",
    "```"
   ]
  },
  {
   "cell_type": "code",
   "execution_count": null,
   "id": "5f9e08a3-9c65-4db2-a526-46b78314caed",
   "metadata": {},
   "outputs": [],
   "source": []
  },
  {
   "cell_type": "markdown",
   "id": "b00653dc-cb1f-4e75-b7fd-666c764b60d3",
   "metadata": {},
   "source": [
    "### Masks\n",
    "\n",
    "As you can see, all operations are done at the element level. You can also\n",
    "define masks:\n",
    "```c++\n",
    "#include <iostream>\n",
    "#include <valarray>\n",
    "\n",
    "int main()\n",
    "{\n",
    "  std::valarray<int> data = {0,1,2,3,4,5,6,7,8,9};\n",
    "\n",
    "  std::cout << \"Initial valarray: \";\n",
    "  for(int n: data) std::cout << n << ' ';\n",
    "  std::cout << '\\n';\n",
    "\n",
    "  data[data > 5] = -1; // valarray<bool> overload of operator[]\n",
    "  // the type of data>5 is std::valarray<bool>\n",
    "  // the type of data[data>5] is std::mask_array<int>\n",
    "\n",
    "  std::cout << \"After v[v>5]=-1:  \";\n",
    "  for(std::size_t n = 0; n < data.size(); ++n)\n",
    "    std::cout << data[n] << ' ';  // regular operator[]\n",
    "  std::cout << '\\n';\n",
    "}\n",
    "```"
   ]
  },
  {
   "cell_type": "code",
   "execution_count": null,
   "id": "415654f6-135b-497d-8d55-42cde0f85220",
   "metadata": {},
   "outputs": [],
   "source": []
  },
  {
   "cell_type": "code",
   "execution_count": null,
   "id": "324ef396-2ca8-40f2-b64e-2e1fa40af345",
   "metadata": {},
   "outputs": [],
   "source": []
  },
  {
   "cell_type": "markdown",
   "id": "a3017f87-b400-43db-bd17-19d96633a85d",
   "metadata": {},
   "source": [
    "There is also a nice utility, `apply`, that you can use to apply a function to\n",
    "each element:\n",
    "```c++\n",
    "#include <iostream>\n",
    "#include <valarray>\n",
    "#include <cmath>\n",
    "\n",
    "int main()\n",
    "{\n",
    "    std::valarray<int> v = {1,2,3,4,5,6,7,8,9,10};\n",
    "    v = v.apply([](int n)->int {\n",
    "                    return std::round(std::tgamma(n+1));\n",
    "                });\n",
    "    for(auto n : v) {\n",
    "        std::cout << n << ' ';\n",
    "    }\n",
    "    std::cout << '\\n';\n",
    "}\n",
    "```"
   ]
  },
  {
   "cell_type": "code",
   "execution_count": null,
   "id": "f77a9bab-e1f5-4158-a19e-9cda4bd100fa",
   "metadata": {},
   "outputs": [],
   "source": []
  },
  {
   "cell_type": "markdown",
   "id": "8be6b900-cf06-4f4a-bef0-33a4e77306df",
   "metadata": {},
   "source": [
    "<a id=\"orga73b2bf\"></a>\n",
    "\n",
    "## Exercises"
   ]
  },
  {
   "cell_type": "markdown",
   "id": "32441fd8-58c4-4c26-84a9-d44d12289cc2",
   "metadata": {},
   "source": [
    "### Dot product\n",
    "Create a program that computes the dot product among two math vectors using\n",
    "    valarray. Your program must read the vector size from the command line. Fill\n",
    "    them using any function you want."
   ]
  },
  {
   "cell_type": "markdown",
   "id": "5221e672-62b0-4825-9aa6-17850ef2ca49",
   "metadata": {},
   "source": [
    "### Heap or stack?\n",
    "Is a valarray in the heap or the stack? Verify (check\n",
    "    <https://en.cppreference.com/w/cpp/numeric/valarray/resize>)"
   ]
  },
  {
   "cell_type": "markdown",
   "id": "cc0ea0e4-3b3f-48f7-90cc-09888dbc092e",
   "metadata": {},
   "source": [
    "### Filter data\n",
    "Using the overloaded operators create a valarray for N=1000 points between 0\n",
    "    and $2\\pi$, then compute the $\\sin$ of those numbers and assing the result to\n",
    "    a another valarray, and finally print only the values that fulfill that\n",
    "    $|\\sin x| \\le 0.5$. All of this without using loops."
   ]
  },
  {
   "cell_type": "markdown",
   "id": "35235db3-5a1b-47e0-85a7-924088f171a0",
   "metadata": {},
   "source": [
    "### Simulation\n",
    "If you discretize time in steps of size $\\delta t$, and you have the forces on\n",
    "a given ideal particle, you can compute the next position using the Euler\n",
    "algorithm,\n",
    "    \n",
    "\\begin{align}\n",
    "\\vec R(t+\\delta t) &= \\vec R(t) + \\delta t \\vec V(t),\\\\\n",
    "\\vec V(t + \\delta t) &= \\vec V(t) + \\delta t \\vec F(t)/m.\\\\\n",
    "\\end{align}\n",
    "    \n",
    "Use valarrays to model the vectors. Compute the trayectory of a\n",
    "particle of mass $m=0.987$, with initial conditions $\\vec R(0) = (0, 0, 4.3),\n",
    "   V(0) = (0.123, 0.0, 0.98)$, under the influence of gravity. Plot it. Later add\n",
    "some damping. Later add some interaction with the ground."
   ]
  },
  {
   "cell_type": "markdown",
   "id": "8e707f85-df10-4ffd-bf8a-b710ddec6a7f",
   "metadata": {},
   "source": [
    "### Extract odd values\n",
    "Fill an `std::valarray` with random integers numbers uniformly distributed in [1000, 2500], and then extract the even values and compute their mean. "
   ]
  },
  {
   "cell_type": "markdown",
   "id": "3373ec88-5430-456a-b021-3c290031971c",
   "metadata": {},
   "source": [
    "### Cross product\n",
    "Implement a function to compute the cross product between two 3d vectors. Using it, implement a function to compute the angle between the vectors. Remember that \n",
    "\\begin{equation}\n",
    "|\\vec A \\times \\vec B| = A B \\sin\\theta.\n",
    "\\end{equation}\n",
    "Check test cases like $\\vec A \\times \\vec A  = \\vec 0, \\hat i \\times \\hat j = \\hat k, \\ldots$"
   ]
  },
  {
   "cell_type": "markdown",
   "id": "84b24686-4238-42c7-b599-e5d9b64a70cf",
   "metadata": {},
   "source": [
    "### Perpendicular vector\n",
    "Use the previous cross product function to find a unit vector perpendicular to two vectors."
   ]
  },
  {
   "cell_type": "markdown",
   "id": "be7e40dd-bfc3-4ad5-916d-46a61a774524",
   "metadata": {},
   "source": [
    "### Plane equation\n",
    "Find the equation of the plane in the form $ax + by + cz + d = 0$, saving the result in a 4d `std::vector`, given three 3D points represented using `std::valarray`."
   ]
  },
  {
   "cell_type": "markdown",
   "id": "706c05bc-ab2c-4eff-b223-50b1ef86bd06",
   "metadata": {},
   "source": [
    "### Vector product\n",
    "Write a function that returns the vector product\n",
    "\\begin{equation}\n",
    "\\vec A \\cdot (\\vec B \\times \\vec C)\n",
    "\\end{equation}"
   ]
  },
  {
   "cell_type": "markdown",
   "id": "2d79f6fb-479a-4f51-9ef2-c8c13a92e8fa",
   "metadata": {},
   "source": [
    "### Classical angular momentum and centripetal acceleration\n",
    "Given a mass $m$, a position $\\vec r$, and a velocity $\\vec v = \\omega \\times \\vec r $, compute both the angular momentum $\\vec L = m \\vec r \\times (\\vec r \\times \\vec \\omega)$ and the centripetal acceleration $\\vec a = \\vec \\omega \\times (\\vec \\omega \\times \\vec  r)$, using two different functions"
   ]
  },
  {
   "cell_type": "code",
   "execution_count": null,
   "id": "f5e1d161-4178-4ae7-8dab-3bd4c26ba08d",
   "metadata": {},
   "outputs": [],
   "source": []
  }
 ],
 "metadata": {
  "kernelspec": {
   "display_name": "Python 3 (ipykernel)",
   "language": "python",
   "name": "python3"
  },
  "language_info": {
   "codemirror_mode": {
    "name": "ipython",
    "version": 3
   },
   "file_extension": ".py",
   "mimetype": "text/x-python",
   "name": "python",
   "nbconvert_exporter": "python",
   "pygments_lexer": "ipython3",
   "version": "3.10.6"
  }
 },
 "nbformat": 4,
 "nbformat_minor": 5
}

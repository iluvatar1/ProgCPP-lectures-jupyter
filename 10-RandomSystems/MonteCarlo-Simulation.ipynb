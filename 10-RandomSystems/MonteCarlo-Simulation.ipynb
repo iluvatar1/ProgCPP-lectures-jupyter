{
 "cells": [
  {
   "cell_type": "markdown",
   "id": "d48e5768-5c08-445c-a388-99ea2e19922b",
   "metadata": {},
   "source": [
    "# Random simulations\n",
    "---\n",
    "REFS: \n",
    "- Boudreau, Applied Computational Physics\n",
    "- Heath, Scientific Computing\n",
    "- Landau y Paez, Computational physics, problem solving with computers\n",
    "- Anagnostoupulos, A practical introduction to computational physics and scientific computing\n",
    "- Ward, Numerical Mathematicas and Computing\n",
    "- Go to <https://tinyurl.com/ProgCPP-presentations> for a presentation regarding the topic.\n",
    "\n",
    "The so-called [MonteCarlo methods](https://en.wikipedia.org/wiki/Monte_Carlo_method) are computational methods that use random numbers to perform computations or simulations. Applications are extense, from traffic simulations, to atomic systems, to pedestrian crowds, to probabilistic computations, to neutron scattering in nuclear shielding, to materials design, and so on. \n",
    "\n",
    "## A first simulation: the random walk\n",
    "Up to now, we have used random numbers to perform some computations. Now let's simulate a very simple process ,as an introduction to the field of MonteCarlo: the [random walk](https://en.wikipedia.org/wiki/Random_walk), which is an example of [random process](https://en.wikipedia.org/wiki/Stochastic_process). \n",
    "\n",
    "We will define a grid, and our walker will chose the next position at random. We are interested in computing the mean squared distance as function of time, which is related with a diffusion process.\n"
   ]
  },
  {
   "cell_type": "markdown",
   "id": "ab6e503a-06d1-4593-8ded-1e62e45f17b2",
   "metadata": {},
   "source": [
    "## Needle bug\n",
    "\n",
    "```c++\n",
    "#include <iostream>\n",
    "#include <fstream>\n",
    "#include <cmath>\n",
    "#include <random>\n",
    "#include <cstdlib>\n",
    "#include <vector>\n",
    "\n",
    "int main(int argc, char **argv)\n",
    "{\n",
    "    const int SEED = std::atoi(argv[1]);;\n",
    "    const int SAMPLES = std::atoi(argv[2]);\n",
    "\n",
    "    std::mt19937 gen(SEED);\n",
    "    std::uniform_real_distribution<double> ug(0, 1.0/2.0);\n",
    "    std::uniform_real_distribution<double> vg(0, M_PI/2.0);\n",
    "    int samples = 0;\n",
    "    double count = 0;\n",
    "    while (samples < SAMPLES) {\n",
    "        double u = ug(gen);\n",
    "        double v = vg(gen);\n",
    "        if (2*u < std::sin(v)) {\n",
    "            count++;\n",
    "        }\n",
    "        samples++;\n",
    "    }\n",
    "    std::cout << \"Integral: \" << count/SAMPLES << \"\\n\";\n",
    "    return 0;\n",
    "}\n",
    "\n",
    "```"
   ]
  },
  {
   "cell_type": "markdown",
   "id": "3f5dfcab-6f63-4974-829b-752f06ed3bb2",
   "metadata": {},
   "source": [
    "# Markov-chain Monte Carlo simulations\n",
    "---\n",
    "REFS: \n",
    "- Boudreau, Applied Computational Physics\n",
    "- Heath, Scientific Computing\n",
    "- Landau y Paez, Computational physics, problem solving with computers\n",
    "- Anagnostoupulos, A practical introduction to computational physics and scientific computing\n",
    "- Ward, Numerical Mathematicas and Computing\n",
    "- - https://bookdown.org/rdpeng/advstatcomp/markov-chain-monte-carlo.html\n",
    "\n",
    "TO CHECK:\n",
    "- https://www.algorithm-archive.org/contents/metropolis/metropolis.html\n",
    "- http://www.cmap.polytechnique.fr/~gobet/DemoPython/MetropolisHastings_GaussianSampling.html\n",
    "- https://tmramalho.github.io/blog/2014/02/24/an-introduction-to-the-metropolis-method-with-python/\n",
    "- https://stackoverflow.com/questions/55525076/implementing-the-metropolis-hasting-algorithm\n",
    "- https://twiecki.io/blog/2015/11/10/mcmc-sampling/\n",
    "---\n",
    "\n",
    "\n",
    "The [Monte Carlo simulation method](https://en.wikipedia.org/wiki/Monte_Carlo_method) uses random sampling to perform computational experiments. One , very famous example, is the [Ising model (1920)](https://en.wikipedia.org/wiki/Ising_model), used to model magnetic materials (among many other applications). Here, each site on a discrete grid has a magnetic moment (or any other quantity) whose orientation (up/down, left/right, or angle) represents that site state, and there is an interaction with close neighbors (In 1D, neighbors left and right, in 2D, left/right/up/down). The interaction model can represent how the system respond to temperature and external magnetic field, or to external information pressure (for social systems) and so on. Here we will focus on the thermal 2D model that presents a phase transition. First, we will need to define some key concepts. The Ising model represents a system in the canonical ensemble (fixed temperature, number of particles and volume), where the samples are distributed according to a very specific distribution which you need to sample efficiently. To do so, you use a Markov-Chain and the Metropolis-Hastings algorithm.  The random process allows to simulate the intrinsic fluctuations when a system is in contact with a heat bath. "
   ]
  },
  {
   "cell_type": "markdown",
   "id": "1a6d7786-e248-4f4c-b4af-ce00d0658437",
   "metadata": {},
   "source": [
    "## Markov chain\n",
    "A [Markov chain](https://en.wikipedia.org/wiki/Markov_chain) is a sequence of states that are  produced by a stochastic process where the next state, $\\hat X_{i+1}$ depends only on the current one, $\\hat X_i$. **There is no memory**. The transition between this two states can be represented by the transition probability $p_{ij}$, which are the elements of and $M\\times M$ matrix ($M$ the number of states). They fulfill $\\sum_j p_{ij} = 1$. Here the transition matrix is independent on time.  Given two states, the *transition matrix*, $P_{ij}$ can be used to represent as,\n",
    "\\begin{equation}\n",
    "\\hat X_{j} = P \\hat X_i.\n",
    "\\end{equation}\n",
    "Using a super-script as denoting the iteration or algorithmic time, one has\n",
    "\\begin{equation}\n",
    "\\hat X^N = P \\hat X^{N-1} = P^N \\hat X^{0}.\n",
    "\\end{equation}\n",
    "Under certain conditions, there is a final state independent on the initial condition (a fixed point), which sometimes is called as the ergodic property, \n",
    "\\begin{equation}\n",
    "\\vec w = \\lim_{N\\to\\infty} P^N \\hat X^0.\n",
    "\\end{equation}\n",
    "One way to ensure this is the so-called detailed balance condition\n",
    "\\begin{equation}\n",
    "p_{ij} w_i = p_{ji} w_j.\n",
    "\\end{equation}\n",
    "Summing over $j$ demonstrates that $\\vec w$ is, indeed, a fixed point. By equating the fixed point with the desired distribution, by arranging the transition probabilities,  we complete the Markov chain procedure.\n",
    "\n",
    "If the actual probability to find the system in state $\\mu$  depends on time and is given by $w_\\mu(t)$, its time evolution is given by the *master equation*\n",
    "\n",
    "\\begin{equation}\n",
    "\\frac{dw_\\mu(t)}{dt} = \\sum_\\nu {w_\\nu(t) R(\\nu\\to\\mu) - w_\\mu(t) R(\\mu\\to\\nu)},\n",
    "\\end{equation}\n",
    "\n",
    "where $R(\\mu\\to\\nu)$ is the transition probability, and $\\sum_\\mu w_\\mu(t)= 1$. After a long time the system reaches a steady state  and $w_\\mu(t)$ converge to finite numbers $p_\\mu \\le 0$. In that case one has \n",
    "\n",
    "\\begin{equation}\n",
    "0 = \\sum_\\nu {w_\\nu(t) R(\\nu\\to\\mu) - w_\\mu(t) R(\\mu\\to\\nu)},\n",
    "\\end{equation}\n",
    "\n",
    "and the detailed balance condition is a sufficient (but not necessary) condition to fulfill this.\n",
    "\n",
    "\n",
    "<mark>Exercises</mark>\n",
    "- [ ] (Boudreau, 7.8.16) Consider the following transition matrix\n",
    "    \\begin{equation}\n",
    "    P = \\begin{pmatrix}\n",
    "    3/4 & 1/4 & 0\\\\\n",
    "    0 & 2/3 & 1/3\\\\\n",
    "    1/4 & 1/4 & 1/2\n",
    "    \\end{pmatrix}\n",
    "    \\end{equation}\n",
    "    Find:\n",
    "    + The eigen values and vectors\n",
    "    + The left and right eigen vectors and values\n",
    "    + The left and right fixed point probability vector, $\\vec w$\n",
    "    + $\\lim_\\limits{n\\to \\infty} P^n$. Is the fixed point independent of the starting vector?"
   ]
  },
  {
   "cell_type": "markdown",
   "id": "a6b2440e-f9ac-4d78-8b12-a2475a7f3a1a",
   "metadata": {},
   "source": [
    "## The Metropolis-Hastings algorithm\n",
    "The algorithm (Metropolis(1953) and Hastings(1970)) design appropriate transition probabilities to obtain a desired final $\\rho(\\hat X)$. A new state, $\\hat X' $ is generated from an old state, $\\hat X$, according to a proposal distribution , $R(\\hat X \\to \\hat X')$, which depends on the actual problem and the programmer (what random variates and distribution). It has the following steps per iteration:\n",
    "- generate a next state in the Markov chain according to $R(\\hat X \\to \\hat X')$. \n",
    "- Accept the new state with probability\n",
    "\n",
    "  \\begin{equation}\n",
    "  \\min \\left(1, \\frac{R(\\hat X' \\to \\hat X)\\rho(\\hat X')}{R(\\hat X \\to \\hat X')\\rho(\\hat X)} \\right)\n",
    "  \\end{equation}\n",
    "\n",
    "If the proposal distribution is reversible (like a Gaussian with fixed width), then the acceptance probability is \n",
    "\n",
    "\\begin{equation}\n",
    "\\min \\left(1, \\frac{\\rho(\\hat X')}{\\rho(\\hat X)} \\right).\n",
    "\\end{equation}\n",
    "\n",
    "This is called the Metropolis method.   \n",
    "\n",
    "Some possible problems to take into account:\n",
    "- *Slow mixing*: not efficient exploration of isolated states.\n",
    "- *Thermalization*: The simulation must run for a large time before reaching some kind of steady state. This depends, for instance, on temperature.\n",
    "- *Autocorrelation*: Successive samples are correlated, so you need to generate a given number of samples before taking one into account if your ensemble. \n",
    "- *Multimodality* (many maxima/minima): To explore one region the system must pass on a low probability region. \n",
    "\n",
    "### Connections with quantum mechanics\n",
    "- Schroedinger equation in imaginary time: Diffusion advection equation\n",
    "- Feynman path integral\n",
    "\n",
    "### Other sampling techniques\n",
    "- Cluster algorithms\n",
    "- Guided random walks\n",
    "- Microcanonical updating"
   ]
  },
  {
   "cell_type": "markdown",
   "id": "5fac6ba0-32c2-4504-b406-cc2c07dcc62a",
   "metadata": {},
   "source": [
    "<mark> Exercises </mark>\n",
    "- [ ] (Boudreau, 7.8.2) A gas is in thermal equilibrium at a temperature $T$, so its velocity distribution is \n",
    "\n",
    "  \\begin{equation}\n",
    "  p(v) dv = \\left( \\frac{m}{2\\pi \\tau} \\right)^{3/2} 4\\pi v^2 e^{-mv^2/2\\tau} dv,\n",
    "  \\end{equation}\n",
    "  where $\\tau = k T$, $m$ is the molecule mass, and $k_B$ is the Boltzmann constant. Non-dimensionalize this equation to show that this (Boltzmann) distribution can be sampled from the gamma distribution. Do it using scipy. Repeat this generation but using Markov chain Monte Carlo.  "
   ]
  },
  {
   "cell_type": "code",
   "execution_count": null,
   "id": "63046e98-ea61-482d-98f4-1a1abcd1aa13",
   "metadata": {
    "deletable": false,
    "nbgrader": {
     "cell_type": "code",
     "checksum": "2cdef6b25f40c89e89151481cc0b5585",
     "grade": false,
     "grade_id": "cell-d6c5f911f3edaaa1",
     "locked": false,
     "schema_version": 3,
     "solution": true,
     "task": false
    },
    "tags": []
   },
   "outputs": [],
   "source": [
    "# YOUR CODE HERE\n",
    "raise NotImplementedError()"
   ]
  },
  {
   "cell_type": "markdown",
   "id": "cf1ca294-dfae-4ac7-950b-22e3f4556a81",
   "metadata": {},
   "source": [
    "## Statistical mechanics\n",
    "In the canonical ensemble the probability to sample a state $\\mu$, with energy $E_\\mu$, at temperature $T$, is given by \n",
    "\n",
    "\\begin{equation}\n",
    "p_\\mu = \\frac{1}{Z} e^{-\\beta E_\\mu},\n",
    "\\end{equation}\n",
    "\n",
    "where $\\beta = 1/kT$ and $Z = \\sum_\\mu e^{-\\beta E_\\mu}$ is called the partition function. Is not simply a normalization factor, it stores the information of the system. For instance, to compute an observable average $\\langle O \\rangle$, one has\n",
    "\n",
    "\\begin{equation}\n",
    "\\langle O \\rangle = \\sum_\\mu p_\\mu O_\\mu.\n",
    "\\end{equation}\n",
    "\n",
    "When we sample with the actual system distribution, as in the Metropolis-Hastings method, it is called **importance sampling** and the average value for a given observable is simply\n",
    "\n",
    "\\begin{equation}\n",
    "\\langle O \\rangle = \\frac{1}{N} \\sum O_i,\n",
    "\\end{equation}\n",
    "where the samples must be independent (not correlated).\n",
    "\n",
    "For the mean energy, one has\n",
    "\n",
    "\\begin{equation}\n",
    "\\langle E \\rangle = \\sum_\\mu p_\\mu E_\\mu = \\sum_\\mu \\frac{1}{Z} e^{-\\beta E_\\mu} = -\\frac{\\partial \\ln Z}{\\partial \\beta}\n",
    "\\end{equation}\n",
    "\n",
    "The specific heat can be computed as \n",
    "\n",
    "\\begin{equation}\n",
    "C = \\frac{\\partial U}{\\partial T} = k\\beta^2 \\frac{\\partial^2 \\ln Z}{\\partial \\beta^2} =  k\\beta^2 (\\Delta E) ^2.\n",
    "\\end{equation}\n",
    "\n",
    "The entropy can be shown to be\n",
    "\n",
    "\\begin{equation}\n",
    "S = -k\\sum_\\mu p_\\mu \\ln p_\\mu\n",
    "\\end{equation}\n",
    "\n"
   ]
  },
  {
   "cell_type": "markdown",
   "id": "9505b707-52f0-45a1-9dc4-0e3e96bd42e8",
   "metadata": {},
   "source": [
    "## Ising model\n",
    "In the [Ising model](https://www.intechopen.com/chapters/71210), each site on a grid is assigned a given state, up or down\n",
    "<img src=\"https://qph.cf2.quoracdn.net/main-qimg-0fb41bd632ba1eea8a654828dcff5d93-pjlq\">\n",
    "\n",
    "The state of cell $i$ will be denote as $\\sigma_i = \\pm 1$. The interaction with the neighbors are represented by the Hamiltonian \n",
    "\n",
    "\\begin{equation}\n",
    "H = -J \\sum \\sigma_i \\sigma_{j} - B\\sum\\sigma_i,\n",
    "\\end{equation}\n",
    "\n",
    "where $J$ is the coupling constant and the sum is over all $i$ sites and $j$ are all the neighbors of that site, and $B$ is the strength of an external magnetic field. If $J>0$ then the system is ferromagnetic (favors equally oriented spins). The difficulty of modelling a simtem like this is that a simple $5\\times 5$ system, the partition function would need to be summed up on $2^25 \\simeq 3.4\\times 10^6$ terms.\n",
    "\n",
    "Other observables of interest on the Ising model are\n",
    "- The magnetization:\n",
    "  \\begin{equation}\n",
    "  M = \\left|\\sum \\sigma_i \\right|.\n",
    "  \\end{equation}\n",
    "- The susceptibility:\n",
    "  \\begin{equation}\n",
    "  \\chi = \\beta (\\Delta M)^2.\n",
    "  \\end{equation}\n",
    "\n",
    "\n",
    "We would like to simulate the Ising system to reproduce an interesting phenomena: a phase transition. For $B=0$, the system will be magnetized (or not) and the behaviour will be clearly determined for a critical temperature \n",
    "\n",
    "\\begin{equation}\n",
    "\\beta_c = \\frac{1}{2}\\ln(1+\\sqrt{2}) \\simeq  0.4406867935\\ldots\n",
    "\\end{equation}\n",
    "\n",
    "<!-- <img src=\"https://farside.ph.utexas.edu/teaching/329/lectures/img1313.png\">\n",
    "Reproduced from \n",
    "https://farside.ph.utexas.edu/teaching/329/lectures/node110.html\n",
    " -->\n",
    "<img src=\"https://miro.medium.com/max/1400/1*ODPEcoAf3Rwfyyo7lTsNFw.png\">\n",
    "From: https://towardsdatascience.com/monte-carlo-method-applied-on-a-2d-binary-alloy-using-an-ising-model-on-python-70afa03b172b\n",
    "\n",
    "Check the following:\n",
    "- https://www.ibiblio.org/e-notes/Perc/ising.htm\n",
    "- http://www.bdhammel.com/ising-model/\n",
    "- https://www.ippp.dur.ac.uk/~krauss/Lectures/NumericalMethods/PhaseTransitions/Lecture/pt1.html\n",
    "- https://rajeshrinet.github.io/blog/2014/ising-model/\n"
   ]
  },
  {
   "cell_type": "markdown",
   "id": "6f99be80-98e7-497c-9dc6-e6d2ca56e676",
   "metadata": {},
   "source": [
    "## Ising model and metropolis-Hastings\n",
    "Since the system is in the canonical ensemble (fixed temperature) it should be sampled from \n",
    "\n",
    "\\begin{equation}\n",
    "p(X) = \\frac{e^{-\\beta H(X)}}{Z},\n",
    "\\end{equation}\n",
    "\n",
    "where $\\beta = 1/k T$ is the Boltzmann factor and $Z$ is the partition function, $Z = \\sum e^{-\\beta H(x)}$. Given that the Hamiltonian is local, applying the Metropolis algorithm to this canonical probability simplifies to computing just the change with interacting neighbors. In this our method to generate new states could be chosing (at random) a given site and them flipping its state: This implies that $R(\\hat X \\to \\hat X')$ is reversible, and then also \n",
    "\n",
    "\\begin{equation}\n",
    "\\min \\left(1, \\frac{\\rho(\\hat X')}{\\rho(\\hat X)} \\right) = \\min \\left(1, e^{-\\beta(H(x') - H(x))} \\right) = \\min \\left(1, e^{-\\beta(E' - E)} \\right) = \\min \\left(1, e^{-\\beta \\Delta E} \\right).\n",
    "\\end{equation}\n",
    "\n",
    "Therefore, you generate a new sample, if the energy is less than the previous one, the new sample is accepted. Otherwise, a random number $z \\in [0, 1) $ is thrown and the new sample is accepted if $z < e^{-\\beta \\Delta E}$. $\\Delta E$ can be easily computed for a 2D system: If a site $i$ is selected and flipped, and its original value is $\\sigma_i$, then $\\Delta E = E' - E = 2J\\sigma_i \\sum_j \\sigma_j$, where the sum is performed over the neighbors."
   ]
  },
  {
   "cell_type": "markdown",
   "id": "d9e00aaf-d4b0-476e-b239-f2b8866f9042",
   "metadata": {},
   "source": [
    "### The simulation\n",
    "We will use a periodic lattice of size $N\\times N$ (Toroidal geometry). We will need  functions for\n",
    "- Setting up the initial state\n",
    "  + Input: The lattice \n",
    "  + Output: The lattice with some initial condition\n",
    "- Perform a montecarlo step:\n",
    "  + Input: The lattice, the J constant value, a random number generator already seeded\n",
    "  + Output: The lattice with the corresponding change. \n",
    "- Plot/visualize the system: \n",
    "  + Input: The lattice\n",
    "  + Output: A graphical representation\n",
    "- Observables: compute the energy, magnetization, specific heat, etc. \n",
    "  + Input: The lattice\n",
    "  + Output: The observables values at that realization\n",
    "- Perform the simulation: Iterate over time, performing many MonteCarlo steps. Also accumulates the observables \n",
    "\n",
    "Based on : https://rajeshrinet.github.io/blog/2014/ising-model/ and https://towardsdatascience.com/monte-carlo-method-applied-on-a-2d-binary-alloy-using-an-ising-model-on-python-70afa03b172b"
   ]
  },
  {
   "cell_type": "code",
   "execution_count": null,
   "id": "0b969d73-8ba3-4843-adce-ce991d265949",
   "metadata": {},
   "outputs": [],
   "source": [
    "# Import cell\n",
    "import numpy as np\n",
    "import matplotlib.pyplot as plt\n",
    "from numba import njit"
   ]
  },
  {
   "cell_type": "code",
   "execution_count": null,
   "id": "bb609a23-b344-4391-98ef-fbe52558742b",
   "metadata": {
    "deletable": false,
    "nbgrader": {
     "cell_type": "code",
     "checksum": "1aaa5e1699b19fbb018cd4dc2a285a64",
     "grade": false,
     "grade_id": "cell-701278a03e6437be",
     "locked": false,
     "schema_version": 3,
     "solution": true,
     "task": false
    },
    "tags": []
   },
   "outputs": [],
   "source": [
    "# functions before the main application\n",
    "\n",
    "def initial_state(rng, n):\n",
    "    \"\"\"\n",
    "    Generates a random spin configuration\n",
    "    \"\"\"\n",
    "    return 2*rng.integers(0, 2, size=((n,n))) - 1\n",
    "\n",
    "\n",
    "def mc_single_step(rng, grid, beta):\n",
    "    \"\"\"\n",
    "    Monte Carlo move using the metropolis algorithm\n",
    "    \"\"\"\n",
    "    # YOUR CODE HERE\n",
    "    raise NotImplementedError()\n",
    "        \n",
    "\n",
    "def mc_full_step(rng, grid, beta):\n",
    "    \"\"\"\n",
    "    Perform a full (on average on every site) monte carlo step\n",
    "    \"\"\"\n",
    "    n = grid.shape[0]\n",
    "    n2 = n*n\n",
    "    for istep in range(0, n2):\n",
    "        mc_single_step(rng, grid, beta)\n",
    "\n",
    "@njit\n",
    "def compute_energy(grid):\n",
    "    \"\"\"\n",
    "    Energy for this configuration\n",
    "    \"\"\"\n",
    "    # YOUR CODE HERE\n",
    "    raise NotImplementedError()\n",
    "\n",
    "@njit\n",
    "def compute_magnetization(grid):\n",
    "    # YOUR CODE HERE\n",
    "    raise NotImplementedError()\n",
    "    "
   ]
  },
  {
   "cell_type": "code",
   "execution_count": null,
   "id": "55868372-39c8-4f57-a65e-847cd0e516e8",
   "metadata": {},
   "outputs": [],
   "source": [
    "# Constants\n",
    "N = 15 # grid size\n",
    "NTEMP = 20 # Number of temperature points\n",
    "TEMP = np.linspace(1.53, 3.28, NTEMP)\n",
    "BETA = 1.0/TEMP\n",
    "NEQ = 300 # Equilibration steps (full sweep)\n",
    "NSAMPLE = 1000 # Samples to take\n",
    "\n",
    "NCOLS = 5\n",
    "NROWS = int(NTEMP/NCOLS)\n",
    "\n",
    "# Observables\n",
    "E, M, C, X = np.zeros(NTEMP), np.zeros(NTEMP), np.zeros(NTEMP), np.zeros(NTEMP)"
   ]
  },
  {
   "cell_type": "code",
   "execution_count": null,
   "id": "d36bdf19-ec95-4612-9932-7555280a65e1",
   "metadata": {
    "tags": []
   },
   "outputs": [],
   "source": [
    "fig, ax = plt.subplots(NROWS, NCOLS, sharex = True, sharey = True)\n",
    "\n",
    "for itemp in range(NTEMP):\n",
    "    SEED = 42 # can be itemp or whatever\n",
    "    rng = np.random.default_rng(seed=SEED)\n",
    "    e1 = m1 = e2 = m2 = 0.0\n",
    "    \n",
    "    # create the grid\n",
    "    grid = initial_state(rng, N)\n",
    "\n",
    "    # equilibration/thermalization\n",
    "    for ieq in range(NEQ):\n",
    "        mc_full_step(rng, grid, BETA[itemp])\n",
    "\n",
    "    # Sampling (what about correlation?)\n",
    "    for isample in range(NSAMPLE):\n",
    "        mc_full_step(rng, grid, BETA[itemp])\n",
    "        energy = compute_energy(grid)\n",
    "        magnetization = compute_magnetization(grid)\n",
    "        e1 += energy\n",
    "        e2 += energy*energy\n",
    "        m1 += magnetization\n",
    "        m2 += magnetization*magnetization\n",
    "    ax[itemp//NCOLS, itemp%NCOLS].imshow(grid)\n",
    "    ax[itemp//NCOLS, itemp%NCOLS].set_title(rf\"$T = {TEMP[itemp]:.2f}$\")\n",
    "\n",
    "    # Compute averages and also normalize by size\n",
    "    n1 = 1.0/(NSAMPLE*N*N)\n",
    "    n2 = n1/NSAMPLE\n",
    "    E[itemp] = e1*n1\n",
    "    M[itemp] = m1*n1\n",
    "    C[itemp] = (n1*e2 - n2*e1*e1)*BETA[itemp]*BETA[itemp]\n",
    "    X[itemp] = (n1*m2 - n2*m1*m1)*BETA[itemp]\n",
    "plt.tight_layout()"
   ]
  },
  {
   "cell_type": "code",
   "execution_count": null,
   "id": "e474778d-ea8e-42f6-b110-6e312eed48b6",
   "metadata": {},
   "outputs": [],
   "source": [
    "# Plot the observables\n",
    "# Critical temp: 2.269\n",
    "fig, ax = plt.subplots(2,2, sharex = True)\n",
    "ax[0, 0].plot(TEMP, E, '-o')\n",
    "ax[0, 0].set_title(\"Energy\")\n",
    "ax[0, 1].plot(TEMP, M, '-o')\n",
    "ax[0, 1].set_title(\"Magnetization\")\n",
    "ax[1, 0].plot(TEMP, C, '-o')\n",
    "ax[1, 0].set_title(\"Specific heat\")\n",
    "ax[1, 1].plot(TEMP, X, '-o')\n",
    "ax[1, 1].set_title(\"Susceptibility\")\n"
   ]
  },
  {
   "cell_type": "markdown",
   "id": "c69e7fe6-592e-4116-b8ae-95f1a0834376",
   "metadata": {},
   "source": [
    "## More topics:\n",
    "- Percolation\n",
    "- Fractals\n",
    "- Scaling and critical exponents\n",
    "- Universality and renormalization"
   ]
  },
  {
   "cell_type": "markdown",
   "id": "1d4b5d14-eb03-49e4-8a23-22cda54f2fb2",
   "metadata": {},
   "source": [
    "## Exercises\n",
    "- [ ] Plot the observable for several system sizes. Is there any dependence?"
   ]
  },
  {
   "cell_type": "code",
   "execution_count": null,
   "id": "fd5a76c5-61e8-4582-b47c-35572378fbd7",
   "metadata": {
    "deletable": false,
    "nbgrader": {
     "cell_type": "code",
     "checksum": "b9ee9ec3b8a27942c5ddf8821eac80b8",
     "grade": false,
     "grade_id": "cell-95419a793dc9d479",
     "locked": false,
     "schema_version": 3,
     "solution": true,
     "task": false
    },
    "tags": []
   },
   "outputs": [],
   "source": [
    "# YOUR CODE HERE\n",
    "raise NotImplementedError()"
   ]
  },
  {
   "cell_type": "markdown",
   "id": "bea69b66-464b-4d9d-b7a3-8750c86a5d0a",
   "metadata": {},
   "source": [
    "- [ ] Plot the energy, magnetization, etc, as functions of time, for several temperatures, including the critical one. What do you observe? "
   ]
  },
  {
   "cell_type": "code",
   "execution_count": null,
   "id": "5a3e5469-f92c-4b54-877c-be1d76f5a308",
   "metadata": {
    "deletable": false,
    "nbgrader": {
     "cell_type": "code",
     "checksum": "a23eb93c1c453df289112dff0d4bd344",
     "grade": false,
     "grade_id": "cell-82b7a067478da2ce",
     "locked": false,
     "schema_version": 3,
     "solution": true,
     "task": false
    },
    "tags": []
   },
   "outputs": [],
   "source": [
    "# YOUR CODE HERE\n",
    "raise NotImplementedError()\n"
   ]
  },
  {
   "cell_type": "markdown",
   "id": "70381d3c-904e-4fc4-b6a7-06fb2fcb1900",
   "metadata": {},
   "source": [
    "- [ ] Plot the magnetization and energy versus iteration for several seeds. "
   ]
  },
  {
   "cell_type": "code",
   "execution_count": null,
   "id": "91019a04-d01e-4dfd-9d50-234412f1c4fc",
   "metadata": {
    "deletable": false,
    "nbgrader": {
     "cell_type": "code",
     "checksum": "e73365330ca7ae9279fd82362e3f0eed",
     "grade": false,
     "grade_id": "cell-8d4b3e8c7fdb3410",
     "locked": false,
     "schema_version": 3,
     "solution": true,
     "task": false
    },
    "tags": []
   },
   "outputs": [],
   "source": [
    "# PLOT HERE THE ENERGY AND MAGNETIZATION AS FUNCTIONS OF TIME FOR SEVERAL SEEDS\n",
    "# YOUR CODE HERE\n",
    "raise NotImplementedError()"
   ]
  },
  {
   "cell_type": "markdown",
   "id": "0260e2df-f1c6-426e-aad6-61dde7c38c9d",
   "metadata": {},
   "source": [
    "- [ ] Compute the same observable but average over several seeds to compute the mean and the error of the mean"
   ]
  },
  {
   "cell_type": "code",
   "execution_count": null,
   "id": "cc6d6196-5ccd-4336-92e9-c466ebe4fff6",
   "metadata": {
    "deletable": false,
    "nbgrader": {
     "cell_type": "code",
     "checksum": "cb5d6aa0fe36482b08513e8433a490d5",
     "grade": false,
     "grade_id": "cell-aec42331a7d24053",
     "locked": false,
     "schema_version": 3,
     "solution": true,
     "task": false
    },
    "tags": []
   },
   "outputs": [],
   "source": [
    "# YOUR CODE HERE\n",
    "raise NotImplementedError()"
   ]
  },
  {
   "cell_type": "code",
   "execution_count": null,
   "id": "430f93c0-4500-407f-8aeb-e0522be85e5b",
   "metadata": {
    "deletable": false,
    "nbgrader": {
     "cell_type": "code",
     "checksum": "2429075d6abf658711a1d571bd46090c",
     "grade": false,
     "grade_id": "cell-43230f864b76d22b",
     "locked": false,
     "schema_version": 3,
     "solution": true,
     "task": false
    },
    "tags": []
   },
   "outputs": [],
   "source": [
    "# YOUR CODE HERE\n",
    "raise NotImplementedError()"
   ]
  },
  {
   "cell_type": "markdown",
   "id": "00adf524-bbd0-4d0d-9d81-2b7deed8fdb5",
   "metadata": {},
   "source": [
    "- [ ] Create an animation of the evolution of the system."
   ]
  },
  {
   "cell_type": "code",
   "execution_count": null,
   "id": "9ed02a95-0656-4499-b3d2-ab2ddb14c937",
   "metadata": {},
   "outputs": [],
   "source": []
  },
  {
   "cell_type": "markdown",
   "id": "2f99ef4b-0188-40d6-bbdb-d0eb5f4a9272",
   "metadata": {},
   "source": [
    "- [ ] There should be a correlation between samples. How will you compute it? or taking samples after a full sweep guarantees something?"
   ]
  },
  {
   "cell_type": "code",
   "execution_count": null,
   "id": "e5c3d87a-eb5f-4cda-9e9c-0d0ab190436c",
   "metadata": {},
   "outputs": [],
   "source": []
  },
  {
   "cell_type": "markdown",
   "id": "25e346f8-d7f3-4f3a-a17c-acca8ab52305",
   "metadata": {},
   "source": [
    "- [ ] The statistic over several seeds can be computed in parallel using the multiprocessing module (for example). Implement it. "
   ]
  },
  {
   "cell_type": "code",
   "execution_count": null,
   "id": "16043be0-7a4e-46d2-a537-d81d54b7ab22",
   "metadata": {},
   "outputs": [],
   "source": []
  },
  {
   "cell_type": "markdown",
   "id": "a5cb17bb-00b2-49cd-aca9-cfe7b4d4f065",
   "metadata": {},
   "source": [
    "- [ ] How does the computation time scales with $n$, for a full simulation?"
   ]
  },
  {
   "cell_type": "code",
   "execution_count": null,
   "id": "d1adccc6-dc7f-4781-a397-c78fc03e586c",
   "metadata": {},
   "outputs": [],
   "source": []
  },
  {
   "cell_type": "markdown",
   "id": "ff70dab2-4c13-4358-95d1-62e944b3687f",
   "metadata": {},
   "source": [
    "- [ ] Is there a relationship between the number of samples and the system size?"
   ]
  },
  {
   "cell_type": "code",
   "execution_count": null,
   "id": "b79400ea-5819-4292-9d84-75cfe50f1e37",
   "metadata": {},
   "outputs": [],
   "source": []
  },
  {
   "cell_type": "markdown",
   "id": "bd38fec4-741f-41e9-b09a-c8735cfffc6c",
   "metadata": {},
   "source": [
    "- [ ] Use vpython to visualize the system and its evolution"
   ]
  },
  {
   "cell_type": "code",
   "execution_count": null,
   "id": "3b254868-a63b-47f4-88d0-7fba033225b2",
   "metadata": {},
   "outputs": [],
   "source": []
  },
  {
   "cell_type": "markdown",
   "id": "51bb8015-ed9b-4197-a815-e8bb90a44c37",
   "metadata": {},
   "source": [
    "- [ ] Investigate the Wang-Landau sampling. Implement it. (FINAL PROJECT) "
   ]
  }
 ],
 "metadata": {
  "kernelspec": {
   "display_name": "Python 3 (ipykernel)",
   "language": "python",
   "name": "python3"
  },
  "language_info": {
   "codemirror_mode": {
    "name": "ipython",
    "version": 3
   },
   "file_extension": ".py",
   "mimetype": "text/x-python",
   "name": "python",
   "nbconvert_exporter": "python",
   "pygments_lexer": "ipython3",
   "version": "3.12.8"
  }
 },
 "nbformat": 4,
 "nbformat_minor": 5
}

{
 "cells": [
  {
   "cell_type": "markdown",
   "metadata": {
    "deletable": false,
    "editable": false,
    "id": "c9dc4273",
    "nbgrader": {
     "cell_type": "markdown",
     "checksum": "487f3cb813923033110882286839df54",
     "grade": false,
     "grade_id": "cell-4b341e3e3b63235a",
     "locked": true,
     "schema_version": 3,
     "solution": false,
     "task": false
    }
   },
   "source": [
    "# Common Numerical Integration Algorithms\n",
    "Computing a numerical integral (or quadrature) is a typical problem that appears everywhere in numerical computing. The simple task of computing the error function, $f(x) = \\int_{0}^x e^{-t^2}$, requires the application of numerical techniques to calculate this (improper integral) over an arbitrary range.  \n",
    "\n",
    "In any numerical computing course you will start by exploring the trapezoidal and the simpsons rule. Here we are jus going to give the general formulation and then go directly to the functions given by scipy\n",
    "\n",
    "Let's compare several of the typical algorithms: <https://www.geogebra.org/m/WsZgaJcc>, and a beautiful visualization at <https://www.youtube.com/watch?v=FnJqaIESC2s>"
   ]
  },
  {
   "cell_type": "markdown",
   "metadata": {
    "deletable": false,
    "editable": false,
    "id": "dc941ace",
    "nbgrader": {
     "cell_type": "markdown",
     "checksum": "6865bbf06e8fbce4136d686a8ea062e3",
     "grade": false,
     "grade_id": "cell-19136a34c92f38e2",
     "locked": true,
     "schema_version": 3,
     "solution": false,
     "task": false
    }
   },
   "source": [
    "## Trapezoidal rule\n",
    "Here the function between two points is approximated by a straight line and the te area covered by the trapezoid is added up. See: https://en.wikipedia.org/wiki/Trapezoidal_rule\n",
    "\n",
    "|<img src=\"https://upload.wikimedia.org/wikipedia/commons/thumb/d/d1/Integration_num_trapezes_notation.svg/330px-Integration_num_trapezes_notation.svg.png\" /> |<img src=\"https://upload.wikimedia.org/wikipedia/commons/thumb/7/7e/Trapezium2.gif/330px-Trapezium2.gif\" />|\n",
    "|-|-|\n",
    "|1-order interpolation|Better results for more intervals|\n",
    "\n",
    "\n",
    "The integral between two poins, $a$ and $b$, after dividing its lenght in $N$ intervals (N+1 points, regular partition) of size $\\Delta x = \\frac{b-a}{N}$, is given by\n",
    "\n",
    "$$\n",
    "\\int_a^b f(x) dx \\simeq \\Delta x \\left( \\frac{f(x_0)}{2} + \\sum_{k=1}^{N-1} f(x_k) +\\frac{f(x_N)}{2}\\right) + O(N^{-1}),\n",
    "$$\n",
    "\n",
    "where $x_k = x_0 + k \\Delta x$, $x_0 = a$, and $x_N=b$.\n",
    "\n",
    "### Exercise\n",
    "\n",
    "Now, please create a function to compute the integral of a function using the trapezoid algorithm. Write the declaration and implementation on in `integration.h` and `integration.cpp`, respectively. It must fulfill the following tests\n",
    "```c++\n",
    "std::cout << trapezoid(0.0, 1.0, 10, fun) << \"\\n\";\n",
    "std::cout << trapezoid(0.0, 1.0, 1000, fun) << \"\\n\";\n",
    "std::cout << trapezoid(0.0, 1.0, 10000000, fun) << \"\\n\";\n",
    "```\n",
    "with results\n",
    "```bash\n",
    "0.3350000000000001\n",
    "0.33333349999999995\n",
    "0.33333333333333487\n",
    "```\n",
    "where fun is the square function.\n",
    "\n"
   ]
  },
  {
   "cell_type": "markdown",
   "metadata": {
    "id": "4a7aa291-fbd3-4060-a2cd-6a20180ee456"
   },
   "source": [
    "### **Exercise**\n",
    "Now use your implementation to compute the error function as a function of $x$, using the partition shown. Your program must print also the relative error, comparing with the \"exact\" value from https://en.cppreference.com/w/cpp/numeric/math/erf . Print your data to `erf_data.txt` (print the x value, the numerical value of the integral, and the relative error)"
   ]
  },
  {
   "cell_type": "markdown",
   "metadata": {
    "id": "37c40843"
   },
   "source": [
    "\\begin{equation}\n",
    "f(x) = \\frac{2}{\\sqrt{\\pi}}\\int_0^x e^{-t^2} dt\n",
    "\\end{equation}\n",
    "\n",
    "$x \\in [0, 10]$, $\\Delta x = 0.1$\n",
    "\n",
    "$f(x=0), f(x=0+0.1), f(x=0+2\\times 0.1), f(x=0+3\\times 0.1), \\ldots$\n",
    "\n",
    "You can use the following python script as a template script to plot the data\n",
    "\n",
    "```python\n",
    "import matplotlib.pyplot as plt\n",
    "import seaborn as sns\n",
    "import numpy as np  \n",
    "sns.set_context('poster')\n",
    "\n",
    "x, erf, error = np.genfromtxt('erf_data.txt', unpack=True)\n",
    "fig, ax = plt.subplots(1, 2)\n",
    "ax[0].plot(x, erf, '-o', label=\"err function\")\n",
    "ax[0].legend()\n",
    "ax[1].plot(x, error, '-s', label=\"relative error\")\n",
    "ax[1].legend()\n",
    "ax[1].loglog()\n",
    "```"
   ]
  },
  {
   "cell_type": "code",
   "execution_count": null,
   "metadata": {
    "ExecuteTime": {
     "end_time": "2022-08-26T13:37:22.643242Z",
     "start_time": "2022-08-26T13:37:22.636203Z"
    },
    "deletable": false,
    "id": "5d9c4746",
    "nbgrader": {
     "cell_type": "code",
     "checksum": "4287060a26a94960b48cd0944ee00977",
     "grade": false,
     "grade_id": "cell-e03b1776d310babb",
     "locked": false,
     "schema_version": 3,
     "solution": true,
     "task": false
    }
   },
   "outputs": [],
   "source": []
  },
  {
   "cell_type": "markdown",
   "metadata": {
    "deletable": false,
    "editable": false,
    "id": "18e71430",
    "nbgrader": {
     "cell_type": "markdown",
     "checksum": "76420bd473d9d6c3497c1997fc96a422",
     "grade": false,
     "grade_id": "cell-392f63ac8bbc90b1",
     "locked": true,
     "schema_version": 3,
     "solution": false,
     "task": false
    }
   },
   "source": [
    "## Simpsons rule\n",
    "In this case, the method uses three discrete points and approximate the function as a parabola (second order polynomial), to improve the numerical integral computation. See: https://en.wikipedia.org/wiki/Simpson%27s_rule\n",
    "\n",
    "|<img src=\"https://upload.wikimedia.org/wikipedia/commons/thumb/c/ca/Simpsons_method_illustration.svg/440px-Simpsons_method_illustration.svg.png\" width=300 /> |<img src=\"https://upload.wikimedia.org/wikipedia/commons/thumb/6/67/Simpsonsrule2.gif/440px-Simpsonsrule2.gif\" />|\n",
    "|-|-|\n",
    "|2-order interpolation|Better results for more intervals|\n",
    "\n",
    "Now you compute the integral as\n",
    "\\begin{equation}\n",
    "\\int_a^b f(x) dx \\simeq \\frac{\\Delta x}{3}\\left( f(x_0) + 4 \\sum_{k=1}^{N/2} f(x_{2k-1}) + 2\\sum_{k=1}^{N/2-1} f(x_{2k}) + f(x_N)\\right) + O(N^{-3}).\n",
    "\\end{equation}\n",
    "Notice that $N$ must be even.\n",
    "\n",
    "Now let's implement it. Please add a new function to the `integration.*` files , that implements the simpsons rule.\n",
    "\n",
    "```c++\n",
    "std::cout << simpson(0.0, 1.0, 10) << \"\\n\";\n",
    "```\n",
    "\n"
   ]
  },
  {
   "cell_type": "markdown",
   "metadata": {
    "id": "JbdXoOhMEUCe"
   },
   "source": [
    "Should give"
   ]
  },
  {
   "cell_type": "markdown",
   "metadata": {
    "id": "ZXhj732WEc1U"
   },
   "source": [
    "```shell\n",
    "0.3333333333333333\n",
    "```"
   ]
  },
  {
   "cell_type": "markdown",
   "metadata": {
    "deletable": false,
    "editable": false,
    "id": "2e779bc5",
    "nbgrader": {
     "cell_type": "markdown",
     "checksum": "64590bccca8bae4516db202c0c83c723",
     "grade": false,
     "grade_id": "cell-899b9414e9d7c54b",
     "locked": true,
     "schema_version": 3,
     "solution": false,
     "task": false
    }
   },
   "source": [
    "## Romberg method\n",
    "The [Romberg Method](https://en.wikipedia.org/wiki/Romberg%27s_method) applies Richardson extrapolation to the given integration technique. The implementation is completely analogous as for the derivatives case.\n",
    "\n",
    "Implement it for the previous method shown and compare the errors as a function of $N$, the number of intervals. Use the err function and fix $x = 0.54432$.\n",
    "\n",
    "\n",
    "\n"
   ]
  },
  {
   "cell_type": "markdown",
   "metadata": {
    "id": "3HmDmnb2I0V-"
   },
   "source": [
    "## Other techniques\n",
    "There are ways to improve the previous algorithms to decrease the error: using  higher order decompositions, using [Adaptative techniques](https://en.wikipedia.org/wiki/Adaptive_Simpson%27s_method), using [Gaussian quadrature](https://en.wikipedia.org/wiki/Gaussian_quadrature), mixing some of these techniques, etc. But implementing those methods by hand would be a daunting task.\n",
    "\n",
    "NOTE: When you have tabular data, you will be almost forced to use either the trapezoid or the simpsons method. You could also first interpolate the data and then integrate."
   ]
  },
  {
   "cell_type": "markdown",
   "metadata": {
    "id": "7ya7pY8XJK_l"
   },
   "source": [
    "## Gaussian quadrature: Introduction to vectors\n",
    "[Gaussian quadrature](https://en.wikipedia.org/wiki/Gaussian_quadrature?useskin=vector) is a very clever technique that allows to compute integrals with a high precision and minimal number of points. First, notice that any numerical integral method can be written as\n",
    "\n",
    "$$\n",
    "I \\simeq \\sum w_i f(x_i),\n",
    "$$\n",
    "\n",
    "where $x_i$ are the evaluation points and $w_i$ the associated weigths. What if you don't fix the $x_i$ to a uniform spacing, but, instead, try to compute both their optimal positions plus the optimal weights so you compute exactly the integral for an interpolating polynomial of degree $2n-1$, using $n$ points? that is the basic idea behind the method. The modern formulation, thanks to Jacobi, uses orthogonal polynomials, usually in the [-1, 1] domain (so you need to re-scale your data).\n",
    "\n",
    "<div style=\"text-align: center;\">\n",
    "    <img src=\"https://upload.wikimedia.org/wikipedia/commons/thumb/9/93/Comparison_Gaussquad_trapezoidal.svg/660px-Comparison_Gaussquad_trapezoidal.svg.png\" alt=\"Image Description\" width=\"600\">\n",
    "    <figcaption>From: \"https://upload.wikimedia.org/wikipedia/commons/thumb/9/93/Comparison_Gaussquad_trapezoidal.svg/660px-Comparison_Gaussquad_trapezoidal.svg.png\"</figcaption>\n",
    "</div>\n",
    "In this image, it is illustrated that although the Gaussian method uses only two points, it is exact since the integration is done on a 3-degree polynomial.\n",
    "\n",
    "\n",
    "For the Gauss-Legendre formulation, you can check the weights at https://en.wikipedia.org/wiki/Gaussian_quadrature?useskin=vector#Gauss%E2%80%93Legendre_quadrature\n",
    "\n",
    "To succesfully apply the Gaussian quadrature technique to a general integral on the interval [a, b], we need to map it to the interval [-1, 1], so we can use the mapping\n",
    "\n",
    "$$\n",
    "x = \\frac{b-a}{2}x' + \\frac{b+a}{2},\n",
    "$$\n",
    "\n",
    "therefore\n",
    "\n",
    "$$\n",
    "\\int_a^b f(x) dx \\simeq \\frac{b-a}{2} \\sum w_i f\\left(\\frac{b-a}{2}x' + \\frac{b+a}{2}\\right)\n",
    "$$\n",
    "\n",
    "using the $w_i$ from the method."
   ]
  },
  {
   "cell_type": "markdown",
   "metadata": {
    "id": "7ya7pY8XJK_l"
   },
   "source": [
    "## Example using a vector to store the weights.\n",
    "For an increasing number of points, you will need to use many variables to store the weights. For a degree $n=5$, you will need five variables to store the weights, five more for the points, and then manually process that. It will be much better to store them in an data structure that allow us to handle the operations in a generic way. In this case, it will be a `std::vector`, which allows us to store data, contiguously in memory, and process it using simple for loops (SIMD).\n",
    "\n",
    "Our declaration could be\n",
    "```c++\n",
    "double gauss_5(double a, double b, fptr fun);\n",
    "```\n",
    "and its implementation (you need to finish it)\n",
    "```c++\n",
    "double gauss_5(double a, double b, fptr fun)\n",
    "{\n",
    "    std::vector<double> x(5); // store five points in the array\n",
    "    std::vector<double> w(5); // store five weights in the array\n",
    "    // initialize the data, sorted from left to right\n",
    "    x[0] = -std::sqrt(5 + 2std::sqrt(10/7));\n",
    "    x[1] = -std::sqrt(5 - 2std::sqrt(10/7));\n",
    "    x[2] = 0.0;\n",
    "    // ...\n",
    "    w[0] = (322 - 13*std::sqrt(70))/(900);\n",
    "    w[1] = (322 + 13*std::sqrt(70))/(900);\n",
    "    w[2] = 128.0/255.0;\n",
    "    //...\n",
    "    // compute the integral\n",
    "    double result = 0.0;\n",
    "    for (int ii = 0; ii < 5; ++ii) {\n",
    "        result += w[ii]*fun((b-a)*x[ii]/2 + (b+a)/2);\n",
    "    }\n",
    "    return result*???;\n",
    "}\n",
    "```\n",
    "\n",
    "Notice how easy is to process data in an array.\n",
    "\n",
    "Now finish the implementation, and print the error, as a function of $x$, computing the err function, comparing the relative errors  with trapezoid, simpson, trapezoid+richardson, simpson+trapezoid, gauss_5. Plot it."
   ]
  },
  {
   "cell_type": "markdown",
   "metadata": {
    "id": "FbQNflmjJHg8"
   },
   "source": [
    "## Exercises\n",
    "### Gauss quadrature of order 7\n",
    "(REF: Sirca, Computational Methods in Physics. Also\n",
    "<https://en.wikipedia.org/wiki/Gaussian_quadrature>) The Gaussian quadrature is a\n",
    "very powerful method to compute integrals, where the points and weights are\n",
    "wisely chosen to improve the algorithm precision. The method is formulated in\n",
    "the range [-1, 1], so maybe the general integral must be scaled as\n",
    "\n",
    "\\begin{equation}\n",
    "\\int_a^b f(x) dx = \\frac{b-a}{2} \\sum_{j=1}^{n} w_j f\\left(\\frac{b-a}{2} x_j + \\frac{a+b}{2} \\right) + O((b-a)^{2n+1}).\n",
    "\\end{equation}\n",
    "\n",
    "The next table shows the points positions and weights for the Gaussian integral\n",
    "of order 7, $G_7$,\n",
    "\n",
    "<table border=\"2\" cellspacing=\"0\" cellpadding=\"6\" rules=\"groups\" frame=\"hsides\">\n",
    "\n",
    "\n",
    "<colgroup>\n",
    "<col  class=\"org-left\" />\n",
    "\n",
    "<col  class=\"org-right\" />\n",
    "</colgroup>\n",
    "<thead>\n",
    "<tr>\n",
    "<th scope=\"col\" class=\"org-left\">Nodes position</th>\n",
    "<th scope=\"col\" class=\"org-right\">Weigths</th>\n",
    "</tr>\n",
    "</thead>\n",
    "\n",
    "<tbody>\n",
    "<tr>\n",
    "<td class=\"org-left\">$$\\pm 0.949107912342759$$</td>\n",
    "<td class=\"org-right\">0.129484966168870</td>\n",
    "</tr>\n",
    "\n",
    "\n",
    "<tr>\n",
    "<td class=\"org-left\">\\(\\pm 0.741531185599394\\)</td>\n",
    "<td class=\"org-right\">0.279705391489277</td>\n",
    "</tr>\n",
    "\n",
    "\n",
    "<tr>\n",
    "<td class=\"org-left\">\\(\\pm 0.405845151377397\\)</td>\n",
    "<td class=\"org-right\">0.381830050505119</td>\n",
    "</tr>\n",
    "\n",
    "\n",
    "<tr>\n",
    "<td class=\"org-left\">$ 0.000000000000000$</td>\n",
    "<td class=\"org-right\">0.417959183673469</td>\n",
    "</tr>\n",
    "</tbody>\n",
    "</table>\n",
    "\n",
    "1.  Implement the $G_7$ method (a functor would be useful) and compare its result\n",
    "    with the exact one. Integrate the function $\\sin\\sqrt x$ on the interval $[2,\n",
    "       8.7]$. The exact indefinite integral is $2\\sin\\sqrt x - 2\\sqrt x\\cos\\sqrt x$.\n",
    "    \n",
    "    <table border=\"2\" cellspacing=\"0\" cellpadding=\"6\" rules=\"groups\" frame=\"hsides\">\n",
    "    \n",
    "    \n",
    "    <colgroup>\n",
    "    <col  class=\"org-left\" />\n",
    "    \n",
    "    <col  class=\"org-right\" />\n",
    "    </colgroup>\n",
    "    <tbody>\n",
    "    <tr>\n",
    "    <td class=\"org-left\">G7:</td>\n",
    "    <td class=\"org-right\">4.637955250321647</td>\n",
    "    </tr>\n",
    "    \n",
    "    \n",
    "    <tr>\n",
    "    <td class=\"org-left\">Exact:</td>\n",
    "    <td class=\"org-right\">4.637955200036554</td>\n",
    "    </tr>\n",
    "    </tbody>\n",
    "    </table>\n",
    "\n",
    "2.  Compute the err function as a function of $x \\in [0, 10.0]$ in steps of\n",
    "    $0.05$, using both $G_7$ and Simpson+Richardson and plot the relative\n",
    "    difference with the &ldquo;exact&rdquo; function `std::erf`\n",
    "    (<https://en.cppreference.com/w/cpp/numeric/math/erf>).\n",
    "\n",
    "For more coefficients and higer orders, see <https://pomax.github.io/bezierinfo/legendre-gauss.html>\n"
   ]
  },
  {
   "cell_type": "markdown",
   "metadata": {},
   "source": [
    "### Integrating a datafile\n",
    "\n",
    "The following data (file `accel.txt`) represents the acceleration of a car as a\n",
    "function of time\n",
    "\n",
    "<table border=\"2\" cellspacing=\"0\" cellpadding=\"6\" rules=\"groups\" frame=\"hsides\">\n",
    "\n",
    "\n",
    "<colgroup>\n",
    "<col  class=\"org-right\" />\n",
    "\n",
    "<col  class=\"org-right\" />\n",
    "</colgroup>\n",
    "<tbody>\n",
    "<tr>\n",
    "<td class=\"org-right\">0.5</td>\n",
    "<td class=\"org-right\">2</td>\n",
    "</tr>\n",
    "\n",
    "\n",
    "<tr>\n",
    "<td class=\"org-right\">1</td>\n",
    "<td class=\"org-right\">3</td>\n",
    "</tr>\n",
    "\n",
    "\n",
    "<tr>\n",
    "<td class=\"org-right\">1.3</td>\n",
    "<td class=\"org-right\">3.6</td>\n",
    "</tr>\n",
    "\n",
    "\n",
    "<tr>\n",
    "<td class=\"org-right\">1.7</td>\n",
    "<td class=\"org-right\">4.4</td>\n",
    "</tr>\n",
    "\n",
    "\n",
    "<tr>\n",
    "<td class=\"org-right\">1.9</td>\n",
    "<td class=\"org-right\">4.15</td>\n",
    "</tr>\n",
    "\n",
    "\n",
    "<tr>\n",
    "<td class=\"org-right\">2.1</td>\n",
    "<td class=\"org-right\">3.85</td>\n",
    "</tr>\n",
    "\n",
    "\n",
    "<tr>\n",
    "<td class=\"org-right\">2.5</td>\n",
    "<td class=\"org-right\">3.25</td>\n",
    "</tr>\n",
    "\n",
    "\n",
    "<tr>\n",
    "<td class=\"org-right\">2.9</td>\n",
    "<td class=\"org-right\">2.65</td>\n",
    "</tr>\n",
    "</tbody>\n",
    "</table>\n",
    "\n",
    "Save the data into the corresponding file. Then write a program to read the data\n",
    "and compute the velocity as a function of time by integrating at each time step.\n",
    "\n"
   ]
  },
  {
   "cell_type": "markdown",
   "metadata": {},
   "source": [
    "### Cumulative probability\n",
    "The probability density function for the [Gamma distribution](https://en.wikipedia.org/wiki/Gamma_distribution) is\n",
    "\n",
    "\\begin{equation}\n",
    "f(x; \\alpha, \\beta) = \\frac{\\beta^\\alpha}{\\Gamma(\\alpha) x^{\\alpha -1} e^{-\\beta x} },\n",
    "\\end{equation}\n",
    "\n",
    "para $0 < x < \\infty$. Compute and plot the cumulative density function, using\n",
    "both the simpson method and the gaussian $g_7$, defined as\n",
    "\n",
    "\\begin{equation}\n",
    "F(x; \\alpha, \\beta) = \\int_0^x dt f(t; \\alpha, \\beta),\n",
    "\\end{equation}\n",
    "\n",
    "for $x \\in [0.0, 20.0]$, with $\\alpha = 7.5, \\beta = 1.0$.\n",
    "\n"
   ]
  },
  {
   "cell_type": "markdown",
   "metadata": {},
   "source": [
    "### Di-logarithm function\n",
    "The di-logarithm function is defined as\n",
    "\n",
    "\\begin{equation}\n",
    "\\mathrm{Li}_2(x) = -\\int_0^x \\frac{\\ln(1-t)}{t} dt.\n",
    "\\end{equation}\n",
    "\n",
    "Plot the di-logarithm function for $x \\in (0.0, 1.0)$. If you use simpson,\n",
    "always make sure that the error is less than $10^{-6}$. You might need to\n",
    "transform the variable and/or split the integral to avoid numerical problems.\n",
    "\n"
   ]
  },
  {
   "cell_type": "markdown",
   "metadata": {},
   "source": [
    "### Moment distribution\n",
    "The kth moment for a probability distribution is\n",
    "\n",
    "\\begin{equation}\n",
    "\\lt x^k \\gt = \\int x^k f(x) dx,\n",
    "\\end{equation}\n",
    "\n",
    "Compute the first ten moments for the  [Gamma distribution](https://en.wikipedia.org/wiki/Gamma_distribution) ,\n",
    "\n",
    "\\begin{equation}\n",
    "f(x; \\alpha, \\beta) = \\frac{\\beta^\\alpha}{\\Gamma(\\alpha) x^{\\alpha -1} e^{-\\beta x} }.\n",
    "\\end{equation}\n",
    "\n"
   ]
  },
  {
   "cell_type": "markdown",
   "metadata": {},
   "source": [
    "### Arch lenght, mass, centroid\n",
    "\n",
    "The arc length of a curve $y(x)$ is given by\n",
    "\n",
    "\\begin{equation}\n",
    "s = \\int_a^b dx \\sqrt{1 + \\left(\\frac{dy}{dx}  \\right)^2}.\n",
    "\\end{equation}\n",
    "\n",
    "If a linear body has a density $\\rho(x)$, the total mass would be\n",
    "\n",
    "\\begin{equation}\n",
    "M = \\int \\rho(x) ds.\n",
    "\\end{equation}\n",
    "\n",
    "The $x$ position of the centroid can also be computed as\n",
    "\n",
    "\\begin{equation}\n",
    "\\overline x = \\frac{\\int x\\rho ds}{\\int \\rho ds}\n",
    "\\end{equation}\n",
    "\n",
    "1.  (Boas, Mathematical Physics) Compute the arch length for the catenary $y =\n",
    "       \\cosh x$ between $x=-1$ and $x=1$.\n",
    "2.  For a chain with shape $x^2$, with density $|x|$, between $x = -1$ and $x=1$,\n",
    "    compute\n",
    "    1.  The arc length\n",
    "    2.  The total mass $M$\n",
    "    3.  $\\overline x$\n",
    "    4.  $\\overline y$\n",
    "\n"
   ]
  },
  {
   "cell_type": "code",
   "execution_count": null,
   "metadata": {},
   "outputs": [],
   "source": []
  }
 ],
 "metadata": {
  "colab": {
   "provenance": []
  },
  "kernelspec": {
   "display_name": "Python 3 (ipykernel)",
   "language": "python",
   "name": "python3"
  },
  "language_info": {
   "codemirror_mode": {
    "name": "ipython",
    "version": 3
   },
   "file_extension": ".py",
   "mimetype": "text/x-python",
   "name": "python",
   "nbconvert_exporter": "python",
   "pygments_lexer": "ipython3",
   "version": "3.10.6"
  }
 },
 "nbformat": 4,
 "nbformat_minor": 4
}

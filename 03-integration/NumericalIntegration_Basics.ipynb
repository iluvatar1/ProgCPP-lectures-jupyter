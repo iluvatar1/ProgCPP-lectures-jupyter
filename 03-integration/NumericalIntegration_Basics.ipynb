{
  "nbformat": 4,
  "nbformat_minor": 0,
  "metadata": {
    "colab": {
      "provenance": []
    },
    "kernelspec": {
      "name": "python3",
      "display_name": "Python 3"
    },
    "language_info": {
      "name": "python"
    }
  },
  "cells": [
    {
      "cell_type": "markdown",
      "metadata": {
        "deletable": false,
        "editable": false,
        "nbgrader": {
          "cell_type": "markdown",
          "checksum": "487f3cb813923033110882286839df54",
          "grade": false,
          "grade_id": "cell-4b341e3e3b63235a",
          "locked": true,
          "schema_version": 3,
          "solution": false,
          "task": false
        },
        "id": "c9dc4273"
      },
      "source": [
        "# Common Numerical Integration Algorithms\n",
        "Computing a numerical integral (or quadrature) is a typical problem that appears everywhere in numerical computing. The simple task of computing the error function, $f(x) = \\int_{0}^x e^{-t^2}$, requires the application of numerical techniques to calculate this (improper integral) over an arbitrary range.  \n",
        "\n",
        "In any numerical computing course you will start by exploring the trapezoidal and the simpsons rule. Here we are jus going to give the general formulation and then go directly to the functions given by scipy\n",
        "\n",
        "Let's compare several of the typical algorithms: https://www.geogebra.org/m/WsZgaJcc, and a beautiful visualization at https://www.youtube.com/watch?v=FnJqaIESC2s"
      ]
    },
    {
      "cell_type": "markdown",
      "metadata": {
        "deletable": false,
        "editable": false,
        "nbgrader": {
          "cell_type": "markdown",
          "checksum": "6865bbf06e8fbce4136d686a8ea062e3",
          "grade": false,
          "grade_id": "cell-19136a34c92f38e2",
          "locked": true,
          "schema_version": 3,
          "solution": false,
          "task": false
        },
        "id": "dc941ace"
      },
      "source": [
        "## Trapezoidal rule\n",
        "Here the function between two points is approximated by a straight line and the te area covered by the trapezoid is added up. See: https://en.wikipedia.org/wiki/Trapezoidal_rule\n",
        "\n",
        "|<img src=\"https://upload.wikimedia.org/wikipedia/commons/thumb/d/d1/Integration_num_trapezes_notation.svg/330px-Integration_num_trapezes_notation.svg.png\" /> |<img src=\"https://upload.wikimedia.org/wikipedia/commons/thumb/7/7e/Trapezium2.gif/330px-Trapezium2.gif\" />|\n",
        "|-|-|\n",
        "|1-order interpolation|Better results for more intervals|\n",
        "\n",
        "\n",
        "The integral between two poins, $a$ and $b$, after dividing its lenght in $N$ intervals (N+1 points, regular partition) of size $\\Delta x = \\frac{b-a}{N}$, is given by\n",
        "$$\\int_a^b f(x) dx \\simeq \\Delta x \\left( \\frac{f(x_0)}{2} + \\sum_{k=1}^{N-1} f(x_k) +\\frac{f(x_N)}{2}\\right) + O(N^{-1}),$$\n",
        "where $x_k = x_0 + k \\Delta x$, $x_0 = a$, and $x_N=b$.\n",
        "\n",
        "Now, please create a function to compute the integral of a function using the trapezoid algorithm. Write the declaration and implementation on in `integration.h` and `integration.cpp`, respectively. It must fulfill the following tests\n",
        "```c++\n",
        "std::cout << trapezoid(0.0, 1.0, 10, fun) << \"\\n\";\n",
        "std::cout << trapezoid(0.0, 1.0, 1000, fun) << \"\\n\";\n",
        "std::cout << trapezoid(0.0, 1.0, 10000000, fun) << \"\\n\";\n",
        "```\n",
        "with results\n",
        "```bash\n",
        "0.3350000000000001\n",
        "0.33333349999999995\n",
        "0.33333333333333487\n",
        "```\n",
        "where fun is the square function.\n",
        "\n"
      ]
    },
    {
      "cell_type": "markdown",
      "metadata": {
        "id": "4a7aa291-fbd3-4060-a2cd-6a20180ee456"
      },
      "source": [
        "## **Exercise**\n",
        "Now use your implementation to compute the error function as a function of $x$, using the partition shown. Your program must print also the relative error, comparing with the \"exact\" value from https://en.cppreference.com/w/cpp/numeric/math/erf . Print your data to `erf_data.txt` (print the x value, the numerical value of the integral, and the relative error)"
      ]
    },
    {
      "cell_type": "markdown",
      "metadata": {
        "id": "37c40843"
      },
      "source": [
        "\\begin{equation}\n",
        "f(x) = \\frac{2}{\\sqrt{\\pi}}\\int_0^x e^{-t^2} dt\n",
        "\\end{equation}\n",
        "\n",
        "$x \\in [0, 10]$, $\\Delta x = 0.1$\n",
        "\n",
        "$f(x=0), f(x=0+0.1), f(x=0+2\\times 0.1), f(x=0+3\\times 0.1), \\ldots$"
      ]
    },
    {
      "cell_type": "code",
      "execution_count": null,
      "metadata": {
        "ExecuteTime": {
          "end_time": "2022-08-26T13:37:22.643242Z",
          "start_time": "2022-08-26T13:37:22.636203Z"
        },
        "deletable": false,
        "nbgrader": {
          "cell_type": "code",
          "checksum": "4287060a26a94960b48cd0944ee00977",
          "grade": false,
          "grade_id": "cell-e03b1776d310babb",
          "locked": false,
          "schema_version": 3,
          "solution": true,
          "task": false
        },
        "id": "5d9c4746"
      },
      "outputs": [],
      "source": [
        "import matplotlib.pyplot as plt\n",
        "import seaborn as sns\n",
        "sns.set_context('poster')\n",
        "\n",
        "x, erf, error = np.getfromtxt('erf_data.txt', unpack=True)\n",
        "fig, ax = plt.subplots(1, 2)\n",
        "ax[0].plot(x, erf, '-o', label=\"err function\")\n",
        "ax[0].legend()\n",
        "ax[1].plot(x, error, '-s', label=\"relative error\")\n",
        "ax[1].legend()\n",
        "ax[1].loglog()"
      ]
    },
    {
      "cell_type": "markdown",
      "metadata": {
        "deletable": false,
        "editable": false,
        "nbgrader": {
          "cell_type": "markdown",
          "checksum": "76420bd473d9d6c3497c1997fc96a422",
          "grade": false,
          "grade_id": "cell-392f63ac8bbc90b1",
          "locked": true,
          "schema_version": 3,
          "solution": false,
          "task": false
        },
        "id": "18e71430"
      },
      "source": [
        "## Simpsons rule\n",
        "In this case, the method uses three discrete points and approximate the function as a parabola (second order polynomial), to improve the numerical integral computation. See: https://en.wikipedia.org/wiki/Simpson%27s_rule\n",
        "\n",
        "|<img src=\"https://upload.wikimedia.org/wikipedia/commons/thumb/c/ca/Simpsons_method_illustration.svg/440px-Simpsons_method_illustration.svg.png\" width=300 /> |<img src=\"https://upload.wikimedia.org/wikipedia/commons/thumb/6/67/Simpsonsrule2.gif/440px-Simpsonsrule2.gif\" />|\n",
        "|-|-|\n",
        "|2-order interpolation|Better results for more intervals|\n",
        "\n",
        "Now you compute the integral as\n",
        "\\begin{equation}\n",
        "\\int_a^b f(x) dx \\simeq \\frac{\\Delta x}{3}\\left( f(x_0) + 4 \\sum_{k=1}^{N/2} f(x_{2k-1}) + 2\\sum_{k=1}^{N/2-1} f(x_{2k}) + f(x_N)\\right) + O(N^{-3}).\n",
        "\\end{equation}\n",
        "Notice that $N$ must be even.\n",
        "\n",
        "Now let's implement it. Please add a new function to the `integration.*` files , that implements the simpsons rule.\n",
        "\n"
      ]
    },
    {
      "cell_type": "code",
      "execution_count": null,
      "metadata": {
        "ExecuteTime": {
          "end_time": "2022-08-26T13:54:58.854819Z",
          "start_time": "2022-08-26T13:54:58.849503Z"
        },
        "deletable": false,
        "nbgrader": {
          "cell_type": "code",
          "checksum": "4f34bf3b3acf3c25e8ba77ae75720a8c",
          "grade": false,
          "grade_id": "cell-faebff63fdb096ce",
          "locked": false,
          "schema_version": 3,
          "solution": true,
          "task": false
        },
        "id": "76c6224e"
      },
      "outputs": [],
      "source": [
        "std::cout << simpson(0.0, 1.0, 10) << \"\\n\";"
      ]
    },
    {
      "cell_type": "markdown",
      "source": [
        "Should give"
      ],
      "metadata": {
        "id": "JbdXoOhMEUCe"
      }
    },
    {
      "cell_type": "code",
      "source": [
        "0.3333333333333333"
      ],
      "metadata": {
        "id": "ZXhj732WEc1U"
      },
      "execution_count": null,
      "outputs": []
    },
    {
      "cell_type": "markdown",
      "metadata": {
        "deletable": false,
        "editable": false,
        "nbgrader": {
          "cell_type": "markdown",
          "checksum": "64590bccca8bae4516db202c0c83c723",
          "grade": false,
          "grade_id": "cell-899b9414e9d7c54b",
          "locked": true,
          "schema_version": 3,
          "solution": false,
          "task": false
        },
        "id": "2e779bc5"
      },
      "source": [
        "# Romberg method\n",
        "The [Romberg Method](https://en.wikipedia.org/wiki/Romberg%27s_method) applies Richardson extrapolation to the given integration technique. The implementation is completely analogous as for the derivatives case.\n",
        "\n",
        "Implement it for the previous method shown and compare the errors as a function of $N$, the number of intervals. Use the err function and fix $x = 0.54432$.\n",
        "\n",
        "\n",
        "\n"
      ]
    },
    {
      "cell_type": "code",
      "source": [],
      "metadata": {
        "id": "kEsIc5nwI5Ip"
      },
      "execution_count": null,
      "outputs": []
    },
    {
      "cell_type": "markdown",
      "source": [
        "## Other techniques\n",
        "There are ways to improve the previous algorithms to decrease the error: using  higher order decompositions, using [Adaptative techniques](https://en.wikipedia.org/wiki/Adaptive_Simpson%27s_method), using [Gaussian quadrature](https://en.wikipedia.org/wiki/Gaussian_quadrature), mixing some of these techniques, etc. But implementing those methods by hand would be a daunting task.\n",
        "\n",
        "NOTE: When you have tabular data, you will be almost forced to use either the trapezoid or the simpsons method. You could also first interpolate the data and then integrate."
      ],
      "metadata": {
        "id": "3HmDmnb2I0V-"
      }
    },
    {
      "cell_type": "markdown",
      "source": [
        "# Gaussian quadrature: Introduction to vectors\n",
        "[Gaussian quadrature](https://en.wikipedia.org/wiki/Gaussian_quadrature?useskin=vector) is a very clever technique that allows to compute integrals with a high precision and minimal number of points. First, notice that any numerical integral method can be written as\n",
        "$$\n",
        "I \\simeq \\sum w_i f(x_i),\n",
        "$$\n",
        "where $x_i$ are the evaluation points and $w_i$ the associated weigths. What if you don't fix the $x_i$ to a uniform spacing, but, instead, try to compute both their optimal positions plus the optimal weights so you compute exactly the integral for an interpolating polynomial of degree $2n-1$, using $n$ points? that is the basic idea behind the method. The modern formulation, thanks to Jacobi, uses orthogonal polynomials, usually in the [-1, 1] domain (so you need to re-scale your data).\n",
        "\n",
        "<div style=\"text-align: center;\">\n",
        "    <img src=\"https://upload.wikimedia.org/wikipedia/commons/thumb/9/93/Comparison_Gaussquad_trapezoidal.svg/660px-Comparison_Gaussquad_trapezoidal.svg.png\" alt=\"Image Description\" width=\"600\">\n",
        "    <figcaption>From: \"https://upload.wikimedia.org/wikipedia/commons/thumb/9/93/Comparison_Gaussquad_trapezoidal.svg/660px-Comparison_Gaussquad_trapezoidal.svg.png\"</figcaption>\n",
        "</div>\n",
        "In this image, it is illustrated that although the Gaussian method uses only two points, it is exact since the integration is done on a 3-degree polynomial.\n",
        "\n",
        "\n",
        "For the Gauss-Legendre formulation, you can check the weights at https://en.wikipedia.org/wiki/Gaussian_quadrature?useskin=vector#Gauss%E2%80%93Legendre_quadrature\n",
        "\n",
        "To succesfully apply the Gaussian quadrature technique to a general integral on the interval [a, b], we need to map it to the interval [-1, 1], so we can use the mapping\n",
        "$$\n",
        "x = \\frac{b-a}{2}x' + \\frac{b+a}{2},\n",
        "$$\n",
        "therefore\n",
        "$$\n",
        "\\int_a^b f(x) dx \\simeq \\sum w_i f(\\frac{b-a}{2}x' + \\frac{b+a}{2})\n",
        "$$\n",
        "using the $w_i$ from the method.\n",
        "\n",
        "## Example using a vector to store the weights.\n",
        "For an increasing number of points, you will need to use many variables to store the weights. For a degree $n=5$, you will need five variables to store the weights, five more for the points, and then manually process that. It will be much better to store them in an data structure that allow us to handle the operations in a generic way. In this case, it will be a `std::vector`, which allows us to store data, contiguously in memory, and process it using simple for loops (SIMD).\n",
        "\n",
        "Our declaration could be\n",
        "```c++\n",
        "double gauss_5(double a, double b, fptr fun);\n",
        "```\n",
        "and its implementation (you need to finish it)\n",
        "```c++\n",
        "double gauss_5(double a, double b, fptr fun)\n",
        "{\n",
        "    std::vector<double> x(5); // store five points in the array\n",
        "    std::vector<double> w(5); // store five weights in the array\n",
        "    // initialize the data, sorted from left to right\n",
        "    x[0] = -std::sqrt(5 + 2std::sqrt(10/7));\n",
        "    x[1] = -std::sqrt(5 - 2std::sqrt(10/7));\n",
        "    x[2] = 0.0;\n",
        "    // ...\n",
        "    w[0] = (322 - 13*std::sqrt(70))/(900);\n",
        "    w[1] = (322 + 13*std::sqrt(70))/(900);\n",
        "    w[2] = 128.0/255.0;\n",
        "    //...\n",
        "    // compute the integral\n",
        "    double result = 0.0;\n",
        "    for (int ii = 0; ii < 5; ++ii) {\n",
        "        result += w[ii]*fun((b-a)*x[ii]/2 + (b+a)/2);\n",
        "    }\n",
        "    return result;\n",
        "}\n",
        "```\n",
        "\n",
        "Notice how easy is to process data in an array.\n",
        "\n",
        "Now finish the implementation, and print the error, as a function of $x$, computing the err function, comparing the relative errors  with trapezoid, simpson, trapezoid+richardson, simpson+trapezoid, gauss_5. Plot it."
      ],
      "metadata": {
        "id": "7ya7pY8XJK_l"
      }
    },
    {
      "cell_type": "code",
      "source": [
        "\n"
      ],
      "metadata": {
        "id": "2hQTJQTKJEVS"
      },
      "execution_count": 1,
      "outputs": []
    },
    {
      "cell_type": "code",
      "source": [],
      "metadata": {
        "id": "FbQNflmjJHg8"
      },
      "execution_count": null,
      "outputs": []
    }
  ]
}
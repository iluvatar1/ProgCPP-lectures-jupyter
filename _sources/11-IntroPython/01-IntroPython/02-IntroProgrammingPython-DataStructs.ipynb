{
 "cells": [
  {
   "cell_type": "markdown",
   "id": "3a8f36fb",
   "metadata": {
    "slideshow": {
     "slide_type": "slide"
    }
   },
   "source": [
    "# Basic data structures\n",
    "\n",
    "## Lists\n",
    "\n",
    "Lists are heterogeneous and dynamic arrays which allows to group data which are not necessarily of the same type. Lists are very easy to use but, be careful, they are not the fastest struct you can use for numerical computations.\n",
    "\n",
    "A list is declared using the ```[ ]``` characters, and its elements are separated by ```,```.\n",
    "\n",
    "**NOTE**: Lists are NOT recommended for numerical work, it is better to use numpy arrays. \n",
    "\n",
    "See: https://quickref.me/python#python-lists"
   ]
  },
  {
   "cell_type": "code",
   "execution_count": 8,
   "id": "01e62a8a",
   "metadata": {
    "slideshow": {
     "slide_type": "fragment"
    }
   },
   "outputs": [
    {
     "name": "stdout",
     "output_type": "stream",
     "text": [
      "[]\n",
      "[1, 2, 3, 6.5, 'hello']\n"
     ]
    }
   ],
   "source": [
    "xdata = [] # declares empty list\n",
    "print (xdata)\n",
    "xdata = [1,2, 3, 6.5, 'hello'] # heterogeneous list\n",
    "print (xdata)"
   ]
  },
  {
   "cell_type": "code",
   "execution_count": 2,
   "id": "a22dc9ff",
   "metadata": {
    "slideshow": {
     "slide_type": "subslide"
    }
   },
   "outputs": [
    {
     "name": "stdout",
     "output_type": "stream",
     "text": [
      "1\n",
      "6.5\n",
      "hello\n",
      "l\n"
     ]
    }
   ],
   "source": [
    "# Access by indices\n",
    "print (xdata[0])\n",
    "print (xdata[3])\n",
    "print (xdata[4])\n",
    "print (xdata[4][3]) # Does this make sense?"
   ]
  },
  {
   "cell_type": "code",
   "execution_count": 9,
   "id": "768fc883",
   "metadata": {
    "slideshow": {
     "slide_type": "subslide"
    }
   },
   "outputs": [
    {
     "name": "stdout",
     "output_type": "stream",
     "text": [
      "[1, 2]\n",
      "[1, 2, 3]\n",
      "[1, 2, 3, 6.5]\n",
      "[1, 3]\n",
      "[1, 2, 3, 6.5, 'hello']\n",
      "['hello', 6.5, 3, 2, 1]\n",
      "[1, 2, 3, 6.5]\n"
     ]
    }
   ],
   "source": [
    "# Slicing operations [start=0, end, increment]\n",
    "print (xdata[0:2])\n",
    "print (xdata[0:3])\n",
    "print (xdata[0:4:1])\n",
    "print (xdata[:4:2])\n",
    "print (xdata[::1])\n",
    "print (xdata[::-1]) # inverse order\n",
    "print (xdata[:-1])"
   ]
  },
  {
   "cell_type": "code",
   "execution_count": 2,
   "id": "527deb9f",
   "metadata": {
    "slideshow": {
     "slide_type": "subslide"
    }
   },
   "outputs": [
    {
     "name": "stdout",
     "output_type": "stream",
     "text": [
      "[2, 3, 4, 3, 4, 5]\n",
      "[2, 3, 4, 3, 4, 5, 2, 3, 4, 3, 4, 5]\n"
     ]
    }
   ],
   "source": [
    "# From other lists\n",
    "a = [2,3,4]\n",
    "b = [3,4,5]\n",
    "c = a + b\n",
    "print (c) # Concatenate the lists\n",
    "print (2*c) # duplicate the list"
   ]
  },
  {
   "cell_type": "code",
   "execution_count": 7,
   "id": "6ce94d22-8f55-42da-990b-0f62b26ebe83",
   "metadata": {},
   "outputs": [
    {
     "name": "stdout",
     "output_type": "stream",
     "text": [
      "4348248336, 4348248368, 4348248400, 4348249680,  4348249680, \n"
     ]
    }
   ],
   "source": [
    "# Check memory address\n",
    "a.append(55)\n",
    "print(f\"{id(a[0])}, {id(a[1])}, {id(a[2])}, {id(a[3])}\")"
   ]
  },
  {
   "cell_type": "code",
   "execution_count": 10,
   "id": "752d342d",
   "metadata": {},
   "outputs": [
    {
     "name": "stdout",
     "output_type": "stream",
     "text": [
      "[5 7 9]\n",
      "[10 14 18]\n"
     ]
    }
   ],
   "source": [
    "import numpy as np\n",
    "a = np.array([2,3,4])\n",
    "b = np.array([3,4,5])\n",
    "c = a + b\n",
    "print (c)\n",
    "print(2*c)"
   ]
  },
  {
   "cell_type": "code",
   "execution_count": 9,
   "id": "49918387",
   "metadata": {
    "slideshow": {
     "slide_type": "subslide"
    }
   },
   "outputs": [
    {
     "name": "stdout",
     "output_type": "stream",
     "text": [
      "[0, 1, 4, 9, 16, 25, 36, 49, 64, 81]\n"
     ]
    }
   ],
   "source": [
    "# List comprehension\n",
    "squares = [x**2 for x in range(0, 10)]\n",
    "print(squares)"
   ]
  },
  {
   "cell_type": "markdown",
   "id": "041e090e",
   "metadata": {},
   "source": [
    "### Exercises"
   ]
  },
  {
   "cell_type": "markdown",
   "id": "bce7605b",
   "metadata": {},
   "source": [
    "<div class=\"alert alert-block alert-info\">\n",
    "<b>Exercise:</b> Write a function that receives a list and prints it in reverse order every 2 elements\n",
    "</div>"
   ]
  },
  {
   "cell_type": "code",
   "execution_count": 2,
   "id": "298903a1",
   "metadata": {
    "nbgrader": {
     "grade": false,
     "grade_id": "cell-3026391270b02aad",
     "locked": false,
     "schema_version": 3,
     "solution": true,
     "task": false
    }
   },
   "outputs": [],
   "source": [
    "def printreversed(l):\n",
    "    ### BEGIN SOLUTION\n",
    "    print(l[::-2])\n",
    "    ### END SOLUTION"
   ]
  },
  {
   "cell_type": "code",
   "execution_count": 6,
   "id": "6a39926f",
   "metadata": {},
   "outputs": [
    {
     "name": "stdout",
     "output_type": "stream",
     "text": [
      "[3, 1]\n",
      "['mundo', 4, 2]\n"
     ]
    }
   ],
   "source": [
    "printreversed([1, 2, 3])\n",
    "printreversed([1, 2, 3, 4 , \"hola\", \"mundo\"])"
   ]
  },
  {
   "cell_type": "markdown",
   "id": "50c613d3",
   "metadata": {},
   "source": [
    "<div class=\"alert alert-block alert-info\">\n",
    "<b>Exercise:</b> Write a function that receives a positive integer and returns a list with all its prime factors\n",
    "</div>"
   ]
  },
  {
   "cell_type": "code",
   "execution_count": 16,
   "id": "82c4c42a",
   "metadata": {
    "nbgrader": {
     "grade": false,
     "grade_id": "cell-dc8aaf6aaa514086",
     "locked": false,
     "schema_version": 3,
     "solution": true,
     "task": false
    }
   },
   "outputs": [],
   "source": [
    "import numpy as np\n",
    "\n",
    "def primefactors(n):\n",
    "    ### BEGIN SOLUTION\n",
    "    if True == isprime(n): \n",
    "        return [n]\n",
    "    primedivisors = []\n",
    "    for ii in range(2, n):\n",
    "        if n%ii==0 and isprime(ii):\n",
    "            primedivisors.append(ii)\n",
    "    return primedivisors\n",
    "    ### END SOLUTION\n",
    "    \n",
    "def isprime(n):\n",
    "    ### BEGIN SOLUTION\n",
    "    if n <=1: return False\n",
    "    for ii in range(2, int(np.sqrt(n))+1):\n",
    "        if n%ii == 0: \n",
    "            return False\n",
    "    return True\n",
    "    ### END SOLUTION"
   ]
  },
  {
   "cell_type": "code",
   "execution_count": 18,
   "id": "50919b80",
   "metadata": {},
   "outputs": [
    {
     "name": "stdout",
     "output_type": "stream",
     "text": [
      "[2]\n",
      "[2, 5]\n",
      "[3, 67]\n",
      "[97]\n",
      "[1213427]\n",
      "[2, 3, 101119]\n"
     ]
    }
   ],
   "source": [
    "print(primefactors(2))\n",
    "print(primefactors(10))\n",
    "print(primefactors(201))\n",
    "print(primefactors(97))\n",
    "print(primefactors(1213427))\n",
    "print(primefactors(1213428))\n"
   ]
  },
  {
   "cell_type": "markdown",
   "id": "515c86bb",
   "metadata": {},
   "source": [
    "<div class=\"alert alert-block alert-info\">\n",
    "<b>Exercise:</b> Write a function that receives a list of numbers and returns its mean, max and min values . Use numpy\n",
    "</div>"
   ]
  },
  {
   "cell_type": "code",
   "execution_count": 1,
   "id": "8f415614",
   "metadata": {
    "nbgrader": {
     "grade": false,
     "grade_id": "cell-7baeee87d8fa4204",
     "locked": false,
     "schema_version": 3,
     "solution": true,
     "task": false
    }
   },
   "outputs": [],
   "source": [
    "import numpy as np\n",
    "\n",
    "def stats(data):\n",
    "### BEGIN SOLUTION\n",
    "    xdata = np.array(data)\n",
    "    return xdata.mean(), xdata.min(), xdata.max() # returns a tuple → inmutable list\n",
    "### END SOLUTION"
   ]
  },
  {
   "cell_type": "code",
   "execution_count": 14,
   "id": "555370ff",
   "metadata": {},
   "outputs": [
    {
     "data": {
      "text/plain": [
       "(2.1666666666666665, 1.0, 3.5)"
      ]
     },
     "execution_count": 14,
     "metadata": {},
     "output_type": "execute_result"
    }
   ],
   "source": [
    "stats([1, 2, 3.5])"
   ]
  },
  {
   "cell_type": "markdown",
   "id": "f061c0e3",
   "metadata": {
    "slideshow": {
     "slide_type": "slide"
    }
   },
   "source": [
    "## Tuples\n",
    "A tuple is like a list, but is inmutable, it cannot change. It is declared by using ```()```."
   ]
  },
  {
   "cell_type": "code",
   "execution_count": 11,
   "id": "bf840110",
   "metadata": {
    "slideshow": {
     "slide_type": "fragment"
    }
   },
   "outputs": [
    {
     "name": "stdout",
     "output_type": "stream",
     "text": [
      "(1, 2)\n",
      "1\n",
      "()\n"
     ]
    }
   ],
   "source": [
    "a = (1, 2)\n",
    "print (a)\n",
    "print (a[0])\n",
    "# a[1] = 4 # error, tuple is inmutable\n",
    "b = () # empty tuple\n",
    "print (b)"
   ]
  },
  {
   "cell_type": "markdown",
   "id": "3e9dc08a",
   "metadata": {
    "slideshow": {
     "slide_type": "subslide"
    }
   },
   "source": [
    "You can use tuples to unpack data from functions returning several results"
   ]
  },
  {
   "cell_type": "code",
   "execution_count": 12,
   "id": "e3dccd90",
   "metadata": {
    "slideshow": {
     "slide_type": "fragment"
    }
   },
   "outputs": [
    {
     "name": "stdout",
     "output_type": "stream",
     "text": [
      "3 -1\n"
     ]
    }
   ],
   "source": [
    "def func(x, y) :\n",
    "    return x + y, x-y # returns a tuple\n",
    "\n",
    "a, b = func(1, 2)\n",
    "print (a, b)"
   ]
  },
  {
   "cell_type": "markdown",
   "id": "053b2973",
   "metadata": {
    "slideshow": {
     "slide_type": "slide"
    }
   },
   "source": [
    "## Classes\n",
    "Python is an object oriented language. Everything is an object. You can also create new types by using classes, after defining their attributes and methods. When creating classes, you should is the ```self``` keyword, which is the analogous to the pointer ```this``` in c++. Let's create a class for a point."
   ]
  },
  {
   "cell_type": "code",
   "execution_count": 19,
   "id": "f7cfa824",
   "metadata": {
    "slideshow": {
     "slide_type": "subslide"
    }
   },
   "outputs": [],
   "source": [
    "class Point2D :\n",
    "    \"\"\"This is a doctring. This allows to embed documentation inside the class definition.\n",
    "    You can split it \n",
    "    across several lines.\n",
    "    \"\"\"\n",
    "    def __init__(self, x = 0, y = 0): \n",
    "        \"\"\" This is the constructor\"\"\"\n",
    "        self.x_ = x # attribute x_\n",
    "        self.y_ = y # attribute y_\n",
    "        \n",
    "    def coordinates(self):\n",
    "        return self.x_, self.y_\n",
    "    \n",
    "    def __str__(self):\n",
    "        \"\"\"Cast method to convert to string\"\"\"\n",
    "        return (f\"Coordinates : ( {self.x_:25.16e}, {self.y_:25.16e} )\")"
   ]
  },
  {
   "cell_type": "code",
   "execution_count": 20,
   "id": "4b494824",
   "metadata": {
    "slideshow": {
     "slide_type": "subslide"
    }
   },
   "outputs": [
    {
     "name": "stdout",
     "output_type": "stream",
     "text": [
      "Coordinates : (    0.0000000000000000e+00,    0.0000000000000000e+00 )\n",
      "Coordinates : (    2.0000000000000000e+00,   -3.0000000000000000e+00 )\n"
     ]
    }
   ],
   "source": [
    "p1 = Point2D() # constructs a point with default internal attributes\n",
    "print (p1) # Uses the str cast method\n",
    "\n",
    "p2 = Point2D(2, -3)\n",
    "print (p2)"
   ]
  },
  {
   "cell_type": "code",
   "execution_count": 8,
   "id": "3031de13",
   "metadata": {},
   "outputs": [
    {
     "data": {
      "text/html": [
       "<iframe width=\"800\" height=\"500\" frameborder=\"0\" src=\"https://pythontutor.com/iframe-embed.html#code=class%20Point2D%20%3A%0A%20%20%20%20%22%22%22This%20is%20a%20doctring.%20This%20allows%20to%20embed%20documentation%20inside%20the%20class%20definition.%0A%20%20%20%20You%20can%20split%20it%20%0A%20%20%20%20across%20several%20lines.%0A%20%20%20%20%22%22%22%0A%20%20%20%20def%20__init__%28self,%20x%20%3D%200,%20y%20%3D%200%29%3A%20%0A%20%20%20%20%20%20%20%20%22%22%22%20This%20is%20the%20constructor%22%22%22%0A%20%20%20%20%20%20%20%20self.x_%20%3D%20x%20%23%20attribute%20x_%0A%20%20%20%20%20%20%20%20self.y_%20%3D%20y%20%23%20attribute%20y_%0A%20%20%20%20%20%20%20%20%0A%20%20%20%20def%20coordinates%28self%29%3A%0A%20%20%20%20%20%20%20%20return%20self.x_,%20self.y_%0A%20%20%20%20%0A%20%20%20%20def%20__str__%28self%29%3A%0A%20%20%20%20%20%20%20%20%22%22%22Cast%20method%20to%20convert%20to%20string%22%22%22%0A%20%20%20%20%20%20%20%20return%20%28f%22Coordinates%20%3A%20%28%20%7Bself.x_%3A25.16e%7D,%20%7Bself.y_%3A25.16e%7D%20%29%22%29%0A%20%20%20%20%20%20%20%20%0A%0Ap1%20%3D%20Point2D%28%29%20%23%20constructs%20a%20point%20with%20default%20internal%20attributes%0Aprint%20%28p1%29%20%23%20Uses%20the%20str%20cast%20method%0A%0Ap2%20%3D%20Point2D%282,%20-3%29%0Aprint%20%28p2%29&codeDivHeight=400&codeDivWidth=350&cumulative=false&curInstr=0&heapPrimitives=nevernest&origin=opt-frontend.js&py=3&rawInputLstJSON=%5B%5D&textReferences=false\"> </iframe>\n"
      ],
      "text/plain": [
       "<IPython.core.display.HTML object>"
      ]
     },
     "metadata": {},
     "output_type": "display_data"
    }
   ],
   "source": [
    "%%html\n",
    "<iframe width=\"800\" height=\"500\" frameborder=\"0\" src=\"https://pythontutor.com/iframe-embed.html#code=class%20Point2D%20%3A%0A%20%20%20%20%22%22%22This%20is%20a%20doctring.%20This%20allows%20to%20embed%20documentation%20inside%20the%20class%20definition.%0A%20%20%20%20You%20can%20split%20it%20%0A%20%20%20%20across%20several%20lines.%0A%20%20%20%20%22%22%22%0A%20%20%20%20def%20__init__%28self,%20x%20%3D%200,%20y%20%3D%200%29%3A%20%0A%20%20%20%20%20%20%20%20%22%22%22%20This%20is%20the%20constructor%22%22%22%0A%20%20%20%20%20%20%20%20self.x_%20%3D%20x%20%23%20attribute%20x_%0A%20%20%20%20%20%20%20%20self.y_%20%3D%20y%20%23%20attribute%20y_%0A%20%20%20%20%20%20%20%20%0A%20%20%20%20def%20coordinates%28self%29%3A%0A%20%20%20%20%20%20%20%20return%20self.x_,%20self.y_%0A%20%20%20%20%0A%20%20%20%20def%20__str__%28self%29%3A%0A%20%20%20%20%20%20%20%20%22%22%22Cast%20method%20to%20convert%20to%20string%22%22%22%0A%20%20%20%20%20%20%20%20return%20%28f%22Coordinates%20%3A%20%28%20%7Bself.x_%3A25.16e%7D,%20%7Bself.y_%3A25.16e%7D%20%29%22%29%0A%20%20%20%20%20%20%20%20%0A%0Ap1%20%3D%20Point2D%28%29%20%23%20constructs%20a%20point%20with%20default%20internal%20attributes%0Aprint%20%28p1%29%20%23%20Uses%20the%20str%20cast%20method%0A%0Ap2%20%3D%20Point2D%282,%20-3%29%0Aprint%20%28p2%29&codeDivHeight=400&codeDivWidth=350&cumulative=false&curInstr=0&heapPrimitives=nevernest&origin=opt-frontend.js&py=3&rawInputLstJSON=%5B%5D&textReferences=false\"> </iframe>"
   ]
  },
  {
   "cell_type": "markdown",
   "id": "9f16b9ce",
   "metadata": {
    "slideshow": {
     "slide_type": "subslide"
    }
   },
   "source": [
    "You can save the class to a file, and then later import it for re-use (you can import any python code)"
   ]
  },
  {
   "cell_type": "code",
   "execution_count": 28,
   "id": "0073aad8",
   "metadata": {
    "slideshow": {
     "slide_type": "fragment"
    }
   },
   "outputs": [
    {
     "name": "stdout",
     "output_type": "stream",
     "text": [
      "Overwriting Point3D.py\n"
     ]
    }
   ],
   "source": [
    "%%file Point3D.py \n",
    "class Point3D :\n",
    "    \"\"\"This is a doctring. This allows to embed documentation inside the class definition.\n",
    "    You can split it \n",
    "    across several lines.\n",
    "    \"\"\"\n",
    "    def __init__(self, x = 0, y = 0, z = 0): \n",
    "        \"\"\" This is the constructor\"\"\"\n",
    "        self.x_ = x # attribute x_\n",
    "        self.y_ = y # attribute y_\n",
    "        self.z_ = z # attribute z_\n",
    "        \n",
    "    def coordinates(self):\n",
    "        return self.x_, self.y_, self.z_\n",
    "    \n",
    "    def __str__(self):\n",
    "        \"\"\"Cast method to convert to string\"\"\"\n",
    "        return (f\"Coordinates : ( {self.x_:25.16e}, {self.y_:25.16e}, , {self.z_:25.16e} )\")"
   ]
  },
  {
   "cell_type": "code",
   "execution_count": 29,
   "id": "a9bd6fbd",
   "metadata": {
    "slideshow": {
     "slide_type": "subslide"
    }
   },
   "outputs": [
    {
     "name": "stdout",
     "output_type": "stream",
     "text": [
      "Coordinates : (    2.0000000000000000e+00,    5.0000000000000000e+00, ,    9.0000000000000002e-01 )\n"
     ]
    }
   ],
   "source": [
    "import Point3D as P3D\n",
    "p3 = P3D.Point3D(2, 5, 0.9)\n",
    "print (p3)"
   ]
  },
  {
   "cell_type": "markdown",
   "id": "20a86234",
   "metadata": {},
   "source": [
    "## Dictionaries\n",
    "\n",
    "Dictionaries are the analogous of associative memories or associative arrays. Basically, they are a generalized container where the key is not necessarily an integer but an arbitrary object of inmutable type, called a key (for example, tuples, a reange of number, etc, nut not a list of integers, since the last is mutable). \n",
    "\n",
    "Dictionaries can be seen as unordered sets of the pairs _key:value_, and are sourrounded by curly braces `{}`. It is posible to delete/acces/add/etc values by using the corresponding key or key/value pair. The `keys()` method for a dictionary returns the keys of that dictionary. To check for a given key, you can use the keyword `in`.\n",
    "\n",
    "Refs:\n",
    "\n",
    "- https://realpython.com/python-dicts/\n",
    "- https://quickref.me/python#python-data-types"
   ]
  },
  {
   "cell_type": "code",
   "execution_count": 37,
   "id": "81efdb37",
   "metadata": {},
   "outputs": [
    {
     "name": "stdout",
     "output_type": "stream",
     "text": [
      "{'jack': 4098, 'sape': 4139}\n",
      "{'jack': 4098, 'sape': 4139, 'guido': 4127}\n",
      "4098\n",
      "{'jack': 4098, 'guido': 4127}\n",
      "dict_keys(['jack', 'guido'])\n",
      "dict_values([4098, 4127])\n",
      "dict_items([('jack', 4098), ('guido', 4127)])\n"
     ]
    }
   ],
   "source": [
    "# creates a dictionary with several key:value pairs. Keys are strings\n",
    "tel = {'jack': 4098, 'sape': 4139}  \n",
    "print (tel)\n",
    "# acces  by key. If key does not exists, creates a new entry\n",
    "tel['guido'] = 4127 \n",
    "print (tel)\n",
    "# Access by key\n",
    "print (tel['jack'])\n",
    "# Delete by key\n",
    "del tel['sape']    \n",
    "print (tel)\n",
    "# key a list of the keys\n",
    "print(tel.keys())   \n",
    "# list of values\n",
    "print(tel.values())\n",
    "# keys and values\n",
    "print(tel.items())"
   ]
  },
  {
   "cell_type": "code",
   "execution_count": 38,
   "id": "80849e3f",
   "metadata": {
    "scrolled": true
   },
   "outputs": [
    {
     "data": {
      "text/html": [
       "<iframe width=\"800\" height=\"500\" frameborder=\"0\" src=\"https://pythontutor.com/iframe-embed.html#code=%23%20creates%20a%20dictionary%20with%20several%20key%3Avalue%20pairs.%20Keys%20are%20strings%0Atel%20%3D%20%7B'jack'%3A%204098,%20'sape'%3A%204139%7D%20%20%0Aprint%20%28tel%29%0A%23%20acces%20%20by%20key.%20If%20key%20does%20not%20exists,%20creates%20a%20new%20entry%0Atel%5B'guido'%5D%20%3D%204127%20%0Aprint%20%28tel%29%0A%23%20Access%20by%20key%0Aprint%20%28tel%5B'jack'%5D%29%0A%23%20Delete%20by%20key%0Adel%20tel%5B'sape'%5D%20%20%20%20%0Aprint%20%28tel%29%0A%23%20key%20a%20list%20of%20the%20keys%0Aprint%28tel.keys%28%29%29%20%20%20%0A%23%20list%20of%20values%0Aprint%28tel.values%28%29%29%0A%23%20keys%20and%20values%0Aprint%28tel.items%28%29%29&codeDivHeight=400&codeDivWidth=350&cumulative=false&curInstr=0&heapPrimitives=nevernest&origin=opt-frontend.js&py=3&rawInputLstJSON=%5B%5D&textReferences=false\"> </iframe>\n"
      ],
      "text/plain": [
       "<IPython.core.display.HTML object>"
      ]
     },
     "metadata": {},
     "output_type": "display_data"
    }
   ],
   "source": [
    "%%html\n",
    "<iframe width=\"800\" height=\"500\" frameborder=\"0\" src=\"https://pythontutor.com/iframe-embed.html#code=%23%20creates%20a%20dictionary%20with%20several%20key%3Avalue%20pairs.%20Keys%20are%20strings%0Atel%20%3D%20%7B'jack'%3A%204098,%20'sape'%3A%204139%7D%20%20%0Aprint%20%28tel%29%0A%23%20acces%20%20by%20key.%20If%20key%20does%20not%20exists,%20creates%20a%20new%20entry%0Atel%5B'guido'%5D%20%3D%204127%20%0Aprint%20%28tel%29%0A%23%20Access%20by%20key%0Aprint%20%28tel%5B'jack'%5D%29%0A%23%20Delete%20by%20key%0Adel%20tel%5B'sape'%5D%20%20%20%20%0Aprint%20%28tel%29%0A%23%20key%20a%20list%20of%20the%20keys%0Aprint%28tel.keys%28%29%29%20%20%20%0A%23%20list%20of%20values%0Aprint%28tel.values%28%29%29%0A%23%20keys%20and%20values%0Aprint%28tel.items%28%29%29&codeDivHeight=400&codeDivWidth=350&cumulative=false&curInstr=0&heapPrimitives=nevernest&origin=opt-frontend.js&py=3&rawInputLstJSON=%5B%5D&textReferences=false\"> </iframe>"
   ]
  },
  {
   "cell_type": "code",
   "execution_count": 39,
   "id": "2325e2e8",
   "metadata": {},
   "outputs": [
    {
     "name": "stdout",
     "output_type": "stream",
     "text": [
      "key='jack', val=4098\n",
      "key='guido', val=4127\n"
     ]
    }
   ],
   "source": [
    "for key, val in tel.items():\n",
    "    print(f\"{key=}, {val=}\")"
   ]
  },
  {
   "cell_type": "code",
   "execution_count": 25,
   "id": "a9492240",
   "metadata": {},
   "outputs": [
    {
     "data": {
      "text/plain": [
       "True"
      ]
     },
     "execution_count": 25,
     "metadata": {},
     "output_type": "execute_result"
    }
   ],
   "source": [
    "'guido' in tel   # check if a key is in the dictionary"
   ]
  },
  {
   "cell_type": "markdown",
   "id": "c36d0563",
   "metadata": {},
   "source": [
    "## Exercises \n",
    "Some based on  \"A Primer on Scientific Programming with Python\", Lantangen, Springer"
   ]
  },
  {
   "cell_type": "markdown",
   "id": "2e1446f9-d7fe-4a0e-8b2a-98821db080f7",
   "metadata": {},
   "source": [
    "### Sorted dictionary\n",
    "Write a program which prints a sorted key list of a given dictionary. (_hint_: Check the `sorted` function, or try to sort the `keys()` function output)"
   ]
  },
  {
   "cell_type": "code",
   "execution_count": 9,
   "id": "2752606e-6b4f-4396-9052-45b4a7f8236e",
   "metadata": {
    "nbgrader": {
     "grade": false,
     "grade_id": "cell-20d3138001f0f4e1",
     "locked": false,
     "schema_version": 3,
     "solution": true,
     "task": false
    },
    "tags": []
   },
   "outputs": [],
   "source": [
    "### BEGIN SOLUTION\n",
    "\n",
    "### END SOLUTION"
   ]
  },
  {
   "cell_type": "markdown",
   "id": "a9fe931f-01d7-4480-ba7c-1114789c61ca",
   "metadata": {},
   "source": [
    "### Copying a dictionary\n",
    "Search how to copy a dictionary (different to making a reference)"
   ]
  },
  {
   "cell_type": "code",
   "execution_count": null,
   "id": "c216e05f-c653-4dc9-baea-4ac9023e7b76",
   "metadata": {
    "nbgrader": {
     "grade": false,
     "grade_id": "cell-7ce3ffb1106ea03b",
     "locked": false,
     "schema_version": 3,
     "solution": true,
     "task": false
    },
    "tags": []
   },
   "outputs": [],
   "source": [
    "### BEGIN SOLUTION\n",
    "\n",
    "### END SOLUTION"
   ]
  },
  {
   "cell_type": "markdown",
   "id": "83dec0c7-5d36-4ff0-9a74-19c812855cc7",
   "metadata": {},
   "source": [
    "### Polynomial\n",
    "_Representing a polynomial by a dictionary_ : Consider the polynomial $p(x) = -1 + x^2 + 3x^7$ . It can be represent by means of a dictionary as `p = {0:-1, 2:1, 7:3}` (What is the advantage over using a list?). Write a function which gets a dictionary representing a polynomial, an `x` value, and returns the polynomial evaluated on that `x` value. "
   ]
  },
  {
   "cell_type": "code",
   "execution_count": null,
   "id": "26ca9ce6-3888-4a33-b2ee-5a850ba867d5",
   "metadata": {
    "nbgrader": {
     "grade": false,
     "grade_id": "cell-d5a94685ae7ed2b0",
     "locked": false,
     "schema_version": 3,
     "solution": true,
     "task": false
    },
    "tags": []
   },
   "outputs": [],
   "source": [
    "### BEGIN SOLUTION\n",
    "\n",
    "### END SOLUTION"
   ]
  },
  {
   "cell_type": "markdown",
   "id": "b778da14-e829-449e-bff4-c78a1b69f8c6",
   "metadata": {},
   "source": [
    "### Histogram\n",
    "\n",
    "Make a function which, given a dictionary with `values` as ints (a simple version of a histogram), prints the histogram counters as `=`. For example (the keys can be arbitrary)\n",
    "   \n",
    "    A : ========\n",
    "    \n",
    "    B : =============\n",
    "    \n",
    "    C : =======\n",
    "    \n",
    "    D : ==\n",
    "    \n",
    "    E : =="
   ]
  },
  {
   "cell_type": "code",
   "execution_count": 11,
   "id": "ae9c592c-ea86-4722-9adb-0024a0eb15b7",
   "metadata": {
    "nbgrader": {
     "grade": false,
     "grade_id": "cell-f9a1cd24a535c815",
     "locked": false,
     "schema_version": 3,
     "solution": true,
     "task": false
    },
    "tags": []
   },
   "outputs": [
    {
     "name": "stdout",
     "output_type": "stream",
     "text": [
      "A : ========\n",
      "B : ============\n",
      "C : =====\n",
      "D : ==\n",
      "E : ==\n"
     ]
    }
   ],
   "source": [
    "dict = {'A':8, 'B':12, 'C':5, 'D':2, 'E':2}\n",
    "\n",
    "### BEGIN SOLUTION\n",
    "def print_histo(data):\n",
    "    for k, v in data.items():\n",
    "        print (k, ':', '='*v)\n",
    "        \n",
    "### END SOLUTION\n",
    "print_histo(dict)\n"
   ]
  },
  {
   "cell_type": "markdown",
   "id": "f43bf715-091a-4e58-bc16-a9222e25eded",
   "metadata": {},
   "source": [
    "### Histogram of a text\n",
    "Make a program which reads a text and counts the numbers of ocurrences for each word.\n"
   ]
  },
  {
   "cell_type": "code",
   "execution_count": 12,
   "id": "f1c2f0d9-c52e-4db5-a6a0-718bd2df2638",
   "metadata": {
    "nbgrader": {
     "grade": false,
     "grade_id": "cell-e393ae90903e7fb6",
     "locked": false,
     "schema_version": 3,
     "solution": true,
     "task": false
    },
    "tags": []
   },
   "outputs": [],
   "source": [
    "### BEGIN SOLUTION\n",
    "\n",
    "### END SOLUTION"
   ]
  },
  {
   "cell_type": "markdown",
   "id": "aa79b0eb-ce5b-4092-b254-14ecfda9c3e9",
   "metadata": {},
   "source": [
    "### Dictionaries and lists for polynomial\n",
    "Modify the previous program for representing a polynomial with a dictionary to represent it with a list. Use both representations for the polynomyal $-\\frac{1}{2} + 2x^{100}$. Print both representations and use both to evaluate that polynomial at $x = 1.05$ ."
   ]
  },
  {
   "cell_type": "code",
   "execution_count": 13,
   "id": "846e7538-1937-46e2-8f57-8bc9a801d498",
   "metadata": {
    "nbgrader": {
     "grade": false,
     "grade_id": "cell-a45229dae3e5bd24",
     "locked": false,
     "schema_version": 3,
     "solution": true,
     "task": false
    },
    "tags": []
   },
   "outputs": [],
   "source": [
    "### BEGIN SOLUTION\n",
    "\n",
    "### END SOLUTION"
   ]
  },
  {
   "cell_type": "markdown",
   "id": "571d97e1-3a4b-484d-b8fe-564af66125a0",
   "metadata": {},
   "source": [
    "### Polynomial derivative\n",
    "By using the dictionary plynomial representation of the previous exercises, write a function which computes the derivative of a given polynomial and returns a dictionary representation of the new polynomial representing the derivative. Test it. "
   ]
  },
  {
   "cell_type": "code",
   "execution_count": 14,
   "id": "4699f894-776a-4c20-9af8-b4e35feeb731",
   "metadata": {
    "nbgrader": {
     "grade": false,
     "grade_id": "cell-f6389e01e64c5133",
     "locked": false,
     "schema_version": 3,
     "solution": true,
     "task": false
    },
    "tags": []
   },
   "outputs": [],
   "source": [
    "### BEGIN SOLUTION\n",
    "\n",
    "### END SOLUTION"
   ]
  },
  {
   "cell_type": "code",
   "execution_count": null,
   "id": "a3501c72-1fe3-45fd-bf85-27eb0ef0c108",
   "metadata": {},
   "outputs": [],
   "source": []
  }
 ],
 "metadata": {
  "celltoolbar": "Create Assignment",
  "kernelspec": {
   "display_name": "Python 3 (ipykernel)",
   "language": "python",
   "name": "python3"
  },
  "language_info": {
   "codemirror_mode": {
    "name": "ipython",
    "version": 3
   },
   "file_extension": ".py",
   "mimetype": "text/x-python",
   "name": "python",
   "nbconvert_exporter": "python",
   "pygments_lexer": "ipython3",
   "version": "3.12.5"
  },
  "latex_envs": {
   "LaTeX_envs_menu_present": true,
   "autoclose": true,
   "autocomplete": true,
   "bibliofile": "biblio.bib",
   "cite_by": "apalike",
   "current_citInitial": 1,
   "eqLabelWithNumbers": true,
   "eqNumInitial": 1,
   "hotkeys": {
    "equation": "Ctrl-E",
    "itemize": "Ctrl-I"
   },
   "labels_anchors": false,
   "latex_user_defs": false,
   "report_style_numbering": false,
   "user_envs_cfg": false
  },
  "toc": {
   "base_numbering": 1,
   "nav_menu": {},
   "number_sections": true,
   "sideBar": true,
   "skip_h1_title": false,
   "title_cell": "Table of Contents",
   "title_sidebar": "Contents",
   "toc_cell": false,
   "toc_position": {},
   "toc_section_display": true,
   "toc_window_display": true
  }
 },
 "nbformat": 4,
 "nbformat_minor": 5
}

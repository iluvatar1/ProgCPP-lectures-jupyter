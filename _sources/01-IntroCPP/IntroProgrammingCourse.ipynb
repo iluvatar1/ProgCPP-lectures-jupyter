{
 "cells": [
  {
   "cell_type": "markdown",
   "id": "1d8d7d8a",
   "metadata": {},
   "source": [
    "# Introduction to Programming and C++\n",
    "\n",
    "<div style=\"text-align: center;\">\n",
    "    <img src=\"https://upload.wikimedia.org/wikipedia/commons/thumb/1/18/ISO_C%2B%2B_Logo.svg/612px-ISO_C%2B%2B_Logo.svg.png\" alt=\"Image Description\" width=\"200\">\n",
    "</div>\n",
    "\n",
    "[C++](https://en.wikipedia.org/wiki/C%2B%2B?useskin=vector) is\n",
    "- A high level language\n",
    "- A powerful, battle tested language (old), with new standards every 3 years.\n",
    "- A multiparadigm language (we will learn only a subset)\n",
    "- A compiled language (using compilers like `g++` or `icc`)\n",
    "- Highly performant, used vastly on scientific and many other applications: amazon.com, intel, IBM, facebook, Google, Microsoft, Apple, Adobe, ...\n",
    "- Games written in c++: Assasins creed, Call of Duty, Mass Effect, World of Warcraft, Starcraft, Halo, Among Us, ...\n",
    "\n",
    "The main idea at the end of this course is to be able to program something like https://www.youtube.com/watch?v=lS_qeBy3aQI, where more complex systems are available https://flyover.github.io/box2d.ts/testbed/\n",
    "\n",
    "C++ allows you to really exploit your computational resources: \n",
    "https://computers-are-fast.github.io/\n",
    "\n",
    "Also, if you want to know more about a computer, please check https://www.youtube.com/watch?v=d86ws7mQYIg\n",
    "\n",
    "-   Moore law <https://www.youtube.com/watch?v=Qlv5pB6u534>"
   ]
  },
  {
   "cell_type": "markdown",
   "id": "c805ccf6",
   "metadata": {},
   "source": [
    "<div style=\"text-align: center;\">\n",
    "    <img src=\"https://global-uploads.webflow.com/5d0dc87aac109e1ffdbe379c/60c747b9e5f372c3bc2cfb12_pieT5veoNqVqJjagsCTj8_Cg1zDJTJDUF5mlKj0SaHM4MHCp2EGw6TwkBWEQEFd5qg0GAbAIBgJss6tjDvvng_Tk6gse8dRQrstEBaL9lq8BdZ54523gEQPROzireFIDMMRk20k.png\" alt=\"Image Description\" width=\"600\">\n",
    "    <figcaption>From: \"https://global-uploads.webflow.com/5d0dc87aac109e1ffdbe379c/60c747b9e5f372c3bc2cfb12_pieT5veoNqVqJjagsCTj8_Cg1zDJTJDUF5mlKj0SaHM4MHCp2EGw6TwkBWEQEFd5qg0GAbAIBgJss6tjDvvng_Tk6gse8dRQrstEBaL9lq8BdZ54523gEQPROzireFIDMMRk20k.png\"</figcaption>\n",
    "</div>\n",
    "\n",
    "<div style=\"text-align: center;\">\n",
    "    <img src=\"https://miro.medium.com/v2/resize:fit:1400/format:webp/0*yutZoDvzTWDJtx_s.png\" alt=\"Image Description\" width=\"600\">\n",
    "    <figcaption>From: \"https://educative-inc.medium.com/c-is-a-good-first-language-to-learn-646297e765ea\"</figcaption>\n",
    "</div>\n",
    "\n",
    "<div style=\"text-align: center;\">\n",
    "    <img src=\"https://media.springernature.com/full/springer-static/image/art%3A10.1186%2F1751-0473-7-5/MediaObjects/13029_2012_Article_73_Fig1_HTML.jpg\" alt=\"Image Description\" width=\"600\">\n",
    "    <figcaption>From: \"https://media.springernature.com/full/springer-static/image/art%3A10.1186%2F1751-0473-7-5/MediaObjects/13029_2012_Article_73_Fig1_HTML.jpg\"</figcaption>\n",
    "</div>\n",
    "\n",
    "<div style=\"text-align: center;\">\n",
    "    <img src=\"https://media.springernature.com/m685/springer-static/image/art%3A10.1038%2Fs41550-020-1208-y/MediaObjects/41550_2020_1208_Fig3_HTML.png\" alt=\"Image Description\" width=\"600\">\n",
    "    <figcaption>From: \"https://media.springernature.com/m685/springer-static/image/art%3A10.1038%2Fs41550-020-1208-y/MediaObjects/41550_2020_1208_Fig3_HTML.png\"</figcaption>\n",
    "</div>\n",
    "\n",
    "Here is an [outline](https://en.wikipedia.org/wiki/Outline_of_C%2B%2B?useskin=vector)"
   ]
  },
  {
   "cell_type": "markdown",
   "id": "45fdf4b5",
   "metadata": {},
   "source": [
    "## Typical basic workflow"
   ]
  },
  {
   "cell_type": "code",
   "execution_count": null,
   "id": "eb6bf1e5",
   "metadata": {
    "ExecuteTime": {
     "end_time": "2023-07-26T03:18:58.162714Z",
     "start_time": "2023-07-26T03:18:58.155397Z"
    }
   },
   "outputs": [],
   "source": [
    "%load_ext nb_js_diagrammers"
   ]
  },
  {
   "cell_type": "code",
   "execution_count": null,
   "id": "87de6f3e",
   "metadata": {
    "ExecuteTime": {
     "end_time": "2023-07-26T03:19:12.171004Z",
     "start_time": "2023-07-26T03:19:12.161973Z"
    },
    "code_folding": []
   },
   "outputs": [],
   "source": [
    "%%mermaid_magic -h 500 \n",
    "graph TD;\n",
    "    A[Understand the problem] --> B[Edit the code: vscode, emacs, vim, ...]\n",
    "    B --> C[Compile your code: g++ filename.cpp]\n",
    "    C -- Yes --> D[Execute the executable: ./a.out]\n",
    "    C -- No --> B\n",
    "    D -- Yes --> E[Analyze results: Plot, fit, etc. Maybe use python]\n",
    "    D -- No --> B\n",
    "    E -- No, or improvement --> B\n",
    "    E -- More thinking needed --> A"
   ]
  },
  {
   "cell_type": "markdown",
   "id": "c28dd301",
   "metadata": {},
   "source": [
    "0. **Understand the problem**. Think about the tasks you need as a high level version.\n",
    "1. **Edit** the code: vscode, emacs, vim, ...\n",
    "2. **Compile** your code: `g++ filename.cpp ` . In case of errors, return to step 1.\n",
    "3. **Execute** the executable: `./a.out` . In case of errors, return to step 1.\n",
    "4. **Analyze results**: Plot, fit, etc. Maybe use python. In case of errors, return to step 1\n",
    "\n",
    "The following shows the workflow for a helloworld program."
   ]
  },
  {
   "cell_type": "markdown",
   "id": "07a0c5cc",
   "metadata": {},
   "source": [
    "**Step 0: Think**\n",
    "We want a program that prints the message \"Hello world\" to the standard output (the screen, normally). So we need a standard header like `iostream`, and use `std::cout`. Therefore our general program flow would be\n",
    "```bash\n",
    "library to print to the screen: include iostream\n",
    "in the main function\n",
    "  use cout or print or println or printf to write \"Hellow world\"\n",
    "```\n",
    "\n",
    "**Step 1: Edit**\n",
    "We will edit the code now. Please use an editor and write the following code\n",
    "```c++\n",
    "// This prints a comment\n",
    "#include <iostream>\n",
    "\n",
    "int main(void)\n",
    "{\n",
    "    std::cout << \"Hello world\\n\";\n",
    "    return 0;\n",
    "}\n",
    "```"
   ]
  },
  {
   "cell_type": "markdown",
   "id": "998fb7ac",
   "metadata": {},
   "source": [
    "**Step 2: Compile**\n",
    "Now we will compile with the compiler `g++` (there are a [lot more](https://en.wikipedia.org/w/index.php?title=List_of_compilers&useskin=vector#C++_compilers)). In a terminal, in the same directory where the fie was saved, just run\n",
    "```bash\n",
    "g++ helloworld.cpp\n",
    "```\n",
    "You have terminals available in a local or remote linux installation, in vscode in a code space, in binder, but not in google collab. There you need to either pay to have a terminal (is not that expensive), or just run a cell prepending `!` as follows\n",
    "\n",
    "```bash\n",
    "!g++ helloworld.cpp\n",
    "```\n",
    "\n",
    "This produces the executable `a.out` (you can change the name using the compilation flag `-o name.x`), as\n",
    "```bash\n",
    "g++ helloworld.cpp -o hello.x\n",
    "```\n",
    "You can check the contents of the current dir with \n",
    "```bash\n",
    "ls\n",
    "```\n",
    "(remeber to prepend a `!` if you are using collab)"
   ]
  },
  {
   "cell_type": "markdown",
   "id": "8819a225",
   "metadata": {},
   "source": [
    "**Step 3: Execute** \n",
    "To execute, we need to specify the path to the executable. We are going to use the symbol './', which means the current directory\n",
    "```bash\n",
    "./hello.x\n",
    "```\n",
    "(or `./a.out`)"
   ]
  },
  {
   "cell_type": "markdown",
   "id": "7ac8a99c",
   "metadata": {},
   "source": [
    "Congratulation! Now you are a c++ developer ... not so fast!"
   ]
  },
  {
   "cell_type": "markdown",
   "id": "9bfa3a72",
   "metadata": {},
   "source": [
    "## Understanding helloworld\n",
    "\n",
    "There are a lot of things under the hood for the simple helloworld program."
   ]
  },
  {
   "cell_type": "markdown",
   "id": "8e4d5ab5",
   "metadata": {},
   "source": [
    "### Comments\n",
    "You can add comments, ignored by the compiler, using either `//`, for single line comments, or \n",
    "```c++\n",
    "/* \n",
    "  large multiline \n",
    "  comment\n",
    "*/\n",
    "```\n",
    "for multiline comments."
   ]
  },
  {
   "cell_type": "markdown",
   "id": "60272a3a",
   "metadata": {},
   "source": [
    "### Pre-processor\n",
    "The line\n",
    "```c++\n",
    "#include <iostream>\n",
    "```\n",
    "Tells the **pre-processor** to include the **standard** library `iostream`, which is the one in cahrge of (i)npunt and (o)utput of (stream)s. It also gives you `std::cin` to read from the standard input, `std::cerr` and `std::clog` for the standard error, and so on. There are many standard headers, and you should get familiar and use them extensively. Please see [cppreference](https://en.cppreference.com/w/)  .\n",
    "\n",
    "The pre-processor allows conditional compilation, activates possible parallelism with openmp and does many more things, but for now we will keep it usage like that. Actually, it is in the path to be eliminated in favor of modules. \n",
    "\n",
    "Do not use `.h` headers. Those come from C , are not using the `std` namespace, and are a bad practice."
   ]
  },
  {
   "cell_type": "markdown",
   "id": "5c1648c6",
   "metadata": {},
   "source": [
    "### The main function\n",
    "Good programming is based on splitting a daunting task into several smaller tasks that are isolated from each other and perform one thing well. Therefore, the concept of a *function* is of paramount importance. In c++, a function has a name, a set of arguments (parameters that it receives, like the domain, although the parameter number and type can be any), and a result type (a range) if it returns something. The typical function prototype is\n",
    "```c++\n",
    "return_type function_name(type1 par1, type2 par2);\n",
    "```\n",
    "As an example, the following is the declaration (how is called, what it receives and what it returns) for a that receives two integers and return their sum\n",
    "```c++\n",
    "int sum(int a, int b);\n",
    "```\n",
    "and this would be the implementation\n",
    "```c++\n",
    "int sum(int a, int b) {\n",
    "    return a+b;   \n",
    "}\n",
    "```\n",
    "For reasons that we will learn later, modularization is very important. \n",
    "\n",
    "There is a very important function, called the `main` function, which is mandatory per program (and only can be per executable) and is the one that talks to the operating system. Usually, it is expected that the main function calls other functions in the program. Some signatures of the main function are \n",
    "```c++\n",
    "int main(void)\n",
    "{\n",
    " ...   \n",
    "}\n",
    "```\n",
    "which means that the executable does not receive any arguments, or \n",
    "```c++\n",
    "int main(int argc, char **argv)\n",
    "{\n",
    " ...   \n",
    "}\n",
    "```\n",
    "which mean that the executable can receive arguments, like\n",
    "```sh\n",
    "./program.x 1.2 3\n",
    "```"
   ]
  },
  {
   "cell_type": "markdown",
   "id": "b069ee80",
   "metadata": {},
   "source": [
    "### `std::cout` to print\n",
    "The instruction `std::cout` allows to print to the standard output. The `\\n` prints a new line. **Warning:** Do not use \n",
    "```c++\n",
    "using namespace std; // DO NOT DO THIS\n",
    "```\n",
    "it is a bad practice, frowned upon. You can use a linter or static analysis tool, like cpplint, to chech for advice and errors. "
   ]
  },
  {
   "cell_type": "markdown",
   "id": "c8a2faf4",
   "metadata": {},
   "source": [
    "### Return statement\n",
    "The `return` statement allows to exit the function, returning something or nothing. It depends on your use case if you need it or not."
   ]
  },
  {
   "cell_type": "markdown",
   "id": "758ada98",
   "metadata": {},
   "source": [
    "## Practical exercise\n",
    "Now please write a program that reads your name, and then prints `Hello, your-name-here` . Check if it is better to use `std::cin` or `std::getline`.  Compile it and test it. "
   ]
  },
  {
   "cell_type": "code",
   "execution_count": null,
   "id": "0b24f476",
   "metadata": {
    "ExecuteTime": {
     "end_time": "2023-07-25T16:55:22.637349Z",
     "start_time": "2023-07-25T16:55:22.635684Z"
    }
   },
   "outputs": [],
   "source": [
    "# Compilation\n"
   ]
  },
  {
   "cell_type": "code",
   "execution_count": null,
   "id": "54852ee4",
   "metadata": {
    "ExecuteTime": {
     "end_time": "2023-07-25T16:55:26.706379Z",
     "start_time": "2023-07-25T16:55:26.704499Z"
    }
   },
   "outputs": [],
   "source": [
    "# Execution"
   ]
  },
  {
   "cell_type": "markdown",
   "id": "d414d810",
   "metadata": {},
   "source": [
    "## Some useful tools \n",
    "As you learn more and your apps grow in complexity, you might need to use tools to easy the developer work so to focus on the analysis and results, while mantaining  readability and good practices. Please also focus in this in **learning linux**, is the environment that scientist use. You can find many online resources, like http://www.ee.surrey.ac.uk/Teaching/Unix/ or https://swcarpentry.github.io/shell-novice/. For a general overview of what it means to be  a modern c++ developer, see https://roadmap.sh/cpp\n",
    "\n",
    "### Good programming practices\n",
    "- Modularize your code\n",
    "- Use testing\n",
    "- Minimum privilige principle\n",
    "- A function does one thing right\n",
    "- Do not use `using namespace std;` , <https://stackoverflow.com/questions/11085916/why-are-some-functions-in-cmath-not-in-the-std-namespace/11086087#11086087>\n",
    "- Avoid code duplication\n",
    "- ..."
   ]
  },
  {
   "cell_type": "markdown",
   "id": "d3801fc5",
   "metadata": {},
   "source": [
    "### IDE\n",
    "An IDE is not just an editor but also gives you an environment with debuggers, refactoring, etc. You might use \n",
    "- [Visual studio code](https://code.visualstudio.com/) . Very famous right now. Runs on electron. Can connect remotely, but cannot run in the terminal. A lot of metrics sent to servers. \n",
    "- [VSCodium](https://vscodium.com/) Free implementation, no telemetry. But not all plugins work.\n",
    "- [Emacs doom](https://github.com/doomemacs/doomemacs) or [space emacs](https://www.spacemacs.org/). Emacs distributions with many packages to make emacs a useful IDE.\n",
    "- [Lapce](https://lapce.dev/#downloads-all) A rust implementation which is very fast.\n",
    "- And much more: Sublime text, atom, Notepad++, Eclipse, Clion, Blocks , .."
   ]
  },
  {
   "cell_type": "markdown",
   "id": "5d373508",
   "metadata": {},
   "source": [
    "### Sanitizers\n",
    "When compiling, use sanitizers to allow for runtime error detections\n",
    "```bash\n",
    "g++ -fsanitize=address,undefined,leak filename.cpp -o ...\n",
    "```"
   ]
  },
  {
   "cell_type": "markdown",
   "id": "59ff5d5b",
   "metadata": {},
   "source": [
    "### Debuggers\n",
    "A programmer spent 80% of the time debugging and fixing its code, and 20% programming. To track errors, it is useful to use something more advanced than printing messages (poor's man debugger). You can use tools like:\n",
    "- [gdb](https://www.sourceware.org/gdb/)\n",
    "- [ddd](https://www.gnu.org/software/ddd/)\n",
    "- The debuggers included on visual studio code, emacs or the IDE you selected (they basically use gdb under the hood)\n",
    "- [Online debugger](https://www.onlinegdb.com/)\n",
    "- [Python tutor for c++](https://pythontutor.com/cpp.html#mode=edit)"
   ]
  },
  {
   "cell_type": "markdown",
   "id": "0ef34453",
   "metadata": {},
   "source": [
    "### Linters\n",
    "Sometimes you need tools that tell some possible errors in your code without actually running it. You can use \n",
    "- [cpplint](https://github.com/cpplint/cpplint)\n",
    "- [cppcheck](https://github.com/danmar/cppcheck)\n",
    "- [clang static analyszer](https://clang-analyzer.llvm.org/)\n",
    "- [clang tidy](https://clang.llvm.org/extra/clang-tidy/)"
   ]
  },
  {
   "cell_type": "markdown",
   "id": "88d934de",
   "metadata": {},
   "source": [
    "### Formatting\n",
    "Formatting the code is key for readability of one self and others. You can use something like [clang-format](https://clang.llvm.org/docs/ClangFormat.html) to format your ugly and unreadable code."
   ]
  },
  {
   "cell_type": "markdown",
   "id": "e0638706",
   "metadata": {},
   "source": [
    "### Compilation\n",
    "There are several compilers that you can use, like:\n",
    "- [gnu gcc/g++ compilers](https://gcc.gnu.org/)\n",
    "- [clang](https://clang.llvm.org/)\n",
    "- [Intel compilers](https://www.intel.com/content/www/us/en/developer/tools/oneapi/dpc-compiler.html#gs.315ucf)\n",
    "- [Amd compilers](https://www.amd.com/en/developer/aocc.html)\n",
    "Sometimes it is useful to try several compilers to find possible bugs in the code.\n",
    "\n",
    "There are also some online alternatives, useful to test code and small projects (see also the debugging section)\n",
    "- [Coliru](http://coliru.stacked-crooked.com/)\n",
    "- [Compiler Explorer](https://gcc.godbolt.org/)\n",
    "- [Repl.it](https://replit.com/)\n",
    "\n",
    "As your code grows in complexity (but even in the case of simple projects), the constant compilation, debugging, linting, etc could transform into a repetitive task that might be automatized. For simple projects you can use gnu make, using tutorials like https://makefiletutorial.com/ or https://www.cs.colby.edu/maxwell/courses/tutorials/maketutor/ or http://swcarpentry.github.io/make-novice/. For more complex projects and multiplatform support, you might use [cmake](https://www.google.com/search?client=firefox-b-d&q=cmake+tutorial+modern). "
   ]
  },
  {
   "cell_type": "markdown",
   "id": "9f7d0177",
   "metadata": {},
   "source": [
    "### Package managers\n",
    "Besides the typical operating system package manager, you can also use tools like [spack](https://spack.readthedocs.io/en/latest/), [meson](https://mesonbuild.com/), [vcpkg](https://github.com/microsoft/vcpkg), [conan](https://conan.io/), ..."
   ]
  },
  {
   "cell_type": "markdown",
   "id": "9dc54a45",
   "metadata": {},
   "source": [
    "### Version control\n",
    "It is ALWAYS advisable to use version control. Please use git, so you will be able to rollback changes, create, merge and delete branches, activate continuous integration, and so on. You can also sync with remote repositories in portals like https://github.com/, or https://about.gitlab.com/why-gitlab/ . There are many tutorials, like https://swcarpentry.github.io/git-novice/ or https://learngitbranching.js.org/"
   ]
  },
  {
   "cell_type": "markdown",
   "id": "1bac70b3",
   "metadata": {},
   "source": [
    "### Testing\n",
    "It is very important to write code that is testable, and to test constantly specially when introducing new changes To do so, you can use https://github.com/catchorg/Catch2, https://github.com/google/googletest , etc"
   ]
  },
  {
   "cell_type": "markdown",
   "id": "a4859d4a",
   "metadata": {},
   "source": [
    "### Reproducible environments\n",
    "When you write a new program and want to distribute it, or run it on another machine, you must ensure that it runs as in the original development machine. To do so, the modern solution is to use containers. Learn how to use [docker](https://www.docker.com/) or [Podman](https://podman.io/). This will be required for the final project.\n",
    "\n",
    "### Documentation\n",
    "Use comments, and better, use something like [doxygen](https://www.doxygen.nl/)"
   ]
  },
  {
   "cell_type": "code",
   "execution_count": null,
   "id": "88257dca",
   "metadata": {},
   "outputs": [],
   "source": []
  }
 ],
 "metadata": {
  "kernelspec": {
   "display_name": "Python 3 (ipykernel)",
   "language": "python",
   "name": "python3"
  },
  "language_info": {
   "codemirror_mode": {
    "name": "ipython",
    "version": 3
   },
   "file_extension": ".py",
   "mimetype": "text/x-python",
   "name": "python",
   "nbconvert_exporter": "python",
   "pygments_lexer": "ipython3",
   "version": "3.12.6"
  },
  "toc": {
   "base_numbering": 1,
   "nav_menu": {},
   "number_sections": true,
   "sideBar": true,
   "skip_h1_title": false,
   "title_cell": "Table of Contents",
   "title_sidebar": "Contents",
   "toc_cell": false,
   "toc_position": {},
   "toc_section_display": true,
   "toc_window_display": false
  },
  "varInspector": {
   "cols": {
    "lenName": 16,
    "lenType": 16,
    "lenVar": 40
   },
   "kernels_config": {
    "python": {
     "delete_cmd_postfix": "",
     "delete_cmd_prefix": "del ",
     "library": "var_list.py",
     "varRefreshCmd": "print(var_dic_list())"
    },
    "r": {
     "delete_cmd_postfix": ") ",
     "delete_cmd_prefix": "rm(",
     "library": "var_list.r",
     "varRefreshCmd": "cat(var_dic_list()) "
    }
   },
   "types_to_exclude": [
    "module",
    "function",
    "builtin_function_or_method",
    "instance",
    "_Feature"
   ],
   "window_display": false
  }
 },
 "nbformat": 4,
 "nbformat_minor": 5
}

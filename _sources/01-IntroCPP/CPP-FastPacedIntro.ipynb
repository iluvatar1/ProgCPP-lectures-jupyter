{
 "cells": [
  {
   "cell_type": "markdown",
   "id": "e8c30529",
   "metadata": {},
   "source": [
    "# Very fast intro to the basics of c++\n",
    "\n",
    "Although the c++ standard is really large, for this course we need to handle well a small subset of it. What is more important is to learn how to THINK like a programmer, not to memorize the actual syntax, which can actually obtained from google bard or chatGPT. In this section, we will learn the very basics and then we start practicing. Practice is the key in everything. For more details, see https://www.learncpp.com/ or a reference book.\n",
    "\n",
    "Some good practices \n",
    "- <https://reprog.wordpress.com/2010/03/06/programming-books-part-2-the-elements-of-programming-style/>\n",
    "\n",
    "Resources:\n",
    "- <https://www.reddit.com/r/cpp_questions/comments/slvj8m/best_way_to_learn_c/hwczl34/>"
   ]
  },
  {
   "cell_type": "markdown",
   "id": "c593258c",
   "metadata": {},
   "source": [
    "## Minimal example\n",
    "This a minimal valid cpp program. It does \"nothing\". But when you compile, a lot of things happen. For more info see https://hackingcpp.com/cpp/hello_world.html\n",
    "```cpp\n",
    "int main(void) {\n",
    "    return 0;\n",
    "}\n",
    "```\n",
    "Please write it in a file called `minimal.cpp`. Now compile it and run it. Notice that now we are giving it a name for the executable:\n",
    "```bash\n",
    "g++ -std=c++17 minimal.cpp -o minimal.x\n",
    "./minimal.x\n",
    "```"
   ]
  },
  {
   "cell_type": "markdown",
   "id": "3a989695",
   "metadata": {},
   "source": [
    "**Exercises**\n",
    "- What happens if you remove the return statement?\n",
    "- After running the executable, check the status of the command in the shell by using the following instruction\n",
    "  ```bash\n",
    "  echo $?\n",
    "  ```\n",
    "- Look for some other standard library at https://en.cppreference.com/w/ . Choose one and try to describe, in general words, its use. "
   ]
  },
  {
   "cell_type": "markdown",
   "id": "0d94e0f9-725f-462c-aac5-be433707e578",
   "metadata": {},
   "source": [
    "## Variables\n",
    "\n",
    "See \n",
    "- <https://en.cppreference.com/w/cpp/language/types>\n",
    "- <https://www.learncpp.com/cpp-tutorial/introduction-to-objects-and-variables/>\n",
    "- <https://hackingcpp.com/cpp/lang/fundamental_types.html>\n",
    "\n",
    "A variable in c++ is an object which has:\n",
    "- A datatype (`bool`, `char`, `int`, `long`, `unsigned int`, `float`, `double`, `std::string`, `std::vector` , ...)\n",
    "- A value\n",
    "- A name\n",
    "- A memory address\n",
    "- A scope (the sourronding `{}`)\n",
    "\n",
    "C++ is a typed lang. It means that you have to specify the type of the variable you are going to use. You have booleans, char, integers, float and double, arrays/vectors, structs, .... See https://hackingcpp.com/cpp/lang/fundamental_types.html"
   ]
  },
  {
   "cell_type": "markdown",
   "id": "85d751e8-b540-4271-8b8c-7d73c4413a5c",
   "metadata": {},
   "source": [
    "A variable in memory:\n",
    "<div style=\"text-align: center;\">\n",
    "    <img src=\"https://hackingcpp.com/cpp/lang/variables_crop.svg\" alt=\"Image Description\" width=\"700\">\n",
    "    <figcaption>From: \"https://hackingcpp.com/cpp/lang/variables_crop.svg\"</figcaption>\n",
    "</div>\n",
    "\n",
    "How to represent \"reals\":\n",
    "<div style=\"text-align: center;\">\n",
    "    <img src=\"https://hackingcpp.com/cs/number_representations_crop.png\" alt=\"Image Description\" width=\"900\">\n",
    "    <figcaption>From: \"https://hackingcpp.com/cs/number_representations_crop.png\"</figcaption>\n",
    "</div>\n",
    "\n",
    "Bugs: Gandhi the destroyer (unsigned char): https://www.youtube.com/watch?v=Iq_r7IcNmUk"
   ]
  },
  {
   "cell_type": "markdown",
   "id": "ca4029a1-4c7e-4ecd-a222-6f4506833111",
   "metadata": {},
   "source": [
    "### Exercises\n",
    "#### Initialization\n",
    "Create a program that declares a variable of type  \n",
    "   - `int` without initializing it. \n",
    "   - `double` with initial value -9.87e-8.\n",
    "   - `std::string` initialized with your first name .\n",
    "   - `std::vector<double>` with 10 values not initialized."
   ]
  },
  {
   "cell_type": "markdown",
   "id": "2f6b547e-d477-4a7c-955c-9de7ac0101e4",
   "metadata": {
    "nbgrader": {
     "grade": false,
     "grade_id": "cell-db0ee944040ada01",
     "locked": true,
     "points": 0,
     "schema_version": 3,
     "solution": false,
     "task": true
    }
   },
   "source": [
    "=== BEGIN MARK SCHEME ===\n",
    "\n",
    "=== END MARK SCHEME ==="
   ]
  },
  {
   "cell_type": "markdown",
   "id": "bd5f4052-c16b-4760-ace8-51a3f453ee1a",
   "metadata": {},
   "source": [
    "#### Python/C++ tutor\n",
    "Copy and visualize this program execution in the cpp python tutor."
   ]
  },
  {
   "cell_type": "code",
   "execution_count": null,
   "id": "1620cb1e-43a2-4144-996c-36cd0c15dffd",
   "metadata": {},
   "outputs": [],
   "source": []
  },
  {
   "cell_type": "markdown",
   "id": "f90d61c7-b445-4642-86e7-b5fa41da90bb",
   "metadata": {},
   "source": [
    "#### Overflow and santizers\n",
    "Analyze the output of the following program:\n",
    "  ```c++\n",
    "  #include <iostream>\n",
    "  int main(void) {\n",
    "    // con enteros\n",
    "    int b {-3000000000};\n",
    "    std::cout << \"b = \" << b << \"\\n\";\n",
    "    std::cout << \"3*b = \" << 3*b << \"\\n\";\n",
    "    int a = -2000000000;\n",
    "    std::cout << \"a = \" << a << \"\\n\";\n",
    "    // con flotantes\n",
    "    double x = 3000000000;\n",
    "    std::cout << \"x = \" << x << \"\\n\";\n",
    "    x = 3.24e307;\n",
    "    std::cout << \"x = \" << x << \"\\n\";\n",
    "    std::cout << \"100000*x = \" << 1.0e5*x << \"\\n\";\n",
    "    x = 3.24e310;\n",
    "    std::cout << \"x = \" << x << \"\\n\";\n",
    "    x = 3.24e-310;\n",
    "    std::cout << \"x = \" << x << \"\\n\";\n",
    "    x = 3.24e-326;\n",
    "    std::cout << \"x = \" << x << \"\\n\";\n",
    "    return 0;\n",
    "  }\n",
    "  ```\n",
    "  \n",
    "  Compile this program with sanitizers and run it again (`-fsanitize=undefined`). To understand the output, look for an overflow/underflow error."
   ]
  },
  {
   "cell_type": "markdown",
   "id": "762c6036",
   "metadata": {},
   "source": [
    "## Operators\n",
    "### Arithmetic\n",
    "Example: `=, +, -, *, /, %, -=, +=, *=, /=, ++, --`\n",
    "\n",
    "```c++\n",
    "int a = 10, b = 20, c = 0; \n",
    "a = b; // assigns b value to a value\n",
    "a = b + 60; // adds 60 to b value, then assigns that value to a\n",
    "a += 60; // same as previous\n",
    "a = 2*b; // multiplication. Here same as a *= b;\n",
    "a = b/3; // division, notice truncation for integers. a /= 3;\n",
    "a = b%7; // modulo operator, residue\n",
    "a = 10;\n",
    "b = 20; \n",
    "a = b++; // post increment\n",
    "a = 10;\n",
    "b = 20; \n",
    "a = ++b; // pre increment\n",
    "```\n",
    "\n",
    "### Comparison\n",
    "You have `==, !=, >, >=, <, <=`\n",
    "\n",
    "```c++\n",
    "int a = 10, b= 20;\n",
    "bool result = true;\n",
    "result = a == b; // is a value equal to b value\n",
    "result = a != b; // is a value different than b value\n",
    "result = a <= b; // is a value les or equal to b value\n",
    "```\n",
    "\n",
    "### Logic\n",
    "You have `&&, and, ||, or, !, not, &, |`\n",
    "\n",
    "```c++\n",
    "int a = 10, b = 20;\n",
    "bool result = false; \n",
    "result = (a < b) and (3*a == b); // and , && , at value level\n",
    "result = (a < b) or (3*a == b); // or, ||, at calue level\n",
    "int c = a & b; // at bits value\n",
    "```\n",
    "\n",
    "\n",
    "### Precedence\n",
    "Operators have a defined precedence: https://en.cppreference.com/w/cpp/language/operator_precedence\n",
    "\n",
    "### Exercises\n",
    "#### Arithmetic examples\n",
    "Write a program that shows examples for the arithmetic operators. Use a simple function (the main function must just call it).\n",
    "#### Comparison examples\n",
    "Write a program that shows examples for the comparison operators. Use a simple function (the main function must just call it).\n",
    "#### Logic operators\n",
    "Write a program that shows examples for the logic operators. Use a simple function (the main function must just call it).\n",
    "### Facebook genius \n",
    "What is the result of `6*2/3+1`? Make your prediction and then compute it. \n",
    "\n"
   ]
  },
  {
   "cell_type": "markdown",
   "id": "2e9911bc",
   "metadata": {},
   "source": [
    "## Functions\n",
    "See: https://hackingcpp.com/cpp/lang/function_basics.html\n",
    "\n",
    "Functions are of fundamental importance. They allow to encapsulate the implementation details and to create modular and more maintainable programs. Each function must do one thing well. Using functions also allows the program to be tested, profiled, and extended. Form now on, will keep clean the `main` function, and use it to call other functions. \n",
    "\n",
    "<div style=\"text-align: center;\">\n",
    "    <img src=\"https://hackingcpp.com/cpp/lang/function_terminology.svg\" alt=\"Image Description\" width=\"800\">\n",
    "    <figcaption>From: \"https://hackingcpp.com/cpp/lang/function_terminology.svg\"</figcaption>\n",
    "</div>\n",
    "\n",
    "There are many more details about functions, like passing by value/reference, return types, overloading, templates, lambdas, ..., but we will learn those details on the run. Please write the following code\n",
    "\n",
    "```c++\n",
    "//#include <iostream>\n",
    "#include <print> // compile with -std=c++23\n",
    "\n",
    "// function declaration: name and types\n",
    "double average(double a, double b); // a and b are LOCAL variables\n",
    "\n",
    "// main function. Execution starts here\n",
    "int main(int argc, char **argv) {\n",
    "    double x{2.35};\n",
    "    double y{4.987};\n",
    "    double avg = average(x, y); // x value copied to a, y value copied to b, result of calling assigned to avg\n",
    "    //std::cout << \"avg: \" << avg << \"\\n\";\n",
    "    std::print(\"avg: {0:20.16f}\\n\", avg);\n",
    "    \n",
    "    return 0;\n",
    "}\n",
    "\n",
    "// function implementation: how it does that\n",
    "double average(double a, double b) \n",
    "{\n",
    "    return (a+b)/2;\n",
    "}\n",
    "```\n",
    "Compile it and run it. From now on try to use functions all the time.\n",
    "\n",
    "### Exercises\n",
    "- Write a program that prints the number of primes less than $n$ for $n \\in [2, 1000]$. Plot it using either gnuplot or matplotlib"
   ]
  },
  {
   "cell_type": "markdown",
   "id": "99666ec0",
   "metadata": {},
   "source": [
    "## Conditionals\n",
    "This allows you to change the execution path according to a given condition. The general syntax is \n",
    "\n",
    "```c++\n",
    "if (condition) {\n",
    "  // do something if condition is true\n",
    "} else {\n",
    "  // Do something if condition is false. The else is not mandatory   \n",
    "}\n",
    "```\n",
    "\n",
    "You can add also `if ... else if ... else` as you want. Sometimes it would be more clear to use a `switch` statement. The `condition` can be as complex as you want.\n",
    "\n",
    "```c++\n",
    "if (condition 1) {\n",
    "  // perform action 1\n",
    "} else if (condition2 ) {\n",
    "  // perform action 2\n",
    "} else {\n",
    "  // perform action 3   \n",
    "}\n",
    "```\n",
    "\n"
   ]
  },
  {
   "cell_type": "code",
   "execution_count": 1,
   "id": "db6046ee",
   "metadata": {
    "ExecuteTime": {
     "end_time": "2023-07-26T15:18:55.612995Z",
     "start_time": "2023-07-26T15:18:55.593767Z"
    }
   },
   "outputs": [],
   "source": [
    "%load_ext nb_js_diagrammers"
   ]
  },
  {
   "cell_type": "code",
   "execution_count": 2,
   "id": "51608d5f",
   "metadata": {
    "ExecuteTime": {
     "end_time": "2023-07-26T14:34:55.349172Z",
     "start_time": "2023-07-26T14:34:55.346357Z"
    }
   },
   "outputs": [
    {
     "data": {
      "text/html": [
       "<iframe srcdoc=\"&lt;html&gt;\n",
       "    &lt;body&gt;\n",
       "        &lt;script src=&quot;https://cdn.jsdelivr.net/npm/mermaid/dist/mermaid.min.js&quot;&gt;&lt;/script&gt;\n",
       "        &lt;script&gt;\n",
       "            mermaid.initialize({ startOnLoad: true });\n",
       "        &lt;/script&gt;\n",
       " \n",
       "        &lt;div class=&quot;mermaid&quot;&gt;\n",
       "            graph LR\n",
       "    A[Start] --&gt;B{Condition 1}\n",
       "    B --&gt;|true| C[Action 1]\n",
       "    B --&gt;|else if| D{Condition 2}\n",
       "    D --&gt;|true| E[Action 2]\n",
       "    D --&gt;|false| F[Action 3]\n",
       "    C --&gt; X[End]\n",
       "    E --&gt; X\n",
       "    F --&gt; X\n",
       "        &lt;/div&gt;\n",
       " \n",
       "    &lt;/body&gt;\n",
       "&lt;/html&gt;\n",
       "\" width=\"100%\" height=\"250\"style=\"border:none !important;\" \"allowfullscreen\" \"webkitallowfullscreen\" \"mozallowfullscreen\"></iframe>"
      ],
      "text/plain": [
       "<nb_js_diagrammers.magics.JSDiagram at 0x1076e82f0>"
      ]
     },
     "execution_count": 2,
     "metadata": {},
     "output_type": "execute_result"
    }
   ],
   "source": [
    "%%mermaid_magic -h 250 \n",
    "graph LR\n",
    "    A[Start] -->B{Condition 1}\n",
    "    B -->|true| C[Action 1]\n",
    "    B -->|else if| D{Condition 2}\n",
    "    D -->|true| E[Action 2]\n",
    "    D -->|false| F[Action 3]\n",
    "    C --> X[End]\n",
    "    E --> X\n",
    "    F --> X\n"
   ]
  },
  {
   "cell_type": "markdown",
   "id": "c40b57df",
   "metadata": {},
   "source": [
    "**Example: Even/odd number**\n",
    "(Please notice that the goal here is to learn if/else and the modulo operator, but the reading interactively is something not advisable)"
   ]
  },
  {
   "cell_type": "markdown",
   "id": "f9a9abd8",
   "metadata": {
    "ExecuteTime": {
     "end_time": "2023-07-26T14:39:46.734610Z",
     "start_time": "2023-07-26T14:39:46.731786Z"
    }
   },
   "source": [
    "```c++\n",
    "#include <iostream>\n",
    "\n",
    "void read_check_even_odd(void);\n",
    "\n",
    "int main(int argc, char **argv)\n",
    "{\n",
    "  read_check_even_odd();\n",
    "  return 0;\n",
    "}\n",
    "\n",
    "void read_check_even_odd(void)\n",
    "{\n",
    "  int num = 0;\n",
    "\n",
    "  // solicitar el numero\n",
    "  std::cout << \"Escriba un numero entero, por favor:\\n\";\n",
    "  // leer el numero\n",
    "  std::cin >> num;\n",
    "  std::cout << num << \"\\n\";\n",
    "  \n",
    "  // verificar que el numero es par o no\n",
    "  // imprimir\n",
    "  // si el numero es par, imprimir \"el numero es par\"\n",
    "  // si no, imprimir \"el numero es impar\"\n",
    "  if (num%2 == 0) {\n",
    "    std::cout << \"El numero es par \\n\";\n",
    "  }\n",
    "  if (num%2 != 0) {\n",
    "    std::cout << \"El numero es impar \\n\";\n",
    "  }\n",
    "\n",
    "  //else {\n",
    "  //cout << \"El numero es impar\" << endl;\n",
    "  //}\n",
    "}\n",
    "\n",
    "```\n",
    "Compile and run it. As this is expecting to read from the terminal, run it in a real terminal, not on google collab."
   ]
  },
  {
   "cell_type": "markdown",
   "id": "cefcc8e2",
   "metadata": {},
   "source": [
    "### Exercises\n",
    "- You have to write a program that reads a number. If the number is smaller or equal than 10, verify if it is prime (you might need to write several if or if/else). If it is larger, write the message `Too large to verify manually`. To do so: \n",
    "  + Use https://draw.io to design the flow chart of the program\n",
    "  + Write the program and test it with several inputs.\n",
    "- Write a program that computes the harmonic sum until some limit. Write, in the main function some tests for it. \n",
    "- Write a game to guess a number; Every time you guess  the computer prints if the target is lrger ir smaller or prints the end of the game."
   ]
  },
  {
   "cell_type": "markdown",
   "id": "8948a8a7",
   "metadata": {},
   "source": [
    "## Loops\n",
    "See https://hackingcpp.com/cpp/lang/control_flow_basics.html"
   ]
  },
  {
   "cell_type": "markdown",
   "id": "91cf53c0",
   "metadata": {},
   "source": [
    "### Classical loops\n",
    "#### `for` loop\n",
    "Includes initialization, condition and step or change. Change must ensure reaching condition == false.\n",
    "\n",
    "```bash\n",
    "for (initialization; condition; change) { … }\n",
    "```\n",
    "\n",
    "```bash\n",
    "// prints 0 1 2 3 4\n",
    "for (int i = 0; i < 5; ++i) {\n",
    "  std::cout << i << ' ';\n",
    "}\n",
    "```"
   ]
  },
  {
   "cell_type": "code",
   "execution_count": 3,
   "id": "155684ee",
   "metadata": {
    "ExecuteTime": {
     "end_time": "2023-07-26T15:21:11.823838Z",
     "start_time": "2023-07-26T15:21:11.813774Z"
    }
   },
   "outputs": [
    {
     "data": {
      "text/html": [
       "<iframe srcdoc=\"&lt;html&gt;\n",
       "    &lt;body&gt;\n",
       "        &lt;script src=&quot;https://cdn.jsdelivr.net/npm/mermaid/dist/mermaid.min.js&quot;&gt;&lt;/script&gt;\n",
       "        &lt;script&gt;\n",
       "            mermaid.initialize({ startOnLoad: true });\n",
       "        &lt;/script&gt;\n",
       " \n",
       "        &lt;div class=&quot;mermaid&quot;&gt;\n",
       "            graph LR\n",
       "    A[Start] --&gt; B[Initialization]\n",
       "    B --&gt;|Condition| C{Condition true?}\n",
       "    C --&gt;|Yes| D[Instructions]\n",
       "    D --&gt; E[Step]\n",
       "    E --&gt;|Condition| C\n",
       "    C --&gt;|No| F[End]\n",
       "        &lt;/div&gt;\n",
       " \n",
       "    &lt;/body&gt;\n",
       "&lt;/html&gt;\n",
       "\" width=\"100%\" height=\"250\"style=\"border:none !important;\" \"allowfullscreen\" \"webkitallowfullscreen\" \"mozallowfullscreen\"></iframe>"
      ],
      "text/plain": [
       "<nb_js_diagrammers.magics.JSDiagram at 0x107ccdb80>"
      ]
     },
     "execution_count": 3,
     "metadata": {},
     "output_type": "execute_result"
    }
   ],
   "source": [
    "%%mermaid_magic -h 250\n",
    "graph LR\n",
    "    A[Start] --> B[Initialization]\n",
    "    B -->|Condition| C{Condition true?}\n",
    "    C -->|Yes| D[Instructions]\n",
    "    D --> E[Change]\n",
    "    E -->|Condition| C\n",
    "    C -->|No| F[End]"
   ]
  },
  {
   "cell_type": "markdown",
   "id": "d8a9d43e",
   "metadata": {},
   "source": [
    "#### `while` loop\n",
    "Repeat while condition is true.\n",
    "\n",
    "```bash\n",
    "init; \n",
    "while (condition) { … ; change; }\n",
    "```\n",
    "\n",
    "Example\n",
    "\n",
    "```cpp\n",
    "int j = 5;  \n",
    "while (j < 10) {\n",
    "  std::cout << j << ' ';\n",
    "  ++j;\n",
    "}\n",
    "```\n",
    "\n",
    "#### `do-while` loop\n",
    "Repeat while condition is true, BUT always do at least one step.\n",
    "\n",
    "```bash\n",
    "do { … } while (condition);\n",
    "```\n",
    "\n",
    "```bash\n",
    "int j = 10;\n",
    "do { \n",
    "  std::cout << j << ' ';\n",
    "  --j;\n",
    "} while (j > 0);\n",
    "```\n",
    "\n",
    "#### Flow control\n",
    "You can also add a `continue` or `break` inside a loop if you need it. A `continue` tells the program to ignore the lines in the loop behind it, and continue with the next iteration. A `break` exist the loop."
   ]
  },
  {
   "cell_type": "markdown",
   "id": "ced9da25",
   "metadata": {},
   "source": [
    "### Range based loops\n",
    "```bash\n",
    "for (variable : range) { … }\n",
    "```\n",
    "\n",
    "Example: this loop prints all the elements from the vector, separated by a space. The limits and types are deduced automatically.\n",
    "```c++\n",
    "std::vector<int> v {1,2,3,4,5};\n",
    "// print all elements of vector to console\n",
    "for (auto x : v)  { std::cout << x << ' '; }\n",
    "```"
   ]
  },
  {
   "cell_type": "markdown",
   "id": "19e75a63",
   "metadata": {},
   "source": [
    "### Exercises\n",
    "- Write a program that prints the numbers between 5 and 223 which are divisible by both 3 and 7. Print the numbers separated by a space, and a new line only at the end. Use the three types of classical loops (so your program must print the same three times)"
   ]
  },
  {
   "cell_type": "markdown",
   "id": "b1e94e28",
   "metadata": {},
   "source": [
    "- Write a program that checks if a given number is prime. "
   ]
  },
  {
   "cell_type": "markdown",
   "id": "e2ab09a0",
   "metadata": {},
   "source": [
    "- Write a program that computes the sum of the multiples of 3 and 5 in the range $1\\le x \\le 1123$.\n",
    "- Write a program that given a number, prints the sum of its digits\n",
    "- Write a program that checks if a number is palindrome"
   ]
  },
  {
   "cell_type": "markdown",
   "id": "6886c964",
   "metadata": {},
   "source": [
    "## Functions again\n",
    "See: https://hackingcpp.com/cpp/lang/function_basics.html\n",
    "\n",
    "Functions are of fundamental importance. They allow to encapsulate the implementation details and to create modular and more maintainable programs. Each function must do one thing well. Using functions also allows the program to be tested, profiled, and extended. Form now on, will keep clean the `main` function, and use it to call other functions. \n",
    "\n",
    "<div style=\"text-align: center;\">\n",
    "    <img src=\"https://hackingcpp.com/cpp/lang/function_terminology.svg\" alt=\"Image Description\" width=\"800\">\n",
    "    <figcaption>From: \"https://hackingcpp.com/cpp/lang/function_terminology.svg\"</figcaption>\n",
    "</div>\n",
    "\n",
    "There are many more details about functions, like passing by value/reference, return types, overloading, templates, lambdas, ..., but we will learn those details on the run."
   ]
  },
  {
   "cell_type": "markdown",
   "id": "aed8fb6e",
   "metadata": {},
   "source": [
    "<div style=\"text-align: center;\">\n",
    "    <img src=\"https://hackingcpp.com/cs/function_contracts_crop.svg\" alt=\"Image Description\" width=\"800\">\n",
    "    <figcaption>From: \"https://hackingcpp.com/cs/function_contracts_crop.svg\"</figcaption>\n",
    "</div>\n",
    "\n",
    "Some very useful functions for us:\n",
    "- Math standard library: https://en.cppreference.com/w/cpp/header/cmath\n",
    "- Special functions: https://en.cppreference.com/w/cpp/numeric/special_functions\n",
    "- Pseudo random numbers: https://en.cppreference.com/w/cpp/numeric/random\n",
    "- Complex numbers: https://en.cppreference.com/w/cpp/numeric/complex\n",
    "- Valarray (to emulate math vectors): https://en.cppreference.com/w/cpp/numeric/valarray\n",
    "- Numerics algorithms: https://en.cppreference.com/w/cpp/numeric#Numeric_algorithms"
   ]
  },
  {
   "cell_type": "markdown",
   "id": "f00c6c4b",
   "metadata": {},
   "source": [
    "### Exercises\n",
    "Write different programs to solve the following (use functions extensively):\n",
    "- Create a function that receives an integers and return true if it is a prime, false otherwise. Use it in the main function to print the primes from 1 up to 150.\n",
    "- Compute the sum of the prime numbers between 500 and 1234. \n",
    "- Prints the [cousin primes](https://en.wikipedia.org/wiki/Cousin_prime?useskin=vector) between 300 and 400.\n",
    "- Prints the [sexy primes](https://en.wikipedia.org/wiki/Sexy_prime?useskin=vector) tuples between 300 and 450. \n",
    "- Prints the [sexy primes](https://en.wikipedia.org/wiki/Sexy_prime?useskin=vector) triplets between 300 and 490.\n",
    "- Read https://hackingcpp.com/cpp/lang/command_line_arguments.html to be able to read command line arguments after processing `argc` and `argv`. Rewrite your previous programs to read the limits from the command line. You can also check https://faculty.cs.niu.edu/~mcmahon/CS241/Notes/command_line_arguments.html"
   ]
  },
  {
   "cell_type": "markdown",
   "id": "d864a927",
   "metadata": {},
   "source": [
    "## Workshop\n",
    "For all the following codes always modularize the files (separating the main function into another file) and write a test to be run with catch2. All parameters must be pased as command line parameters. Do not use `cin` or similar."
   ]
  },
  {
   "cell_type": "markdown",
   "id": "b21e95ef",
   "metadata": {},
   "source": [
    "### Multiples of 3 and 5\n",
    "Write a program that reads a number from the command line and prints the number divisible by 3 and 5 smaller or equal than that number."
   ]
  },
  {
   "cell_type": "markdown",
   "id": "007db278",
   "metadata": {},
   "source": [
    "### Square of *\n",
    "Write a program that reads a positive number from the command line and then prints a \"square\" with that number of asterisks. For example, `./a.out 5` must print\n",
    "  ```sh\n",
    "  *****\n",
    "  *   *\n",
    "  *   *\n",
    "  *   *\n",
    "  *****   \n",
    "  ```\n",
    "  "
   ]
  },
  {
   "cell_type": "markdown",
   "id": "7172bd03",
   "metadata": {},
   "source": [
    "### Square of any char\n",
    "Now generalize the previous program and read both the number of characters and the character to be used."
   ]
  },
  {
   "cell_type": "markdown",
   "id": "1d9bf4c6",
   "metadata": {},
   "source": [
    "### Fixing loops\n",
    "What is wrong with the following codes?\n",
    "  ```c++\n",
    "    for(;;) {\n",
    "\n",
    "    }\n",
    "  ```\n",
    "```c++\n",
    "    for(ii=0; ii>10; ++ii) {\n",
    "\n",
    "}  \n",
    "```\n",
    "### For and while loops\n",
    "- Transform the next loop into a `while` loop\n",
    "```c++\n",
    "    for (int i=1; i <= n; i++) {\n",
    "      std::cout << i*i << \" \";\n",
    "    }\n",
    "```"
   ]
  },
  {
   "cell_type": "markdown",
   "id": "074740a3",
   "metadata": {},
   "source": [
    "### Sum of squares and plot\n",
    "Write a program that reads a number from the command line and prints the sum of squares less than that number. Use it to plot the data."
   ]
  },
  {
   "cell_type": "markdown",
   "id": "a2676f3b",
   "metadata": {},
   "source": [
    "### Digits\n",
    "The program must read a number of four digits and print the digits, separated by a space. Some examples\n",
    "  ```bash\n",
    "./a.out 123\n",
    "0 1 2 3\n",
    "./a.out 2048\n",
    "2 0 4 8\n",
    "./a.out 3065\n",
    "3 0 6 5\n",
    "./a.out 10\n",
    "0 0 1 0\n",
    "./a.out 12345\n",
    "Number has more than 4 digits. Ignoring\n",
    "./a.out -1\n",
    "Negative number. Ignoring\n",
    "./a.out 0\n",
    "0 0 0 0\n",
    "```"
   ]
  },
  {
   "cell_type": "markdown",
   "id": "b127ab04",
   "metadata": {},
   "source": [
    "### Babilonian square root\n",
    "The babilonians found that to compute the square root of S, you can iterate the following expression\n",
    "$x \\leftarrow \\dfrac{x+S/x}{2}$. Implement this algorithm in a function that receives the number of iterations to perform and the returns the estimation. Print in scientific notation with 15 decimals of precision using the following instructions in the main function\n",
    "```c++\n",
    "std::cout.setf(std::ios::scientific); // imprimir en notacipn cientifica\n",
    "std::cout.precision(15);  // imprimir con 15 cifras decimales\n",
    "```\n",
    "Some tests:\n",
    "```sh\n",
    "./a.out 0\n",
    "0 1.000000000000000e+00\n",
    "./a.out 2\n",
    "2 1.416666666666667e+00\n",
    "./a.out 4\n",
    "4 1.414213562374690e+00\n",
    "./a.out 6\n",
    "6 1.414213562373095e+00\n",
    "./a.out 8\n",
    "8 1.414213562373095e+00\n",
    "./a.out 10\n",
    "10 1.414213562373095e+00\n",
    "```\n",
    "To print in that format you can also use a modern construct, `std::format`, available in the c++23 standard. Check https://en.cppreference.com/w/cpp/io/print . Or , if it is installed, you can use https://fmt.dev/latest/index.html  (also see https://hackingcpp.com/cpp/libs/fmt.html). Or if you prefer to be classic, you can use `printf`. "
   ]
  },
  {
   "cell_type": "markdown",
   "id": "c9bc7ba7",
   "metadata": {},
   "source": [
    "### Uncertainty\n",
    "Write a program that reads two floating-point numbers from the command line. One number represents the radius, and the other represents the uncertainty. Then, call a function that calculates and prints the area of the associated circle along with its propagated uncertainty. The area is calculated as , and the propagated uncertainty is $2\\pi r\\Delta r$. If you do it correctly, the uncertainty must have only one significant figure, and it limits the number of decimals in the main quantity."
   ]
  },
  {
   "cell_type": "markdown",
   "id": "8e538428",
   "metadata": {},
   "source": [
    "### Primes again\n",
    "Check or improve your program to compute if a number is prime to be able to compute it with 10000019 or larger in a couple of seconds at most."
   ]
  },
  {
   "cell_type": "markdown",
   "id": "6d45ad53",
   "metadata": {},
   "source": [
    "### Largest prime smaller than number\n",
    "Write a program that reads a positive integer from the command line and prints the largest prime number that is less than or equal to the input number. The code should execute in less than 30 seconds, even for large numbers like 10000019 (a prime number) or 10000030 (not a prime number).\n",
    "\n",
    "Some examples:\n",
    "```sh\n",
    "./a.out 2\n",
    "2\n",
    "./a.out 3\n",
    "3\n",
    "./a.out 7\n",
    "7\n",
    "./a.out 11\n",
    "11\n",
    "./a.out 12\n",
    "11\n",
    "./a.out 101\n",
    "101\n",
    "./a.out 617\n",
    "617\n",
    "./a.out 627\n",
    "619\n",
    "./a.out 5153\n",
    "5153\n",
    "./a.out 500167\n",
    "500167\n",
    "./a.out 8000033\n",
    "8000033\n",
    "./a.out 8000034\n",
    "8000033\n",
    "./a.out 80000069\n",
    "80000069\n",
    "./a.out 80000388\n",
    "80000387\n",
    "```"
   ]
  },
  {
   "cell_type": "markdown",
   "id": "6069a609",
   "metadata": {},
   "source": [
    "### GCD\n",
    "Write a program that reads two positive integers from the command line and prints their greatest common divisor (GCD). Check the standard library for an immediate solution"
   ]
  },
  {
   "cell_type": "markdown",
   "id": "fb2b2222",
   "metadata": {},
   "source": [
    "### Sum of primes\n",
    "Write a program that reads a positive integer from the command line and prints the sum of prime numbers that are less than the input number.\n",
    "\n"
   ]
  },
  {
   "cell_type": "markdown",
   "id": "0392865d",
   "metadata": {},
   "source": [
    "### Collatz largest number\n",
    "Write a program that reads a positive integer from the command line and calculates the largest term obtained in the Collatz sequence for that number."
   ]
  },
  {
   "cell_type": "markdown",
   "id": "13c486de",
   "metadata": {},
   "source": [
    "### Collatz number of terms\n",
    "Write a program that reads a positive integer from the command line and calculates the number of terms in the Collatz sequence for that number.\n"
   ]
  },
  {
   "cell_type": "markdown",
   "id": "4b67e514",
   "metadata": {},
   "source": [
    "### Sexy primes smaller than number\n",
    "\n",
    "Write a program that reads a positive integer from the command line and prints the sexy prime numbers that are less than the input number. Two prime numbers are \"sexy\" if they are separated by 6 (e.g., 5 and 11, or 13 and 19)."
   ]
  },
  {
   "cell_type": "markdown",
   "id": "02c1596a",
   "metadata": {},
   "source": [
    "### Using the standar library for time\n",
    "https://www.cppstories.com/2024/chrono_dates_zones/"
   ]
  },
  {
   "cell_type": "code",
   "execution_count": null,
   "id": "2cd0c81c-7d3a-44fa-8dca-317306d10c83",
   "metadata": {},
   "outputs": [],
   "source": []
  },
  {
   "cell_type": "markdown",
   "id": "c73a55da-4b98-40a6-ba90-a0ffa54246e7",
   "metadata": {},
   "source": [
    "## File modularization\n",
    "\n",
    "<div style=\"text-align: center;\">\n",
    "    <img src=\"https://hackingcpp.com/cpp/lang/separate_compilation_crop.svg\" alt=\"Image Description\" width=\"900\">\n",
    "    <figcaption>From: \"https://hackingcpp.com/cpp/lang/separate_compilation_crop.svg\"</figcaption>\n",
    "</div>\n",
    "\n",
    "As you can see, the basic function `is_prime` is used in all the problems, and we are repeating code per exercise. We can do better by modularizing the file, moving the utility functions to another file. Our structure would be something like:\n",
    "- `primes.h` : file with **DECLARATIONS** of all the functions we think we will use int the future\n",
    "  ```c++\n",
    "    #pragma once\n",
    "    bool is_prime(int n);\n",
    "    void print_sexy_primes(int a, int b);\n",
    "  ```\n",
    "- `primes.cpp` : file with the **IMPLEMENTATIONS** of the functions declared in `primes.h`\n",
    "  ```c++\n",
    "    #include \"primes.h\"\n",
    "    bool is_prime(int n)\n",
    "    {\n",
    "         // instructions\n",
    "    }\n",
    "\n",
    "    void print_sexy_primes(int a, int b)\n",
    "    {\n",
    "        // instructions to print the sexy primes in the specified range\n",
    "    }\n",
    "\n",
    "  ```\n",
    "  Notice that there is no `main` function.\n",
    "- `main_cousin.cpp`: The file where we solve this problem, and uses the primes utilities.\n",
    "  ```c++\n",
    "    #include <iostream>\n",
    "    #include <string>\n",
    "    #include \"primes.h\"\n",
    "\n",
    "    int main(int arg, char **argv) {\n",
    "        int minval = std::stoi(argv[1]);\n",
    "        int maxval = std::stoi(argv[2]);\n",
    "        print_sexy_numbers(minval, maxval);\n",
    "        return 0;\n",
    "    }\n",
    "    ```\n",
    "    Notice how the `main` function now is so simple, and its intent is clear, although we do not know the implementation. \n",
    "- Compilation:\n",
    "  ```sh\n",
    "  g++ -std=c++17 primes.cpp main_cousin.cpp -o cousin.x\n",
    "  ```\n",
    "- Execution\n",
    "  ```sh\n",
    "  ./cousin.x 200 400\n",
    "  ```\n",
    "\n",
    "**Exercise**\n",
    "Do this will all the functions previously written. So, include all the prime functions in the .h and .cpp files, and then create the corresponding main files. "
   ]
  },
  {
   "cell_type": "code",
   "execution_count": null,
   "id": "277c5930-d52a-4493-a76d-b21f885f60d8",
   "metadata": {},
   "outputs": [],
   "source": []
  },
  {
   "cell_type": "markdown",
   "id": "8f42a0f4-cc80-4c8d-87c7-8535e11dbccb",
   "metadata": {},
   "source": [
    "## Basic Testing\n",
    "Once we have modularized our code, not only using functions, but also files, it is possible to start testing our code so to be sure that we are not repeating old mistakes, etc. Here we will use [catch2](https://github.com/catchorg/Catch2) to do so, with a simple example: the prime function. The idea is that, for each bug/problem you find, to implement a test case so to avoid repeating that in the future. The following is an example file"
   ]
  },
  {
   "cell_type": "code",
   "execution_count": 25,
   "id": "8a2fbe4d",
   "metadata": {
    "ExecuteTime": {
     "end_time": "2023-07-26T16:16:17.047265Z",
     "start_time": "2023-07-26T16:16:17.039999Z"
    }
   },
   "outputs": [
    {
     "name": "stdout",
     "output_type": "stream",
     "text": [
      "Writing test_primes.cpp\n"
     ]
    }
   ],
   "source": [
    "%%writefile test_primes.cpp\n",
    "#include <catch2/catch_test_macros.hpp>\n",
    "#include <cstdint>\n",
    "#include \"primes.h\"\n",
    "\n",
    "TEST_CASE( \"Primes are computed\", \"[prime]\" ) {\n",
    "    REQUIRE( is_prime( 1) == true );\n",
    "    REQUIRE( is_prime( 2) == true );\n",
    "    REQUIRE( is_prime( 3) == true );\n",
    "    REQUIRE( is_prime(10) == false );\n",
    "}"
   ]
  },
  {
   "cell_type": "markdown",
   "id": "cd15af09-4b15-45e1-8291-559691836708",
   "metadata": {},
   "source": [
    "Now compile as (we are using catch2 version 3 and it must be installed on the path)\n",
    "\n",
    "```shell\n",
    "g++ primes.cpp test_primes.cpp  -l Catch2Main -l Catch2\n",
    "```\n",
    "\n",
    "and then run and you will get something like\n",
    "\n",
    "```sh\n",
    "./a.out \n",
    "Randomness seeded to: 3750912043\n",
    "===============================================================================\n",
    "All tests passed (4 assertions in 1 test case)\n",
    "```\n",
    "if everything is fine.\n",
    "\n",
    "Finally, you can automatize everything using a Makefile."
   ]
  },
  {
   "cell_type": "code",
   "execution_count": null,
   "id": "d1e73c02-97c1-498c-80fb-31f0195dd27c",
   "metadata": {},
   "outputs": [],
   "source": []
  },
  {
   "cell_type": "markdown",
   "id": "38ee6c42-5bf2-4aaa-b2aa-60060c99ad61",
   "metadata": {},
   "source": [
    "## Classes and structs\n",
    "In C++ you can program using object oriented programming. In our case, we will use this to encapsulate data and some functionality. An example in our domain would be the simulation of some planets orbits. We can have an array of data for the `x` positions, the `y` positions, the `z` positions, the velocities and so on. This can be overwhelming when indexing and processing. We might use a better computational model that resembles, better, the physical model. Our main object here is a planet. And a planet has several attributes, like its coordinates, its mass, radius, and so on. So it would be better if we can represent this as a new datatype, let's calle it a `Planet`. We can do it using structs or classes:\n",
    "```c++\n",
    "struct Planet {\n",
    "    // public attributes\n",
    "    std::valarray<double> R(3), V(3), F(3); // model position, velocity and force as vectors\n",
    "    double mass, radius;\n",
    "    \n",
    "    // public functions\n",
    "    double speed() {\n",
    "        return std::sqrt((V*V).sum());\n",
    "    }\n",
    "};\n",
    "```\n",
    "and then we can use it in the code as\n",
    "```c++\n",
    "...\n",
    "    Planet mercury, earth;\n",
    "... \n",
    "    mercury.speed();\n",
    "...\n",
    "    compute_force(earth, mercury);\n",
    "...\n",
    "```\n",
    "    \n",
    "You can also have private members using the keyword `private`. Classes and structs in c++ are basically, but in a class everything is private by default, while for a struct everything is public by default.\n",
    "\n",
    "As an exercise, create a struct or class to model a molecule.\n",
    "\n",
    "We will be using structs/classes to create generalized data and functions, called functors, after overloading the `()` operator. So our class will represent a function with internal state, something very powerful.  "
   ]
  }
 ],
 "metadata": {
  "kernelspec": {
   "display_name": "Python 3 (ipykernel)",
   "language": "python",
   "name": "python3"
  },
  "language_info": {
   "codemirror_mode": {
    "name": "ipython",
    "version": 3
   },
   "file_extension": ".py",
   "mimetype": "text/x-python",
   "name": "python",
   "nbconvert_exporter": "python",
   "pygments_lexer": "ipython3",
   "version": "3.12.11"
  },
  "toc": {
   "base_numbering": 1,
   "nav_menu": {},
   "number_sections": true,
   "sideBar": true,
   "skip_h1_title": false,
   "title_cell": "Table of Contents",
   "title_sidebar": "Contents",
   "toc_cell": false,
   "toc_position": {},
   "toc_section_display": true,
   "toc_window_display": false
  },
  "varInspector": {
   "cols": {
    "lenName": 16,
    "lenType": 16,
    "lenVar": 40
   },
   "kernels_config": {
    "python": {
     "delete_cmd_postfix": "",
     "delete_cmd_prefix": "del ",
     "library": "var_list.py",
     "varRefreshCmd": "print(var_dic_list())"
    },
    "r": {
     "delete_cmd_postfix": ") ",
     "delete_cmd_prefix": "rm(",
     "library": "var_list.r",
     "varRefreshCmd": "cat(var_dic_list()) "
    }
   },
   "types_to_exclude": [
    "module",
    "function",
    "builtin_function_or_method",
    "instance",
    "_Feature"
   ],
   "window_display": false
  }
 },
 "nbformat": 4,
 "nbformat_minor": 5
}

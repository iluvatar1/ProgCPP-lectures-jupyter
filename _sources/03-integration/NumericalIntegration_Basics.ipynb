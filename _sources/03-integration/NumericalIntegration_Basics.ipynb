{
 "cells": [
  {
   "cell_type": "markdown",
   "metadata": {
    "deletable": false,
    "id": "c9dc4273"
   },
   "source": [
    "# Numerical Integration\n",
    "Computing a numerical integral (or quadrature <https://en.wikipedia.org/wiki/Numerical_integration?useskin=vector>) is a typical problem that appears everywhere in numerical computing. The simple task of computing the error function, $f(x) = \\int_{0}^x e^{-t^2}$, requires the application of numerical techniques to calculate this (improper integral) over an arbitrary range.  \n",
    "\n",
    "In any numerical computing course you will start by exploring the trapezoidal and the simpsons rule. Here we are jus going to give the general formulation and then go directly to the functions given by scipy\n",
    "\n",
    "Let's compare several of the typical algorithms: <https://www.geogebra.org/m/WsZgaJcc>, and a beautiful visualization at <https://www.youtube.com/watch?v=FnJqaIESC2s>\n",
    "\n",
    "All numerical quadratures can be written as \n",
    "\n",
    "\\begin{equation}\n",
    "\\int_a^b dx\\  f(x) \\simeq \\sum_i w_i f(x_i) \\Delta x + \\epsilon,\n",
    "\\end{equation}\n",
    "where the weights $w_i$ and the error $\\epsilon$ depend on the method chosen (see <https://en.wikipedia.org/wiki/Newton%E2%80%93Cotes_formulas?useskin=vector>)."
   ]
  },
  {
   "cell_type": "markdown",
   "metadata": {
    "deletable": false,
    "editable": true,
    "id": "dc941ace",
    "slideshow": {
     "slide_type": ""
    },
    "tags": []
   },
   "source": [
    "## Trapezoidal rule\n",
    "Here the function between two points is approximated by a straight line and the te area covered by the trapezoid is added up. See: <https://en.wikipedia.org/wiki/Trapezoidal_rule>\n",
    "\n",
    "|<img src=\"https://upload.wikimedia.org/wikipedia/commons/thumb/d/d1/Integration_num_trapezes_notation.svg/330px-Integration_num_trapezes_notation.svg.png\" /> |<img src=\"https://upload.wikimedia.org/wikipedia/commons/thumb/7/7e/Trapezium2.gif/330px-Trapezium2.gif\" />|\n",
    "|-|-|\n",
    "|1-order interpolation|Better results for more intervals|\n",
    "\n",
    "\n",
    "Between two points, the integral is approximated as \n",
    "\n",
    "\\begin{equation}\n",
    "I (a, b) = \\int_a^b dx \\ f(x) \\simeq \\frac{b-a}{2} (f(a) + f(b)) + O_{local}(\\Delta x^3),\n",
    "\\end{equation}\n",
    "where the weights are ${1/2, 1/2}$.\n",
    "\n",
    "The integral between two points, $a$ and $b$, after dividing its length in $N$ intervals (N+1 points, regular partition) of size $\\Delta x = \\dfrac{b-a}{N}$, is given by\n",
    "\n",
    "$$\n",
    "\\int_a^b f(x) dx \\simeq \\Delta x \\left( \\frac{f(x_0)}{2} + \\sum_{k=1}^{N-1} f(x_k) +\\frac{f(x_N)}{2}\\right) + O_{global}(\\Delta x^{2}),\n",
    "$$\n",
    "\n",
    "where $x_k = x_0 + k \\Delta x$, $x_0 = a$, and $x_N=b$. The local error is accumulated $N$ times, so $O_{global} = N O_{local} = N*(b-a)/N^3 = (b-a)/N^2 = O_{global}(N^{-2}) = O_{global}(\\Delta x^{2}) $.\n",
    "\n",
    ":::{exercise}\n",
    "\n",
    "Now, please create a function to compute the integral of a function ($x^2$) using the trapezoid algorithm. \n",
    "\n",
    "OPTIONAL: Write the declaration and implementation on in `integration.h` and `integration.cpp`, respectively. \n",
    "\n",
    "It must fulfill the following tests\n",
    "\n",
    "```c++\n",
    "std::cout << trapezoid(0.0, 1.0, 10, fun) << \"\\n\";\n",
    "std::cout << trapezoid(0.0, 1.0, 1000, fun) << \"\\n\";\n",
    "std::cout << trapezoid(0.0, 1.0, 10000000, fun) << \"\\n\";\n",
    "```\n",
    "with results\n",
    "```bash\n",
    "0.3350000000000001\n",
    "0.33333349999999995\n",
    "0.33333333333333487\n",
    "```\n",
    "where fun is the square function.\n",
    ":::\n"
   ]
  },
  {
   "cell_type": "markdown",
   "metadata": {
    "editable": true,
    "id": "4a7aa291-fbd3-4060-a2cd-6a20180ee456",
    "slideshow": {
     "slide_type": ""
    },
    "tags": []
   },
   "source": [
    ":::{exercise}\n",
    "Now use your implementation to compute the error function as a function of $x$, using the partition shown. Your program must print also the relative error, comparing with the \"exact\" value from https://en.cppreference.com/w/cpp/numeric/math/erf . Print your data to `erf_data.txt` (print the x value, the numerical value of the integral, and the relative error)\n",
    "\\begin{equation}\n",
    "f(x) = \\frac{2}{\\sqrt{\\pi}}\\int_0^x e^{-t^2} dt\n",
    "\\end{equation}\n",
    "\n",
    "$x \\in [0, 10]$, $\\Delta x = 0.1$\n",
    "\n",
    "$f(x=0), f(x=0+0.1), f(x=0+2\\times 0.1), f(x=0+3\\times 0.1), \\ldots$\n",
    ":::"
   ]
  },
  {
   "cell_type": "markdown",
   "metadata": {
    "id": "37c40843"
   },
   "source": [
    "\n",
    "You can use the following python script as a template script to plot the data\n",
    "\n",
    "```python\n",
    "import matplotlib.pyplot as plt\n",
    "import seaborn as sns\n",
    "import numpy as np  \n",
    "sns.set_context('poster')\n",
    "\n",
    "x, erf, error = np.genfromtxt('erf_data.txt', unpack=True)\n",
    "fig, ax = plt.subplots(1, 2)\n",
    "ax[0].plot(x, erf, '-o', label=\"err function\")\n",
    "ax[0].legend()\n",
    "ax[1].plot(x, error, '-s', label=\"relative error\")\n",
    "ax[1].legend()\n",
    "ax[1].loglog()\n",
    "```"
   ]
  },
  {
   "cell_type": "code",
   "execution_count": null,
   "metadata": {
    "ExecuteTime": {
     "end_time": "2022-08-26T13:37:22.643242Z",
     "start_time": "2022-08-26T13:37:22.636203Z"
    },
    "deletable": false,
    "id": "5d9c4746",
    "nbgrader": {
     "checksum": "4287060a26a94960b48cd0944ee00977",
     "grade": false,
     "grade_id": "cell-e03b1776d310babb",
     "locked": false,
     "schema_version": 3,
     "solution": true,
     "task": false
    }
   },
   "outputs": [],
   "source": []
  },
  {
   "cell_type": "markdown",
   "metadata": {
    "deletable": false,
    "editable": true,
    "id": "18e71430",
    "jp-MarkdownHeadingCollapsed": true,
    "nbgrader": {
     "checksum": "76420bd473d9d6c3497c1997fc96a422",
     "grade": false,
     "grade_id": "cell-392f63ac8bbc90b1",
     "locked": true,
     "schema_version": 3,
     "solution": false,
     "task": false
    },
    "slideshow": {
     "slide_type": ""
    },
    "tags": []
   },
   "source": [
    "## Simpsons rule\n",
    "In this case, the method uses three discrete points and approximate the function as a parabola (second order polynomial), to improve the numerical integral computation. See: https://en.wikipedia.org/wiki/Simpson%27s_rule\n",
    "\n",
    "|<img src=\"https://upload.wikimedia.org/wikipedia/commons/thumb/c/ca/Simpsons_method_illustration.svg/440px-Simpsons_method_illustration.svg.png\" width=300 /> |<img src=\"https://upload.wikimedia.org/wikipedia/commons/thumb/6/67/Simpsonsrule2.gif/440px-Simpsonsrule2.gif\" />|\n",
    "|-|-|\n",
    "|2-order interpolation|Better results for more intervals|\n",
    "\n",
    "Between two points, the integral is \n",
    "\\begin{equation}\n",
    "I(a, b, 2) = \\int_a^b dx\\ f(x) \\simeq \\frac{b-a}{6} \\left[ f(a) + 4f(\\frac{a+b}{2}) + f(b)\\right] + O_{local}(\\Delta x^5),\n",
    "\\end{equation}\n",
    "so the weights are $\\{1/6, 4/6, 1/6\\}$.\n",
    "\n",
    "\n",
    "\n",
    "Now, using a partition,  you compute the integral as\n",
    "\\begin{equation}\n",
    "\\int_a^b f(x) dx \\simeq \\frac{\\Delta x}{3}\\left( f(x_0) + 4 \\sum_{k=1}^{N/2} f(x_{2k-1}) + 2\\sum_{k=1}^{N/2-1} f(x_{2k}) + f(x_N)\\right) + O_{global}(N^{-4}).\n",
    "\\end{equation}\n",
    "Notice that $N$ must be even, and $\\Delta x = \\dfrac{b-a}{N}$, so $O_{global}(\\Delta x^4) = O_{global}(N^{-4})$.\n",
    "\n",
    "Now let's implement it. Please add a new function to the `integration.*` files , that implements the simpsons rule.\n",
    "\n",
    "```c++\n",
    "std::cout << simpson(0.0, 1.0, 10) << \"\\n\";\n",
    "```\n",
    "\n"
   ]
  },
  {
   "cell_type": "markdown",
   "metadata": {
    "editable": true,
    "id": "JbdXoOhMEUCe",
    "slideshow": {
     "slide_type": ""
    },
    "tags": []
   },
   "source": [
    "Should give"
   ]
  },
  {
   "cell_type": "markdown",
   "metadata": {
    "editable": true,
    "id": "ZXhj732WEc1U",
    "slideshow": {
     "slide_type": ""
    },
    "tags": []
   },
   "source": [
    "```shell\n",
    "0.3333333333333333\n",
    "```"
   ]
  },
  {
   "cell_type": "markdown",
   "metadata": {
    "editable": true,
    "slideshow": {
     "slide_type": ""
    },
    "tags": []
   },
   "source": [
    "## Romberg method\n",
    "The [Romberg Method](https://en.wikipedia.org/wiki/Romberg%27s_method) applies Richardson extrapolation to the given integration technique. The implementation is completely analogous as for the derivatives case.\n",
    "\n",
    ":::{exercise}\n",
    "Implement it for the previous method shown and compare the errors as a function of $N$, the number of intervals. Use the err function and fix $x = 0.54432$.\n",
    ":::"
   ]
  },
  {
   "cell_type": "markdown",
   "metadata": {
    "editable": true,
    "id": "3HmDmnb2I0V-",
    "slideshow": {
     "slide_type": ""
    },
    "tags": []
   },
   "source": [
    "### Other techniques\n",
    "There are ways to improve the previous algorithms to decrease the error: using  higher order decompositions, using [Adaptative techniques](https://en.wikipedia.org/wiki/Adaptive_Simpson%27s_method), using [Gaussian quadrature](https://en.wikipedia.org/wiki/Gaussian_quadrature), mixing some of these techniques, etc. But implementing those methods by hand would be a daunting task.\n",
    "\n",
    "NOTE: When you have tabular data, you will be almost forced to use either the trapezoid or the simpsons method. You could also first interpolate the data and then integrate."
   ]
  },
  {
   "cell_type": "markdown",
   "metadata": {
    "editable": true,
    "id": "7ya7pY8XJK_l",
    "slideshow": {
     "slide_type": ""
    },
    "tags": []
   },
   "source": [
    "## Gaussian quadrature: Introduction to vectors\n",
    "[Gaussian quadrature](https://en.wikipedia.org/wiki/Gaussian_quadrature?useskin=vector) is a very clever technique that allows to compute integrals with a high precision and minimal number of points. First, notice that any numerical integral method can be written as\n",
    "\n",
    "\\begin{equation}\n",
    "I(a, b) \\simeq \\sum w_k f(x_k) \\Delta x,\n",
    "\\end{equation}\n",
    "where the partition size can be $\\Delta x = \\dfrac{b-a}{N}$ and \n",
    "\\begin{equation}\n",
    "x_k = a + k \\Delta x .\n",
    "\\end{equation}\n",
    "Notice that the points coordinates are fixed. Here $x_k$ are the evaluation points and $w_k$ the associated weights. \n",
    "\n",
    "For example, going back to the previous techniques, the trapezoid rule can be written as ($N=1$) \n",
    "\\begin{equation}\n",
    "I (a, b) = \\int_a^b dx \\ f(x) \\simeq \\frac{b-a}{2} (f(a) + f(b)),\n",
    "\\end{equation}\n",
    "so we have\n",
    "- weights: $w = \\{ 1/2, 1/2\\}$\n",
    "- points: $x = \\{a, b\\}$.\n",
    "\n",
    "And for Simpsons rule we have (minimum two points)\n",
    "\\begin{equation}\n",
    "I(a, b) = \\int_a^b dx\\ f(x) \\simeq \\frac{b-a}{6} \\left[ f(a) + 4f(\\frac{a+b}{2}) + f(b)\\right],\n",
    "\\end{equation}\n",
    "so we have \n",
    "- weights: $w = \\{1/6, 4/6, 1/6\\}$\n",
    "- points: $\\{a, (a+b)/2, b\\}$.\n",
    "\n",
    "What if you don't fix the $x_i$ to a uniform spacing, but, instead, try to compute both their optimal positions plus the optimal weights so you compute exactly the integral for an interpolating polynomial of degree $2n-1$, using $n$ points? that is the basic idea behind the Gaussian quadrature method. The modern formulation, thanks to Jacobi, uses orthogonal polynomials, usually in the [-1, 1] domain (**so you need to re-scale your data when you are integrating from $[a, b]$**). For instace using just to points will give an integral exact up to a polynomial of degree 3. **Just two points ...** \n",
    "\n",
    "\n",
    "<div style=\"text-align: center;\">\n",
    "    <img src=\"https://upload.wikimedia.org/wikipedia/commons/thumb/9/93/Comparison_Gaussquad_trapezoidal.svg/660px-Comparison_Gaussquad_trapezoidal.svg.png\" alt=\"Image Description\" width=\"600\">\n",
    "    <figcaption>From: \"https://upload.wikimedia.org/wikipedia/commons/thumb/9/93/Comparison_Gaussquad_trapezoidal.svg/660px-Comparison_Gaussquad_trapezoidal.svg.png\"</figcaption>\n",
    "</div>\n",
    "\n",
    "In this image, it is illustrated that although the Gaussian method uses only two points, it is exact since the integration is done on a 3-degree polynomial. Here, the integrand is $y(x) = 7x^3 -8x^2 -rx -3$  . The exact integral value is 2/3. The trapezoid method, using two points, gives -10, forcing to use the composite trapezoid method, using much more numbers. The Gauss-Legendre, with just points (strategically chosen), gives the exact value.   "
   ]
  },
  {
   "cell_type": "markdown",
   "metadata": {
    "editable": true,
    "slideshow": {
     "slide_type": ""
    },
    "tags": []
   },
   "source": [
    "### Deduction of points and weights for the 2 point Gauss-Legendre method\n",
    "The two-point rule approximates an integral as:\n",
    "$$\\int_{-1}^{1} f(x) \\,dx \\approx w_0 f(x_0) + w_1 f(x_1)$$\n",
    "We need to find the four unknown parameters: the weights **$w_0, w_1$** and the points **$x_0, x_1$**. We can do this by requiring the formula to be perfectly accurate for polynomials of the highest possible degree, which for four unknowns is degree 3 ($2n-1 = 2(2)-1 = 3$).\n",
    "\n",
    "---\n",
    "\n",
    "#### Method 1: The Exactness Method\n",
    "\n",
    "This method involves creating a system of equations by enforcing that the approximation is exact for $f(x) = 1, x, x^2,$ and $x^3$.\n",
    "\n",
    "1.  **For $f(x) = 1$ (Degree 0):**\n",
    "    * **Exact Integral:** $\\int_{-1}^{1} 1 \\,dx = 2$\n",
    "    * **Approximation:** $w_0(1) + w_1(1) = w_0 + w_1$\n",
    "    * **Equation 1:** $w_0 + w_1 = 2$\n",
    "\n",
    "2.  **For $f(x) = x$ (Degree 1):**\n",
    "    * **Exact Integral:** $\\int_{-1}^{1} x \\,dx = 0$\n",
    "    * **Approximation:** $w_0(x_0) + w_1(x_1)$\n",
    "    * **Equation 2:** $w_0 x_0 + w_1 x_1 = 0$\n",
    "\n",
    "3.  **For $f(x) = x^2$ (Degree 2):**\n",
    "    * **Exact Integral:** $\\int_{-1}^{1} x^2 \\,dx = \\frac{2}{3}$\n",
    "    * **Approximation:** $w_0(x_0^2) + w_1(x_1^2)$\n",
    "    * **Equation 3:** $w_0 x_0^2 + w_1 x_1^2 = \\frac{2}{3}$\n",
    "\n",
    "4.  **For $f(x) = x^3$ (Degree 3):**\n",
    "    * **Exact Integral:** $\\int_{-1}^{1} x^3 \\,dx = 0$\n",
    "    * **Approximation:** $w_0(x_0^3) + w_1(x_1^3)$\n",
    "    * **Equation 4:** $w_0 x_0^3 + w_1 x_1^3 = 0$\n",
    "\n",
    "Now, we solve this system. Due to the symmetry of the interval $[-1, 1]$, we can assume a symmetric solution where **$w_0 = w_1$** and **$x_1 = -x_0$**.\n",
    "\n",
    "* From Equation 1: If $w_0=w_1$, then $w_0 + w_0 = 2 \\implies 2w_0 = 2 \\implies \\mathbf{w_0 = 1}$. Consequently, **$w_1 = 1$**.\n",
    "\n",
    "* This solution ($w_0=w_1=1$ and $x_1=-x_0$) automatically satisfies Equations 2 and 4.\n",
    "\n",
    "* Finally, we use Equation 3 to find the points:\n",
    "    $$w_0 x_0^2 + w_1 x_1^2 = \\frac{2}{3}$$\n",
    "    $$(1) x_0^2 + (1) (-x_0)^2 = \\frac{2}{3}$$\n",
    "    $$x_0^2 + x_0^2 = \\frac{2}{3}$$\n",
    "    $$2x_0^2 = \\frac{2}{3} \\implies x_0^2 = \\frac{1}{3}$$\n",
    "    This gives the two points: **$x_0 = -\\frac{1}{\\sqrt{3}}$** and **$x_1 = \\frac{1}{\\sqrt{3}}$**.\n",
    "\n",
    "\n",
    "\n",
    "#### Method 2: Using Legendre Polynomials\n",
    "\n",
    "A more general method states that for an $n$-point rule, the points $x_i$ are the roots of the $n$-th degree Legendre Polynomial, $P_n(x)$.\n",
    "\n",
    "For our two-point rule, $n=2$. The second-degree Legendre Polynomial is:\n",
    "$$P_2(x) = \\frac{1}{2}(3x^2 - 1)$$\n",
    "Finding the roots means setting $P_2(x) = 0$:\n",
    "$$\\frac{1}{2}(3x^2 - 1) = 0 \\implies 3x^2 = 1 \\implies x = \\pm \\frac{1}{\\sqrt{3}}$$\n",
    "This confirms our points: **$x_0 = -1/\\sqrt{3}$** and **$x_1 = 1/\\sqrt{3}$**.\n",
    "\n",
    "The corresponding weights $w_i$ are calculated with the formula:\n",
    "$$w_i = \\frac{2}{(1-x_i^2)[P'_n(x_i)]^2}$$\n",
    "First, we need the derivative of $P_2(x)$:\n",
    "$$P'_2(x) = \\frac{d}{dx}\\left[\\frac{1}{2}(3x^2 - 1)\\right] = 3x$$\n",
    "Now we compute the weights:\n",
    "* For **$x_0 = -1/\\sqrt{3}$**:\n",
    "    $w_0 = \\frac{2}{(1-(-1/\\sqrt{3})^2)[3(-1/\\sqrt{3})]^2} = \\frac{2}{(1-1/3)[-\\sqrt{3}]^2} = \\frac{2}{(2/3)(3)} = \\mathbf{1}$\n",
    "\n",
    "* For **$x_1 = 1/\\sqrt{3}$**:\n",
    "    $w_1 = \\frac{2}{(1-(1/\\sqrt{3})^2)[3(1/\\sqrt{3})]^2} = \\frac{2}{(1-1/3)[\\sqrt{3}]^2} = \\frac{2}{(2/3)(3)} = \\mathbf{1}$\n",
    "\n",
    "\n",
    "\n",
    "#### Summary\n",
    "\n",
    "For the two-point Gauss-Legendre quadrature, the 0-indexed points and weights are:\n",
    "* **Weights:** $w_0 = 1$, $w_1 = 1$\n",
    "* **Points:** $x_0 = -\\frac{1}{\\sqrt{3}}$, $x_1 = \\frac{1}{\\sqrt{3}}$\n",
    "\n",
    "The final approximation formula is:\n",
    "$$\\int_{-1}^{1} f(x) \\,dx \\approx (1)f\\left(-\\frac{1}{\\sqrt{3}}\\right) + (1)f\\left(\\frac{1}{\\sqrt{3}}\\right)$$"
   ]
  },
  {
   "cell_type": "markdown",
   "metadata": {
    "editable": true,
    "id": "7ya7pY8XJK_l",
    "jp-MarkdownHeadingCollapsed": true,
    "slideshow": {
     "slide_type": ""
    },
    "tags": []
   },
   "source": [
    ":::{exercise} Gauss-Legendre quadrature with 2 points\n",
    "For the Gauss-Legendre formulation, you can check the weights at <https://en.wikipedia.org/wiki/Gaussian_quadrature?useskin=vector#Gauss%E2%80%93Legendre_quadrature>. Interpret the table. Now implement the 2 point Gauss-Legendre quadrature and test the figure results.\n",
    ":::\n",
    "\n",
    ":::{exercise}\n",
    "Can Richardson extrapolation be applied to the Gauss quadrature method?\n",
    ":::\n",
    "\n",
    "## Scalling integration intervals\n",
    "\n",
    "To successfully apply the Gaussian quadrature technique to a general integral on the interval [a, b], we need to map it to the interval [-1, 1]. Basically you want a new $x'$ such that $x = a$ ($b$) when $x' = 1$ (-1). Once such linear mapping is\n",
    "\\begin{equation}\n",
    "x = \\frac{b-a}{2}x' + \\frac{b+a}{2},\n",
    "\\end{equation}\n",
    "therefore\n",
    "\\begin{equation}\n",
    "\\int_a^b f(x) dx \\simeq \\frac{b-a}{2} \\sum w_k f\\left(\\frac{b-a}{2}x_k' + \\frac{b+a}{2}\\right),\n",
    "\\end{equation}\n",
    "using both the $w_i$ and $x_i'$ from the method.\n",
    "\n",
    ":::{exercise} Gauss - Legendre on general intervals\n",
    "Extend the previous to compute the integral on a general interval $[a, b]$. Test that it is still working for the original interval , and then compute the integral of $\\sin(e^x)$ for $x \\in [-5.0, 5.0]$, using the two point Gauss-Legendre method. Compare with both trapezoid and simpson with 2 points. How many points do you need in thee methods to achieve a comparable precision as gauss legendre 2 points? \n"
   ]
  },
  {
   "cell_type": "markdown",
   "metadata": {
    "editable": true,
    "id": "7ya7pY8XJK_l",
    "jp-MarkdownHeadingCollapsed": true,
    "slideshow": {
     "slide_type": ""
    },
    "tags": []
   },
   "source": [
    "## Higher order Gauss-Legendre: using a vector to store the weights/points.\n",
    "For an increasing number of points, you will need to use many variables to store the weights. For a degree $n=5$, you will need five variables to store the weights, five more for the points, and then manually process that. It will be much better to store them in an data structure that allow us to handle the operations in a generic way. In this case, it will be a `std::vector`, which allows us to store data, contiguously in memory, and process it using simple for loops (SIMD).\n",
    "\n",
    "Our declaration could be\n",
    "```cpp\n",
    "double gauss_5(double a, double b, fptr fun);\n",
    "```\n",
    "and its implementation (you need to finish it)\n",
    "```cpp\n",
    "double gauss_5(double a, double b, fptr fun)\n",
    "{\n",
    "    std::vector<double> x(5); // store five points in the array\n",
    "    std::vector<double> w(5); // store five weights in the array\n",
    "    // initialize the data, sorted from left to right\n",
    "    x[0] = -std::sqrt(5 + 2std::sqrt(10/7));\n",
    "    x[1] = -std::sqrt(5 - 2std::sqrt(10/7));\n",
    "    x[2] = 0.0;\n",
    "    // ...\n",
    "    w[0] = (322 - 13*std::sqrt(70))/(900);\n",
    "    w[1] = (322 + 13*std::sqrt(70))/(900);\n",
    "    w[2] = 128.0/255.0;\n",
    "    //...\n",
    "    // compute the integral\n",
    "    double result = 0.0;\n",
    "    for (int ii = 0; ii < 5; ++ii) {\n",
    "        result += w[ii]*fun((b-a)*x[ii]/2 + (b+a)/2);\n",
    "    }\n",
    "    return result*???;\n",
    "}\n",
    "```\n",
    "\n",
    "Notice how easy is to process data in an array.\n",
    "\n",
    "Now finish the implementation, and print the error, as a function of $x$, computing the err function, comparing the relative errors  with trapezoid, simpson, trapezoid+richardson, simpson+trapezoid, gauss_5. Plot it."
   ]
  },
  {
   "cell_type": "markdown",
   "metadata": {
    "editable": true,
    "id": "FbQNflmjJHg8",
    "slideshow": {
     "slide_type": ""
    },
    "tags": []
   },
   "source": [
    "## Exercises\n",
    "### Gauss quadrature of order 7\n",
    "(REF: Sirca, Computational Methods in Physics. Also\n",
    "<https://en.wikipedia.org/wiki/Gaussian_quadrature>)\n",
    "\n",
    "The next table shows the points positions and weights for the Gaussian integral\n",
    "of order 7, $G_7$,\n",
    "\n",
    "| Nodes position | Weigths |\n",
    "|:---:|:---:|\n",
    "| $\\pm 0.949107912342759$ | 0.129484966168870 |\n",
    "| $\\pm 0.741531185599394$ | 0.279705391489277 |\n",
    "| $\\pm 0.405845151377397$ | 0.381830050505119 |\n",
    "| $0.000000000000000$ | 0.417959183673469 |\n",
    "\n",
    "\n",
    "1.  Implement the $G_7$ method. Integrate the function $\\sin\\sqrt x$ on the interval $[2,\n",
    "       8.7]$. The exact indefinite integral is $2\\sin\\sqrt x - 2\\sqrt x\\cos\\sqrt x$.\n",
    "    \n",
    "    <table border=\"2\" cellspacing=\"0\" cellpadding=\"6\" rules=\"groups\" frame=\"hsides\">\n",
    "    \n",
    "    \n",
    "    <colgroup>\n",
    "    <col  class=\"org-left\" />\n",
    "    \n",
    "    <col  class=\"org-right\" />\n",
    "    </colgroup>\n",
    "    <tbody>\n",
    "    <tr>\n",
    "    <td class=\"org-left\">G7:</td>\n",
    "    <td class=\"org-right\">4.637955250321647</td>\n",
    "    </tr>\n",
    "    \n",
    "    \n",
    "    <tr>\n",
    "    <td class=\"org-left\">Exact:</td>\n",
    "    <td class=\"org-right\">4.637955200036554</td>\n",
    "    </tr>\n",
    "    </tbody>\n",
    "    </table>\n",
    "\n",
    "2.  Compute the err function as a function of $x \\in [0, 10.0]$ in steps of\n",
    "    $0.05$, using both $G_7$ and Simpson+Richardson and plot the relative\n",
    "    difference with the &ldquo;exact&rdquo; function `std::erf`\n",
    "    (<https://en.cppreference.com/w/cpp/numeric/math/erf>).\n",
    "\n",
    "For more coefficients and higer orders, see <https://pomax.github.io/bezierinfo/legendre-gauss.html>\n"
   ]
  },
  {
   "cell_type": "markdown",
   "metadata": {
    "editable": true,
    "slideshow": {
     "slide_type": ""
    },
    "tags": []
   },
   "source": [
    "### Cumulative probability\n",
    "The probability density function for the [Gamma distribution](https://en.wikipedia.org/wiki/Gamma_distribution) is\n",
    "\n",
    "\\begin{equation}\n",
    "f(x; \\alpha, \\beta) = \\frac{x^{\\alpha -1} \\cdot e^{-x/\\beta} }{\\beta^\\alpha \\cdot \\Gamma(\\alpha)},\n",
    "\\end{equation}\n",
    "\n",
    "\n",
    "para $0 < x < \\infty$. Compute and plot the cumulative density function, using\n",
    "both the simpson method and the gaussian $g_7$, defined as\n",
    "\n",
    "\\begin{equation}\n",
    "F(x; \\alpha, \\beta) = \\int_0^x dt f(t; \\alpha, \\beta),\n",
    "\\end{equation}\n",
    "\n",
    "for $x \\in [0.0, 20.0]$, with $\\alpha = 7.5, \\beta = 1.0$.\n",
    "\n"
   ]
  },
  {
   "cell_type": "markdown",
   "metadata": {
    "editable": true,
    "slideshow": {
     "slide_type": ""
    },
    "tags": []
   },
   "source": [
    "### Di-logarithm function\n",
    "The di-logarithm function is defined as\n",
    "\n",
    "\\begin{equation}\n",
    "\\mathrm{Li}_2(x) = -\\int_0^x \\frac{\\ln(1-t)}{t} dt.\n",
    "\\end{equation}\n",
    "\n",
    "Plot the di-logarithm function for $x \\in (0.0, 1.0)$. If you use simpson,\n",
    "always make sure that the error is less than $10^{-6}$. You might need to\n",
    "transform the variable and/or split the integral to avoid numerical problems.\n",
    "\n"
   ]
  },
  {
   "cell_type": "markdown",
   "metadata": {
    "editable": true,
    "slideshow": {
     "slide_type": ""
    },
    "tags": []
   },
   "source": [
    "### Moment distribution\n",
    "The kth moment for a probability distribution is\n",
    "\n",
    "\\begin{equation}\n",
    "\\lt x^k \\gt = \\int x^k f(x) dx,\n",
    "\\end{equation}\n",
    "\n",
    "Compute the first ten moments for the  [Gamma distribution](https://en.wikipedia.org/wiki/Gamma_distribution) ,\n",
    "\n",
    "\\begin{equation}\n",
    "f(x; \\alpha, \\beta) = \\frac{\\beta^\\alpha}{\\Gamma(\\alpha) x^{\\alpha -1} e^{-\\beta x} }.\n",
    "\\end{equation}\n",
    "\n"
   ]
  },
  {
   "cell_type": "markdown",
   "metadata": {},
   "source": [
    "### Arch lenght, mass, centroid\n",
    "\n",
    "The arc length of a curve $y(x)$ is given by\n",
    "\n",
    "\\begin{equation}\n",
    "s = \\int_a^b dx \\sqrt{1 + \\left(\\frac{dy}{dx}  \\right)^2}.\n",
    "\\end{equation}\n",
    "\n",
    "If a linear body has a density $\\rho(x)$, the total mass would be\n",
    "\n",
    "\\begin{equation}\n",
    "M = \\int \\rho(x) ds.\n",
    "\\end{equation}\n",
    "\n",
    "The $x$ position of the centroid can also be computed as\n",
    "\n",
    "\\begin{equation}\n",
    "\\overline x = \\frac{\\int x\\rho ds}{\\int \\rho ds}\n",
    "\\end{equation}\n",
    "\n",
    "1.  (Boas, Mathematical Physics) Compute the arch length for the catenary $y =\n",
    "       \\cosh x$ between $x=-1$ and $x=1$.\n",
    "2.  For a chain with shape $x^2$, with density $|x|$, between $x = -1$ and $x=1$,\n",
    "    compute\n",
    "    1.  The arc length\n",
    "    2.  The total mass $M$\n",
    "    3.  $\\overline x$\n",
    "    4.  $\\overline y$\n",
    "\n"
   ]
  },
  {
   "cell_type": "markdown",
   "metadata": {
    "editable": true,
    "slideshow": {
     "slide_type": ""
    },
    "tags": []
   },
   "source": [
    "### Integrating a datafile\n",
    "\n",
    "The following data (file `accel.txt`) represents the acceleration of a car as a\n",
    "function of time\n",
    "\n",
    "<table border=\"2\" cellspacing=\"0\" cellpadding=\"6\" rules=\"groups\" frame=\"hsides\">\n",
    "\n",
    "\n",
    "<colgroup>\n",
    "<col  class=\"org-right\" />\n",
    "\n",
    "<col  class=\"org-right\" />\n",
    "</colgroup>\n",
    "<tbody>\n",
    "<tr>\n",
    "<td class=\"org-right\">0.5</td>\n",
    "<td class=\"org-right\">2</td>\n",
    "</tr>\n",
    "\n",
    "\n",
    "<tr>\n",
    "<td class=\"org-right\">1</td>\n",
    "<td class=\"org-right\">3</td>\n",
    "</tr>\n",
    "\n",
    "\n",
    "<tr>\n",
    "<td class=\"org-right\">1.3</td>\n",
    "<td class=\"org-right\">3.6</td>\n",
    "</tr>\n",
    "\n",
    "\n",
    "<tr>\n",
    "<td class=\"org-right\">1.7</td>\n",
    "<td class=\"org-right\">4.4</td>\n",
    "</tr>\n",
    "\n",
    "\n",
    "<tr>\n",
    "<td class=\"org-right\">1.9</td>\n",
    "<td class=\"org-right\">4.15</td>\n",
    "</tr>\n",
    "\n",
    "\n",
    "<tr>\n",
    "<td class=\"org-right\">2.1</td>\n",
    "<td class=\"org-right\">3.85</td>\n",
    "</tr>\n",
    "\n",
    "\n",
    "<tr>\n",
    "<td class=\"org-right\">2.5</td>\n",
    "<td class=\"org-right\">3.25</td>\n",
    "</tr>\n",
    "\n",
    "\n",
    "<tr>\n",
    "<td class=\"org-right\">2.9</td>\n",
    "<td class=\"org-right\">2.65</td>\n",
    "</tr>\n",
    "</tbody>\n",
    "</table>\n",
    "\n",
    "Save the data into the corresponding file. Then write a program to read the data\n",
    "and compute the velocity as a function of time by integrating at each time step.\n",
    "\n"
   ]
  },
  {
   "cell_type": "code",
   "execution_count": null,
   "metadata": {
    "editable": true,
    "slideshow": {
     "slide_type": ""
    },
    "tags": []
   },
   "outputs": [],
   "source": []
  }
 ],
 "metadata": {
  "colab": {
   "provenance": []
  },
  "kernelspec": {
   "display_name": "Python 3 (ipykernel)",
   "language": "python",
   "name": "python3"
  },
  "language_info": {
   "codemirror_mode": {
    "name": "ipython",
    "version": 3
   },
   "file_extension": ".py",
   "mimetype": "text/x-python",
   "name": "python",
   "nbconvert_exporter": "python",
   "pygments_lexer": "ipython3",
   "version": "3.12.11"
  }
 },
 "nbformat": 4,
 "nbformat_minor": 4
}

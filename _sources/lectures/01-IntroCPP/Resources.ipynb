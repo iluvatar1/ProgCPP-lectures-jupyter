{
 "cells": [
  {
   "cell_type": "markdown",
   "id": "f9e3ef15-8abb-4e10-8c03-9d217e0dbc49",
   "metadata": {},
   "source": [
    "# Resources\n",
    "\n",
    "\n",
    "## Presentations and resources\n",
    "- https://tinyurl.com/ProgCPP-Presentations\n",
    "- https://www.learncpp.com/\n",
    "- https://en.cppreference.com/w/\n",
    "- https://hackingcpp.com/cpp/cheat_sheets.html\n",
    "- https://quickref.me/cpp\n",
    "- https://www.udacity.com/course/c-for-programmers--ud210\n",
    "- https://iluvatar.bitbucket.io/ProgCPP/\n",
    "- https://github.com/federico-busato/Modern-CPP-Programming\n",
    "- https://nick-black.com/dankwiki/index.php/Book_list_for_streetfighting_computer_scientists\n",
    "- https://www.youtube.com/watch?v=l0qvxPPISuY&list=PLVlQHNRLflP8_DGKcMoRw-TYJJALgGu4J\n",
    "\n",
    "\n",
    "## Shell/bash/terminal\n",
    "\n",
    "- https://swcarpentry.github.io/shell-novice/\n",
    "- http://swcarpentry.github.io/shell-novice-es\n",
    "- https://github.com/phyver/GameShell\n",
    "- https://overthewire.org/wargames/bandit/\n",
    "- https://github.com/learnbyexample/TUI-apps/tree/main\n",
    "\n",
    "## git\n",
    "\n",
    "- https://swcarpentry.github.io/git-novice/\n",
    "- http://swcarpentry.github.io/git-novice-es\n",
    "- https://ohmygit.org/\n",
    "\n",
    "## About c++\n",
    "\n",
    "- https://survey.stackoverflow.co/2022/#technology-top-paying-technologies\n",
    "- https://survey.stackoverflow.co/2022/#most-popular-technologies-language-prof\n",
    "- https://www.codecademy.com/resources/blog/what-is-c-plus-plus-used-for/\n",
    "- https://github.com/fffaraz/awesome-cpp\n",
    "- https://theartofhpc.com/\n",
    "\n",
    "\n"
   ]
  },
  {
   "cell_type": "code",
   "execution_count": null,
   "id": "8a88b008-cc1c-4471-a597-a8ac62f72b7c",
   "metadata": {},
   "outputs": [],
   "source": []
  }
 ],
 "metadata": {
  "kernelspec": {
   "display_name": "Python 3 (ipykernel)",
   "language": "python",
   "name": "python3"
  },
  "language_info": {
   "codemirror_mode": {
    "name": "ipython",
    "version": 3
   },
   "file_extension": ".py",
   "mimetype": "text/x-python",
   "name": "python",
   "nbconvert_exporter": "python",
   "pygments_lexer": "ipython3",
   "version": "3.12.5"
  }
 },
 "nbformat": 4,
 "nbformat_minor": 5
}

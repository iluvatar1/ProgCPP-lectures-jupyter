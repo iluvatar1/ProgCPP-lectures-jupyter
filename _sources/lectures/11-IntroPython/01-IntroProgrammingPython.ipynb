{
 "cells": [
  {
   "cell_type": "markdown",
   "id": "db249f1b",
   "metadata": {
    "slideshow": {
     "slide_type": "slide"
    }
   },
   "source": [
    "# Python Programming (very fast) Introduction\n",
    "\n",
    "## Importing modules\n",
    "Python has an extensive standard library (https://docs.python.org/3/library/) to perform several task in optimized and easy-to-use way. For basic mathematical operations you can just use the normal operators, but for other standard functions, like `sin`, you could import the standard `math` module, or , much better, use either `numpy` or `scipy` modules\n",
    "```python\n",
    "import math as m # imports the math module with an alias m\n",
    "# import math # imports math module but you need to use math.sin or math.cos\n",
    "# from math import * # DO NOT do this: exposes all inners from math\n",
    "\n",
    "x = 5.2\n",
    "y = m.sin(x)\n",
    "print(x, y)\n",
    "```\n",
    "\n",
    "<div class=\"alert alert-block alert-info\">\n",
    "<b>Exercise:</b> Copy and execute the previous code in the following cell (use shift+enter to execute) \n",
    "</div>"
   ]
  },
  {
   "cell_type": "code",
   "execution_count": null,
   "id": "d678ca14",
   "metadata": {
    "deletable": false,
    "nbgrader": {
     "cell_type": "code",
     "checksum": "013f937e702eceac3ba76eed805f13eb",
     "grade": false,
     "grade_id": "cell-1d206d3930590507",
     "locked": false,
     "schema_version": 3,
     "solution": true,
     "task": false
    },
    "slideshow": {
     "slide_type": "fragment"
    }
   },
   "outputs": [],
   "source": [
    "# YOUR CODE HERE\n",
    "raise NotImplementedError()"
   ]
  },
  {
   "cell_type": "markdown",
   "id": "e764d184",
   "metadata": {
    "slideshow": {
     "slide_type": "slide"
    }
   },
   "source": [
    "<div class=\"alert alert-block alert-info\">\n",
    "<b>Exercise:</b> Now replace math by numpy and execute it. Is there any difference?\n",
    "</div>"
   ]
  },
  {
   "cell_type": "code",
   "execution_count": null,
   "id": "ae71e6e5",
   "metadata": {
    "deletable": false,
    "nbgrader": {
     "cell_type": "code",
     "checksum": "9da8f546de4900093f1745c47b9f3c1b",
     "grade": false,
     "grade_id": "cell-d2ac73e7587d20db",
     "locked": false,
     "schema_version": 3,
     "solution": true,
     "task": false
    }
   },
   "outputs": [],
   "source": [
    "# YOUR CODE HERE\n",
    "raise NotImplementedError()"
   ]
  },
  {
   "cell_type": "markdown",
   "id": "a43061ac",
   "metadata": {
    "slideshow": {
     "slide_type": "slide"
    }
   },
   "source": [
    "## Looking for help\n",
    "What are the units of the argument for the `sin` function? Are there any other functions provided by the `numpy` module? Check the documentation using either google or, inside a notebook\n",
    "```\n",
    "help(np.sin)\n",
    "help(np)\n",
    "np.sin?\n",
    "```"
   ]
  },
  {
   "cell_type": "code",
   "execution_count": null,
   "id": "fcbb3796",
   "metadata": {
    "slideshow": {
     "slide_type": "fragment"
    }
   },
   "outputs": [],
   "source": [
    "import numpy as np\n",
    "help(np.sin)"
   ]
  },
  {
   "cell_type": "markdown",
   "id": "9325c476",
   "metadata": {
    "slideshow": {
     "slide_type": "slide"
    }
   },
   "source": [
    "## Printing and reading to and from the screen\n",
    "\n",
    "You have already seen how to print to the screen. To read, you can use the function call ```input```. Try it:"
   ]
  },
  {
   "cell_type": "code",
   "execution_count": null,
   "id": "9f802577",
   "metadata": {
    "slideshow": {
     "slide_type": "subslide"
    }
   },
   "outputs": [],
   "source": [
    "var = input(\"Please write something :\\t\")\n",
    "print(\"You have written : \" + var)\n",
    "print(f\"You have written : {var}\") # uses a f-string: https://realpython.com/python-f-strings/"
   ]
  },
  {
   "cell_type": "markdown",
   "id": "a3661b56",
   "metadata": {
    "slideshow": {
     "slide_type": "slide"
    }
   },
   "source": [
    "You can also format the printing string, like you have done in c/c++ . For example, you can write something like"
   ]
  },
  {
   "cell_type": "code",
   "execution_count": null,
   "id": "ef0a991d",
   "metadata": {
    "slideshow": {
     "slide_type": "fragment"
    }
   },
   "outputs": [],
   "source": [
    "x = 5\n",
    "y = 2.34\n",
    "print(\"x = %04d \\t y = %.1f \\n y=%20.16e\\n\"%(x, y, y))\n",
    "print(f\"x = {x:04d} \\t y = {y:.1f} \\n y={y:20.16e}\")"
   ]
  },
  {
   "cell_type": "markdown",
   "id": "a524a70e",
   "metadata": {
    "slideshow": {
     "slide_type": "skip"
    }
   },
   "source": [
    "Note: if you need to manipulate strings and numbers, you should cast the number to string by using ```str```, as in ```str(x)``` ."
   ]
  },
  {
   "cell_type": "markdown",
   "id": "38bfdca5",
   "metadata": {},
   "source": [
    "<div class=\"alert alert-block alert-info\">\n",
    "<b>Exercise:</b> Print the sum of two numbers with 5 decimals, filled with 0, and in field of 10 spaces \n",
    "</div>"
   ]
  },
  {
   "cell_type": "code",
   "execution_count": null,
   "id": "ada119c8",
   "metadata": {
    "deletable": false,
    "nbgrader": {
     "cell_type": "code",
     "checksum": "466c25d15691e643883b9259e27f0a3c",
     "grade": false,
     "grade_id": "squares",
     "locked": false,
     "schema_version": 3,
     "solution": true
    },
    "tags": []
   },
   "outputs": [],
   "source": [
    "x = 32.6\n",
    "y = -4.7\n",
    "# YOUR CODE HERE\n",
    "raise NotImplementedError()"
   ]
  },
  {
   "cell_type": "markdown",
   "id": "d86019ad",
   "metadata": {
    "slideshow": {
     "slide_type": "slide"
    }
   },
   "source": [
    "## Selection structures : `if`, `if else`\n",
    "\n",
    "This is a simple example on how to use if to select from several options"
   ]
  },
  {
   "cell_type": "code",
   "execution_count": null,
   "id": "7dfc52e0",
   "metadata": {
    "slideshow": {
     "slide_type": "fragment"
    }
   },
   "outputs": [],
   "source": [
    "m = 5\n",
    "if m < 1:\n",
    "    print (f\"{m} is smaller than 1\")\n",
    "elif 1 <= m <= 4:\n",
    "    print (f\"{m} is in between 1 and 4\")\n",
    "else :\n",
    "    print (f\"{m} is larger than 4\")"
   ]
  },
  {
   "cell_type": "markdown",
   "id": "733dc92b",
   "metadata": {
    "slideshow": {
     "slide_type": "subslide"
    }
   },
   "source": [
    "You can also compare values directly, or even compare several values"
   ]
  },
  {
   "cell_type": "code",
   "execution_count": null,
   "id": "a754eb61",
   "metadata": {
    "ExecuteTime": {
     "end_time": "2018-09-13T19:07:18.645052Z",
     "start_time": "2018-09-13T19:07:18.625357Z"
    },
    "slideshow": {
     "slide_type": "fragment"
    }
   },
   "outputs": [],
   "source": [
    "print(2 == 3)\n",
    "print(2 == 2 and 3 > 9)\n",
    "print([2, 3] == [3, 2])\n",
    "print([2, 3] == [2, 2])\n",
    "print([2, 3] == [2, 3])"
   ]
  },
  {
   "cell_type": "markdown",
   "id": "660801e8",
   "metadata": {},
   "source": [
    "<div class=\"alert alert-block alert-info\">\n",
    "<b>Exercise:</b> Read a number and indicate if the number is even or odd \n",
    "</div>"
   ]
  },
  {
   "cell_type": "code",
   "execution_count": null,
   "id": "6cc9dedc",
   "metadata": {
    "deletable": false,
    "nbgrader": {
     "cell_type": "code",
     "checksum": "a5ec35ebd41df13616479519c30fb84e",
     "grade": false,
     "grade_id": "cell-8ccf3fbf15c165e4",
     "locked": false,
     "schema_version": 3,
     "solution": true,
     "task": false
    }
   },
   "outputs": [],
   "source": [
    "# YOUR CODE HERE\n",
    "raise NotImplementedError()"
   ]
  },
  {
   "cell_type": "markdown",
   "id": "1c8de545",
   "metadata": {
    "slideshow": {
     "slide_type": "slide"
    }
   },
   "source": [
    "## Loop structures: for and while"
   ]
  },
  {
   "cell_type": "code",
   "execution_count": null,
   "id": "1a551dfe",
   "metadata": {
    "slideshow": {
     "slide_type": "fragment"
    }
   },
   "outputs": [],
   "source": [
    "N = 5\n",
    "i = 0\n",
    "while i < N:\n",
    "    print (i, end=\" \")\n",
    "    i = i+1"
   ]
  },
  {
   "cell_type": "code",
   "execution_count": null,
   "id": "9bfd3b21",
   "metadata": {},
   "outputs": [],
   "source": [
    "for ii in range(1, 10):\n",
    "    print(f\"{ii}\", end=\" \")"
   ]
  },
  {
   "cell_type": "code",
   "execution_count": null,
   "id": "2283e079",
   "metadata": {
    "slideshow": {
     "slide_type": "fragment"
    }
   },
   "outputs": [],
   "source": [
    "name = \"My name\" # a string is an array for characters\n",
    "for c in name:\n",
    "    print (c, end=\"-\")\n",
    "print()\n",
    "print(name[0])\n",
    "print(name[-1])"
   ]
  },
  {
   "cell_type": "markdown",
   "id": "e69a4278",
   "metadata": {},
   "source": [
    "<div class=\"alert alert-block alert-info\">\n",
    "<b>Exercise:</b> Print values from 0.0, to 1.0 (exclusive), in steps of 0.05 \n",
    "</div>"
   ]
  },
  {
   "cell_type": "code",
   "execution_count": null,
   "id": "a65204a7",
   "metadata": {
    "deletable": false,
    "nbgrader": {
     "cell_type": "code",
     "checksum": "3a81dc7c34d9e4c7b7882e47d39744bc",
     "grade": false,
     "grade_id": "cell-a83db8b3e865fef8",
     "locked": false,
     "schema_version": 3,
     "solution": true,
     "task": false
    }
   },
   "outputs": [],
   "source": [
    "# ii = 0.0\n",
    "# while ii < 1.0:\n",
    "#     print(ii)\n",
    "#     ii = ii + 0.05\n",
    "# YOUR CODE HERE\n",
    "raise NotImplementedError()"
   ]
  },
  {
   "cell_type": "markdown",
   "id": "6068369a",
   "metadata": {},
   "source": [
    "<div class=\"alert alert-block alert-info\">\n",
    "<b>Exercise:</b> Now use numpy to do the same (check for the linspace function) \n",
    "</div>"
   ]
  },
  {
   "cell_type": "code",
   "execution_count": null,
   "id": "ca6d48dd",
   "metadata": {
    "deletable": false,
    "nbgrader": {
     "cell_type": "code",
     "checksum": "736337b68b68d7d3c52bc14f5b4adb5d",
     "grade": false,
     "grade_id": "cell-4d62b200c665b8ab",
     "locked": false,
     "schema_version": 3,
     "solution": true,
     "task": false
    }
   },
   "outputs": [],
   "source": [
    "# YOUR CODE HERE\n",
    "raise NotImplementedError()"
   ]
  },
  {
   "cell_type": "markdown",
   "id": "6933e7c3",
   "metadata": {
    "slideshow": {
     "slide_type": "slide"
    }
   },
   "source": [
    "## How to declare functions\n",
    "Functions are the next construct necessary for the a good program design. A function should be defined by using the keyword ```def``` ."
   ]
  },
  {
   "cell_type": "code",
   "execution_count": null,
   "id": "b73ea2a6",
   "metadata": {
    "slideshow": {
     "slide_type": "fragment"
    }
   },
   "outputs": [],
   "source": [
    "def my_function() : \n",
    "    print (\"I am the function\")\n",
    "    \n",
    "my_function() # this calls the function    \n"
   ]
  },
  {
   "cell_type": "code",
   "execution_count": null,
   "id": "65b0bb39",
   "metadata": {
    "slideshow": {
     "slide_type": "subslide"
    }
   },
   "outputs": [],
   "source": [
    "# this shows how to pass arguments\n",
    "def my_function(x):\n",
    "    print (f\"Value of argument is {x}\")\n",
    "    \n",
    "#my_function() # error, requires argument\n",
    "my_function(-3)\n",
    "my_function(0.9)\n"
   ]
  },
  {
   "cell_type": "code",
   "execution_count": null,
   "id": "ec9123b1",
   "metadata": {
    "slideshow": {
     "slide_type": "subslide"
    }
   },
   "outputs": [],
   "source": [
    "# this shows how to pass arguments, and assign default values\n",
    "def my_function(x = 0):\n",
    "    print (f\"Value of argument is {x}\")\n",
    "    \n",
    "my_function() # no longer an error\n",
    "my_function(-3)"
   ]
  },
  {
   "cell_type": "code",
   "execution_count": null,
   "id": "b309a7ed",
   "metadata": {
    "slideshow": {
     "slide_type": "subslide"
    }
   },
   "outputs": [],
   "source": [
    "# this shows how to pass arguments, assign default values, and also calls by named arguments\n",
    "def my_function(x = 0, y = 1):\n",
    "    print (\"Calling my_function\")\n",
    "    print (\"x \" + str(x))\n",
    "    print (\"y \" + str(y))\n",
    "    \n",
    "my_function() # no longer an error\n",
    "my_function(-3, 2) # x = -3, y = -2\n",
    "my_function(y=-3, x=2) # x = 2, y = -3"
   ]
  },
  {
   "cell_type": "markdown",
   "id": "32e324e1",
   "metadata": {},
   "source": [
    "## Exercises"
   ]
  },
  {
   "cell_type": "markdown",
   "id": "ad127444",
   "metadata": {
    "tags": []
   },
   "source": [
    "### Convert from Farenheit to Celcius\n",
    "Write a function that receives a temperature in F and prints it in C "
   ]
  },
  {
   "cell_type": "code",
   "execution_count": null,
   "id": "37a2ed2c",
   "metadata": {
    "deletable": false,
    "nbgrader": {
     "cell_type": "code",
     "checksum": "102dd30e077fdbba266c1887ec95ad50",
     "grade": false,
     "grade_id": "cell-6d72db8e857ab57e",
     "locked": false,
     "schema_version": 3,
     "solution": true,
     "task": false
    }
   },
   "outputs": [],
   "source": [
    "def FtoC(f):\n",
    "# YOUR CODE HERE\n",
    "raise NotImplementedError()"
   ]
  },
  {
   "cell_type": "code",
   "execution_count": null,
   "id": "d521b907",
   "metadata": {
    "deletable": false,
    "editable": false,
    "nbgrader": {
     "cell_type": "code",
     "checksum": "8673e7b1bc643c30c3531a223ea15e18",
     "grade": true,
     "grade_id": "cell-0764b89cea883781",
     "locked": true,
     "points": 0,
     "schema_version": 3,
     "solution": false,
     "task": false
    }
   },
   "outputs": [],
   "source": [
    "assert FtoC(0) == \"The temperature 0 F is equivalent to -17.78 C\"\n",
    "assert FtoC(10.3) == \"The temperature 10.3 F is equivalent to -12.06 C\""
   ]
  },
  {
   "cell_type": "markdown",
   "id": "45050b4b",
   "metadata": {},
   "source": [
    "### Triangle vertexes\n",
    "The coordinates for the vertexes of a given triangle are written into a file in the form  \\begin{align*}x_1\\ \\ \\  y_1\\\\x_2\\ \\ \\  y_2\\\\x_3\\ \\ \\ y_3  \\end{align*} Write a program that reads this values, and computes the area of the triangle, defined as $$ A = \\frac{1}{2}[x_2y_3 - x_3y_2 - x_1y_3 + x_3y_1 + x_1y_2 - x_2y_1]$$. Use functions."
   ]
  },
  {
   "cell_type": "markdown",
   "id": "2e09c8b2-6520-462c-b9a3-f0a96d824b1c",
   "metadata": {},
   "source": [
    "### RC circuit\n",
    "Write a Python program that uses a loop to simulate the behavior of an RC circuit. The program should ask the user for the resistance and capacitance values of the circuit and should calculate the voltage across the capacitor as a function of time. The program should then create a plot of the voltage across the capacitor versus time."
   ]
  },
  {
   "cell_type": "markdown",
   "id": "aa4f189f-5587-4dc9-8878-3e1766f204a5",
   "metadata": {},
   "source": [
    "### Spring system\n",
    "Write a Python program that uses a loop to simulate the motion of a mass-spring system. The program should ask the user for the mass of the object, the spring constant, and the initial displacement from equilibrium. The program should then calculate the position of the object as a function of time and create a plot of the position versus time."
   ]
  },
  {
   "cell_type": "markdown",
   "id": "e6384411-9c0c-470e-a170-b0f57de59042",
   "metadata": {},
   "source": [
    "### Projectile\n",
    "Write a Python program that uses a loop to simulate the motion of a projectile under the influence of gravity. The program should ask the user for the initial velocity and launch angle of the projectile, and should calculate the trajectory of the projectile over time. The program should then create a plot of the trajectory of the projectile. Use the Euler integration algorithm to compute the next position and velocity. Compare adding a damping linear force with air. "
   ]
  },
  {
   "cell_type": "markdown",
   "id": "e0f3e175-48e7-4e29-8103-a7b4b5d06179",
   "metadata": {},
   "source": [
    "### Random numbers\n",
    "Write a Python program that reads three integers N, lower, upper, and generates a list of N random integers between lower and upper, inclusive. The program should then print out the number of integers in the list that are even and the number of integers that are odd. Finally, the program should create a bar chart that shows the number of even and odd integers in the list. Then create 4 plots with increasing N showing that limit distribution of even and odd numbers."
   ]
  },
  {
   "cell_type": "markdown",
   "id": "bccef613-630c-4df5-8cd7-a08c88c96993",
   "metadata": {},
   "source": [
    "### Heatmap\n",
    "\n",
    "Write a Python function that takes an integer n as input and returns a NumPy array of size n x n, where the elements of the array are random integers between lower and upper, which are also arguments of the function. Write a second function that takes the NumPy array as input and creates a heatmap of the array. Use these functions to create a program that generates a mxm NumPy array of random integers and displays it as a heatmap. Use several m\n"
   ]
  },
  {
   "cell_type": "markdown",
   "id": "d24e7a08-aced-4f59-a25f-e5622419892e",
   "metadata": {},
   "source": [
    "### Fitting with scipy\n",
    "Here we will learn how to perform a non-linear fit. To do so, we will generate some random data and then fit it. First, create a function that represents the theoretical trend that you want to fit. Now create two numpy arrays, xdata and ydata. For xdata use the linspace function on the range you are interested in. For ydata use the theoretical function and add a gaussian noise for each point. Now use the scipy.curve_fit function to fit the data, and print the fit parameters and their errors. Plot both the data and the fit."
   ]
  },
  {
   "cell_type": "code",
   "execution_count": null,
   "id": "eb44e16e-1b88-49b3-b72f-154cb332b25e",
   "metadata": {},
   "outputs": [],
   "source": []
  }
 ],
 "metadata": {
  "kernelspec": {
   "display_name": "Python 3 (ipykernel)",
   "language": "python",
   "name": "python3"
  },
  "language_info": {
   "codemirror_mode": {
    "name": "ipython",
    "version": 3
   },
   "file_extension": ".py",
   "mimetype": "text/x-python",
   "name": "python",
   "nbconvert_exporter": "python",
   "pygments_lexer": "ipython3",
   "version": "3.12.6"
  },
  "latex_envs": {
   "LaTeX_envs_menu_present": true,
   "autoclose": true,
   "autocomplete": true,
   "bibliofile": "biblio.bib",
   "cite_by": "apalike",
   "current_citInitial": 1,
   "eqLabelWithNumbers": true,
   "eqNumInitial": 1,
   "hotkeys": {
    "equation": "Ctrl-E",
    "itemize": "Ctrl-I"
   },
   "labels_anchors": false,
   "latex_user_defs": false,
   "report_style_numbering": false,
   "user_envs_cfg": false
  },
  "toc": {
   "base_numbering": 1,
   "nav_menu": {},
   "number_sections": true,
   "sideBar": true,
   "skip_h1_title": false,
   "title_cell": "Table of Contents",
   "title_sidebar": "Contents",
   "toc_cell": false,
   "toc_position": {},
   "toc_section_display": true,
   "toc_window_display": true
  },
  "varInspector": {
   "cols": {
    "lenName": 16,
    "lenType": 16,
    "lenVar": 40
   },
   "kernels_config": {
    "python": {
     "delete_cmd_postfix": "",
     "delete_cmd_prefix": "del ",
     "library": "var_list.py",
     "varRefreshCmd": "print(var_dic_list())"
    },
    "r": {
     "delete_cmd_postfix": ") ",
     "delete_cmd_prefix": "rm(",
     "library": "var_list.r",
     "varRefreshCmd": "cat(var_dic_list()) "
    }
   },
   "types_to_exclude": [
    "module",
    "function",
    "builtin_function_or_method",
    "instance",
    "_Feature"
   ],
   "window_display": false
  }
 },
 "nbformat": 4,
 "nbformat_minor": 5
}
